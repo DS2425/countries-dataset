{
 "cells": [
  {
   "cell_type": "markdown",
   "metadata": {},
   "source": [
    "### Visualisation\n",
    "\n",
    "To provide a tool that could help us to understand the way data is distributed in two specific dimensions from our dataset, we also include a dashboard to explore the different combinations of data representation through scatter plots.\n",
    "\n",
    "To achieve this goal, we used the Shiny package. More specifically, we focused on learning the implementation of [Shiny express](https://shiny.posit.co/blog/posts/shiny-express/), a completely new syntax for writing Shiny apps in python.\n",
    "\n",
    "The dashboard gives the user a real-time interaction with the data as it makes it possible to change the displayed columns, at the same time that it integrates a basic KNN clustering method to show us an approximation of the way that countries from clusters."
   ]
  },
  {
   "cell_type": "markdown",
   "metadata": {},
   "source": [
    "### How to use the dashboard\n",
    "\n",
    "To effectively run the dashboard, first, make sure that you have every needed dependency listed on the `requirements.txt` on the root of the project installed on your computer.\n",
    "\n",
    "In case you are also using Visual Studio Code as environment, it would be useful to install Shiny - VS Code Extension from the Extension marketplace manager as we show in the following image.\n",
    "\n",
    "![](assets/images/marketplace.png \"Shiny in Visual Studio Marketplace\")"
   ]
  },
  {
   "cell_type": "markdown",
   "metadata": {},
   "source": [
    "\n",
    "After that, you need to execute the `app.py` script. Shiny needs this file to recognise it as the parent of the project to properly run it. It's strongly advised to keep your python console open, since it will provide the localhost URL in case you didn't install the extension before. If the extension was installed, you will be able to view and interact on the right of the screen with the dashboard.\n",
    "\n",
    "![](assets/images/run_shiny.png \"Shiny in Visual Studio Extension\")\n",
    "\n",
    "For an improved experience using the dashboard, you can access it through your browser as long as you keep it running on Visual Studio. This will allow for a far better visualisation of the data and ease of use of the different functionalities that the dashboard offers."
   ]
  },
  {
   "cell_type": "markdown",
   "metadata": {},
   "source": [
    "![](assets/images/dashboard.png \"Dashboard interface\")\n",
    "\n",
    "+ 1.- **Scatter plot** : We use a scatter plot to display the data. We only include numerical attributes.\n",
    "+ 2.- **Y axis** : A dropdown to choose the attribute on the Y axis. The attributes are alphabetically ordered.\n",
    "+ 3.- **X axis** : A dropdown to choose the attribute on the X axis. The attributes are alphabetically ordered.\n",
    "+ 4.- **Swap button** : This button swaps the column selected on the X axis with the one selected on the Y axis.\n",
    "+ 5.- **Group slider** : This allows you to choose the desired amount of groups used to fit the KNN model with the data.\n",
    "+ 6.- **Group legend** : Displays the amount of groups along the colour linked to each group.\n",
    "+ 7.- **Attribute removal switch** : This switch is inactive at the start. Activating it shows the functionalities on the top that perform feature selection based on variable importance depending on an attribute used as a group predictor in a regression function.\n",
    "+ 8.- **Attribute slider** : This slider allows you to choose the number of attributes to be discarded from zero to half of the total number of attributes in our dataset.\n",
    "+ 9.- **Group predictor** : This dropdown allows us to set the attribute used to train a regression function to evaluate the variable importance.\n",
    "+ 10.- **Discarded columns pop-up** : This button shows a pop-up with the columns that have been discarded."
   ]
  }
 ],
 "metadata": {
  "language_info": {
   "name": "python"
  }
 },
 "nbformat": 4,
 "nbformat_minor": 2
}
