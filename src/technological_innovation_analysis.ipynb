{
 "cells": [
  {
   "cell_type": "markdown",
   "metadata": {},
   "source": [
    "# What factors influence the technological innovation of countries?"
   ]
  },
  {
   "cell_type": "markdown",
   "metadata": {},
   "source": [
    "Import libraries."
   ]
  },
  {
   "cell_type": "code",
   "execution_count": 1,
   "metadata": {},
   "outputs": [],
   "source": [
    "import polars as pl"
   ]
  },
  {
   "cell_type": "markdown",
   "metadata": {},
   "source": [
    "Load the processed data."
   ]
  },
  {
   "cell_type": "code",
   "execution_count": null,
   "metadata": {},
   "outputs": [
    {
     "name": "stdout",
     "output_type": "stream",
     "text": [
      "(195, 30)\n"
     ]
    },
    {
     "data": {
      "text/html": [
       "<div><style>\n",
       ".dataframe > thead > tr,\n",
       ".dataframe > tbody > tr {\n",
       "  text-align: right;\n",
       "  white-space: pre-wrap;\n",
       "}\n",
       "</style>\n",
       "<small>shape: (5, 30)</small><table border=\"1\" class=\"dataframe\"><thead><tr><th>Country</th><th>Density(P/Km2)</th><th>Abbreviation</th><th>Agricultural Land(%)</th><th>Land Area(Km2)</th><th>Armed Forces size</th><th>Birth Rate</th><th>Co2-Emissions</th><th>CPI</th><th>CPI Change (%)</th><th>Currency-Code</th><th>Fertility Rate</th><th>Forested Area (%)</th><th>Gasoline Price</th><th>GDP</th><th>Gross primary education enrollment (%)</th><th>Gross tertiary education enrollment (%)</th><th>Infant mortality</th><th>Largest city</th><th>Life expectancy</th><th>Maternal mortality ratio</th><th>Minimum wage</th><th>Out of pocket health expenditure</th><th>Physicians per thousand</th><th>Population</th><th>Population: Labor force participation (%)</th><th>Tax revenue (%)</th><th>Total tax rate</th><th>Unemployment rate</th><th>Urban population</th></tr><tr><td>str</td><td>i64</td><td>str</td><td>f64</td><td>i64</td><td>i64</td><td>f64</td><td>i64</td><td>f64</td><td>f64</td><td>str</td><td>f64</td><td>f64</td><td>f64</td><td>f64</td><td>f64</td><td>f64</td><td>f64</td><td>str</td><td>f64</td><td>i64</td><td>f64</td><td>f64</td><td>f64</td><td>i64</td><td>f64</td><td>f64</td><td>f64</td><td>f64</td><td>i64</td></tr></thead><tbody><tr><td>&quot;Afghanistan&quot;</td><td>60</td><td>&quot;AF&quot;</td><td>58.1</td><td>652230</td><td>323000</td><td>32.49</td><td>8672</td><td>149.9</td><td>2.3</td><td>&quot;AFN&quot;</td><td>4.47</td><td>2.1</td><td>0.7</td><td>1.9101e10</td><td>104.0</td><td>9.7</td><td>47.9</td><td>&quot;Kabul&quot;</td><td>64.5</td><td>638</td><td>0.43</td><td>78.4</td><td>0.28</td><td>38041754</td><td>48.9</td><td>9.3</td><td>71.4</td><td>11.12</td><td>9797273</td></tr><tr><td>&quot;Albania&quot;</td><td>105</td><td>&quot;AL&quot;</td><td>43.1</td><td>28748</td><td>9000</td><td>11.78</td><td>4536</td><td>119.05</td><td>1.4</td><td>&quot;ALL&quot;</td><td>1.62</td><td>28.1</td><td>1.36</td><td>1.5278e10</td><td>107.0</td><td>55.0</td><td>7.8</td><td>&quot;Tirana&quot;</td><td>78.5</td><td>15</td><td>1.12</td><td>56.9</td><td>1.2</td><td>2854191</td><td>55.7</td><td>18.6</td><td>36.6</td><td>12.33</td><td>1747593</td></tr><tr><td>&quot;Algeria&quot;</td><td>18</td><td>&quot;DZ&quot;</td><td>17.4</td><td>2381741</td><td>317000</td><td>24.28</td><td>150006</td><td>151.36</td><td>2.0</td><td>&quot;DZD&quot;</td><td>3.02</td><td>0.8</td><td>0.28</td><td>1.6999e11</td><td>109.9</td><td>51.4</td><td>20.1</td><td>&quot;Algiers&quot;</td><td>76.7</td><td>112</td><td>0.95</td><td>28.1</td><td>1.72</td><td>43053054</td><td>41.2</td><td>37.2</td><td>66.1</td><td>11.7</td><td>31510100</td></tr><tr><td>&quot;Andorra&quot;</td><td>164</td><td>&quot;AD&quot;</td><td>40.0</td><td>468</td><td>null</td><td>7.2</td><td>469</td><td>null</td><td>null</td><td>&quot;EUR&quot;</td><td>1.27</td><td>34.0</td><td>1.51</td><td>3.1541e9</td><td>106.4</td><td>null</td><td>2.7</td><td>&quot;Andorra la Vella&quot;</td><td>null</td><td>null</td><td>6.63</td><td>36.4</td><td>3.33</td><td>77142</td><td>null</td><td>null</td><td>null</td><td>null</td><td>67873</td></tr><tr><td>&quot;Angola&quot;</td><td>26</td><td>&quot;AO&quot;</td><td>47.5</td><td>1246700</td><td>117000</td><td>40.73</td><td>34693</td><td>261.73</td><td>17.1</td><td>&quot;AOA&quot;</td><td>5.52</td><td>46.3</td><td>0.97</td><td>9.4635e10</td><td>113.5</td><td>9.3</td><td>51.6</td><td>&quot;Luanda&quot;</td><td>60.8</td><td>241</td><td>0.71</td><td>33.4</td><td>0.21</td><td>31825295</td><td>77.5</td><td>9.2</td><td>49.1</td><td>6.89</td><td>21061025</td></tr></tbody></table></div>"
      ],
      "text/plain": [
       "shape: (5, 30)\n",
       "┌───────────┬───────────┬───────────┬───────────┬───┬───────────┬───────────┬───────────┬──────────┐\n",
       "│ Country   ┆ Density(P ┆ Abbreviat ┆ Agricultu ┆ … ┆ Tax       ┆ Total tax ┆ Unemploym ┆ Urban    │\n",
       "│ ---       ┆ /Km2)     ┆ ion       ┆ ral       ┆   ┆ revenue   ┆ rate      ┆ ent rate  ┆ populati │\n",
       "│ str       ┆ ---       ┆ ---       ┆ Land(%)   ┆   ┆ (%)       ┆ ---       ┆ ---       ┆ on       │\n",
       "│           ┆ i64       ┆ str       ┆ ---       ┆   ┆ ---       ┆ f64       ┆ f64       ┆ ---      │\n",
       "│           ┆           ┆           ┆ f64       ┆   ┆ f64       ┆           ┆           ┆ i64      │\n",
       "╞═══════════╪═══════════╪═══════════╪═══════════╪═══╪═══════════╪═══════════╪═══════════╪══════════╡\n",
       "│ Afghanist ┆ 60        ┆ AF        ┆ 58.1      ┆ … ┆ 9.3       ┆ 71.4      ┆ 11.12     ┆ 9797273  │\n",
       "│ an        ┆           ┆           ┆           ┆   ┆           ┆           ┆           ┆          │\n",
       "│ Albania   ┆ 105       ┆ AL        ┆ 43.1      ┆ … ┆ 18.6      ┆ 36.6      ┆ 12.33     ┆ 1747593  │\n",
       "│ Algeria   ┆ 18        ┆ DZ        ┆ 17.4      ┆ … ┆ 37.2      ┆ 66.1      ┆ 11.7      ┆ 31510100 │\n",
       "│ Andorra   ┆ 164       ┆ AD        ┆ 40.0      ┆ … ┆ null      ┆ null      ┆ null      ┆ 67873    │\n",
       "│ Angola    ┆ 26        ┆ AO        ┆ 47.5      ┆ … ┆ 9.2       ┆ 49.1      ┆ 6.89      ┆ 21061025 │\n",
       "└───────────┴───────────┴───────────┴───────────┴───┴───────────┴───────────┴───────────┴──────────┘"
      ]
     },
     "execution_count": 5,
     "metadata": {},
     "output_type": "execute_result"
    }
   ],
   "source": [
    "data: pl.DataFrame = pl.read_csv(\"../data/cleaned/data.csv\")\n",
    "\n",
    "# Get the first 5 rows\n",
    "data.head()"
   ]
  },
  {
   "cell_type": "markdown",
   "metadata": {},
   "source": [
    "Load technology innovation data:\n",
    "\n",
    "- Scientific and technical journal articles.\n",
    "- High-technology exports (current US$).\n",
    "- High-technology exports (% of manufactured exports)."
   ]
  },
  {
   "cell_type": "code",
   "execution_count": 20,
   "metadata": {},
   "outputs": [
    {
     "data": {
      "text/html": [
       "<div><style>\n",
       ".dataframe > thead > tr,\n",
       ".dataframe > tbody > tr {\n",
       "  text-align: right;\n",
       "  white-space: pre-wrap;\n",
       "}\n",
       "</style>\n",
       "<small>shape: (5, 4)</small><table border=\"1\" class=\"dataframe\"><thead><tr><th>Country</th><th>Tech journal articles</th><th>High-technology exports ($)</th><th>High-technology exports (%)</th></tr><tr><td>str</td><td>f64</td><td>i64</td><td>f64</td></tr></thead><tbody><tr><td>&quot;Afghanistan&quot;</td><td>169.19</td><td>null</td><td>null</td></tr><tr><td>&quot;Albania&quot;</td><td>238.59</td><td>886411</td><td>0.06</td></tr><tr><td>&quot;Algeria&quot;</td><td>7606.65</td><td>null</td><td>null</td></tr><tr><td>&quot;American Samoa&quot;</td><td>null</td><td>null</td><td>null</td></tr><tr><td>&quot;Andorra&quot;</td><td>9.6</td><td>49533520</td><td>13.31</td></tr></tbody></table></div>"
      ],
      "text/plain": [
       "shape: (5, 4)\n",
       "┌────────────────┬───────────────────────┬─────────────────────────┬───────────────────────────────┐\n",
       "│ Country        ┆ Tech journal articles ┆ High-technology exports ┆ High-technology exports (%)   │\n",
       "│ ---            ┆ ---                   ┆ ($)                     ┆ ---                           │\n",
       "│ str            ┆ f64                   ┆ ---                     ┆ f64                           │\n",
       "│                ┆                       ┆ i64                     ┆                               │\n",
       "╞════════════════╪═══════════════════════╪═════════════════════════╪═══════════════════════════════╡\n",
       "│ Afghanistan    ┆ 169.19                ┆ null                    ┆ null                          │\n",
       "│ Albania        ┆ 238.59                ┆ 886411                  ┆ 0.06                          │\n",
       "│ Algeria        ┆ 7606.65               ┆ null                    ┆ null                          │\n",
       "│ American Samoa ┆ null                  ┆ null                    ┆ null                          │\n",
       "│ Andorra        ┆ 9.6                   ┆ 49533520                ┆ 13.31                         │\n",
       "└────────────────┴───────────────────────┴─────────────────────────┴───────────────────────────────┘"
      ]
     },
     "execution_count": 20,
     "metadata": {},
     "output_type": "execute_result"
    }
   ],
   "source": [
    "journal_articles: pl.DataFrame = pl.read_csv(\n",
    "    \"../data/raw/technological_innovation/journal_articles.csv\"\n",
    ")\n",
    "exports_values: pl.DataFrame = pl.read_csv(\n",
    "    \"../data/raw/technological_innovation/exports_values.csv\"\n",
    ")\n",
    "exports_percentages: pl.DataFrame = pl.read_csv(\n",
    "    \"../data/raw/technological_innovation/exports_percentages.csv\"\n",
    ")\n",
    "\n",
    "# Select the columns that we need\n",
    "journal_articles = journal_articles.select([\"Country Name\", \"2022 [YR2022]\"])\n",
    "exports_values = exports_values.select([\"Country Name\", \"2022 [YR2022]\"])\n",
    "exports_percentages = exports_percentages.select([\"Country Name\", \"2022 [YR2022]\"])\n",
    "\n",
    "# Rename the columns\n",
    "journal_articles = journal_articles.rename(\n",
    "    {\"Country Name\": \"Country\", \"2022 [YR2022]\": \"Tech journal articles\"}\n",
    ")\n",
    "exports_values = exports_values.rename(\n",
    "    {\"Country Name\": \"Country\", \"2022 [YR2022]\": \"High-technology exports ($)\"}\n",
    ")\n",
    "exports_percentages = exports_percentages.rename(\n",
    "    {\"Country Name\": \"Country\", \"2022 [YR2022]\": \"High-technology exports (%)\"}\n",
    ")\n",
    "\n",
    "# Join the dataframes\n",
    "technology_innovation = journal_articles.join(exports_values, on=\"Country\")\n",
    "technology_innovation = technology_innovation.join(exports_percentages, on=\"Country\")\n",
    "\n",
    "# Change \"..\" values to None\n",
    "technology_innovation = technology_innovation.select(pl.all().replace(\"..\", None))\n",
    "\n",
    "# Change from string to float/integer and round to 2 decimal places\n",
    "technology_innovation = technology_innovation.with_columns(\n",
    "    pl.col(\"Tech journal articles\").cast(pl.Float64).round(2),\n",
    "    pl.col(\"High-technology exports ($)\").cast(pl.Int64()),\n",
    "    pl.col(\"High-technology exports (%)\").cast(pl.Float64).round(2),\n",
    ")\n",
    "\n",
    "# Get the first 5 rows\n",
    "technology_innovation.head()"
   ]
  },
  {
   "cell_type": "markdown",
   "metadata": {},
   "source": [
    "Join the original data with the technology innovation data."
   ]
  },
  {
   "cell_type": "code",
   "execution_count": 27,
   "metadata": {},
   "outputs": [
    {
     "name": "stdout",
     "output_type": "stream",
     "text": [
      "Data size: (195, 45)\n",
      "Technology innovation size: (219, 4)\n",
      "Data size: (195, 48)\n"
     ]
    }
   ],
   "source": [
    "# Show sizes\n",
    "print(\"Data size:\", data.shape)\n",
    "print(\"Technology innovation size:\", technology_innovation.shape)\n",
    "\n",
    "# Left join the dataframes\n",
    "data = data.join(technology_innovation, on=\"Country\", how=\"left\")\n",
    "\n",
    "# Show size\n",
    "print(\"Data size:\", data.shape)\n",
    "\n",
    "# Filter out rows with missing values in the column \"Tech journal articles\"\n",
    "null = data.filter(pl.col(\"Tech journal articles\").is_null())\n",
    "\n",
    "# Write null values to a csv file\n",
    "null.write_csv(\"../data/null_values.csv\")"
   ]
  }
 ],
 "metadata": {
  "kernelspec": {
   "display_name": ".venv",
   "language": "python",
   "name": "python3"
  },
  "language_info": {
   "codemirror_mode": {
    "name": "ipython",
    "version": 3
   },
   "file_extension": ".py",
   "mimetype": "text/x-python",
   "name": "python",
   "nbconvert_exporter": "python",
   "pygments_lexer": "ipython3",
   "version": "3.11.8"
  }
 },
 "nbformat": 4,
 "nbformat_minor": 2
}
