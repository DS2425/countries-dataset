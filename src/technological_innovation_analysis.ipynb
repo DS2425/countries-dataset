{
 "cells": [
  {
   "cell_type": "markdown",
   "metadata": {},
   "source": [
    "# What factors influence the technological innovation of countries?\n",
    "\n",
    "In this notebook, I will analyze the factors that influence the technological innovation of countries."
   ]
  },
  {
   "cell_type": "markdown",
   "metadata": {},
   "source": [
    "## 1. Data Integration\n",
    "\n",
    "In this section, we will integrate the data from the three datasets which contain information about the technological innovation of countries into the main dataset. The new datasets are:\n",
    "\n",
    "- `journal_articles.csv`\n",
    "- `exports_percentages.csv`\n",
    "- `exports_values.csv`\n"
   ]
  },
  {
   "cell_type": "markdown",
   "metadata": {},
   "source": [
    "First, let's import the necessary libraries and the main dataset, which has already been cleaned and preprocessed."
   ]
  },
  {
   "cell_type": "code",
   "execution_count": 36,
   "metadata": {},
   "outputs": [],
   "source": [
    "import polars as pl"
   ]
  },
  {
   "cell_type": "code",
   "execution_count": 37,
   "metadata": {},
   "outputs": [
    {
     "data": {
      "text/html": [
       "<div><style>\n",
       ".dataframe > thead > tr,\n",
       ".dataframe > tbody > tr {\n",
       "  text-align: right;\n",
       "  white-space: pre-wrap;\n",
       "}\n",
       "</style>\n",
       "<small>shape: (5, 30)</small><table border=\"1\" class=\"dataframe\"><thead><tr><th>Country</th><th>Density(P/Km2)</th><th>Abbreviation</th><th>Agricultural Land(%)</th><th>Land Area(Km2)</th><th>Armed Forces size</th><th>Birth Rate</th><th>Co2-Emissions</th><th>CPI</th><th>CPI Change (%)</th><th>Currency-Code</th><th>Fertility Rate</th><th>Forested Area (%)</th><th>Gasoline Price</th><th>GDP</th><th>Gross primary education enrollment (%)</th><th>Gross tertiary education enrollment (%)</th><th>Infant mortality</th><th>Largest city</th><th>Life expectancy</th><th>Maternal mortality ratio</th><th>Minimum wage</th><th>Out of pocket health expenditure</th><th>Physicians per thousand</th><th>Population</th><th>Population: Labor force participation (%)</th><th>Tax revenue (%)</th><th>Total tax rate</th><th>Unemployment rate</th><th>Urban population</th></tr><tr><td>str</td><td>i64</td><td>str</td><td>f64</td><td>i64</td><td>i64</td><td>f64</td><td>i64</td><td>f64</td><td>f64</td><td>str</td><td>f64</td><td>f64</td><td>f64</td><td>f64</td><td>f64</td><td>f64</td><td>f64</td><td>str</td><td>f64</td><td>i64</td><td>f64</td><td>f64</td><td>f64</td><td>i64</td><td>f64</td><td>f64</td><td>f64</td><td>f64</td><td>i64</td></tr></thead><tbody><tr><td>&quot;Afghanistan&quot;</td><td>60</td><td>&quot;AF&quot;</td><td>58.1</td><td>652230</td><td>323000</td><td>32.49</td><td>8672</td><td>149.9</td><td>2.3</td><td>&quot;AFN&quot;</td><td>4.47</td><td>2.1</td><td>0.7</td><td>1.9101e10</td><td>104.0</td><td>9.7</td><td>47.9</td><td>&quot;Kabul&quot;</td><td>64.5</td><td>638</td><td>0.43</td><td>78.4</td><td>0.28</td><td>38041754</td><td>48.9</td><td>9.3</td><td>71.4</td><td>11.12</td><td>9797273</td></tr><tr><td>&quot;Albania&quot;</td><td>105</td><td>&quot;AL&quot;</td><td>43.1</td><td>28748</td><td>9000</td><td>11.78</td><td>4536</td><td>119.05</td><td>1.4</td><td>&quot;ALL&quot;</td><td>1.62</td><td>28.1</td><td>1.36</td><td>1.5278e10</td><td>107.0</td><td>55.0</td><td>7.8</td><td>&quot;Tirana&quot;</td><td>78.5</td><td>15</td><td>1.12</td><td>56.9</td><td>1.2</td><td>2854191</td><td>55.7</td><td>18.6</td><td>36.6</td><td>12.33</td><td>1747593</td></tr><tr><td>&quot;Algeria&quot;</td><td>18</td><td>&quot;DZ&quot;</td><td>17.4</td><td>2381741</td><td>317000</td><td>24.28</td><td>150006</td><td>151.36</td><td>2.0</td><td>&quot;DZD&quot;</td><td>3.02</td><td>0.8</td><td>0.28</td><td>1.6999e11</td><td>109.9</td><td>51.4</td><td>20.1</td><td>&quot;Algiers&quot;</td><td>76.7</td><td>112</td><td>0.95</td><td>28.1</td><td>1.72</td><td>43053054</td><td>41.2</td><td>37.2</td><td>66.1</td><td>11.7</td><td>31510100</td></tr><tr><td>&quot;Andorra&quot;</td><td>164</td><td>&quot;AD&quot;</td><td>40.0</td><td>468</td><td>null</td><td>7.2</td><td>469</td><td>null</td><td>null</td><td>&quot;EUR&quot;</td><td>1.27</td><td>34.0</td><td>1.51</td><td>3.1541e9</td><td>106.4</td><td>null</td><td>2.7</td><td>&quot;Andorra la Vella&quot;</td><td>null</td><td>null</td><td>6.63</td><td>36.4</td><td>3.33</td><td>77142</td><td>null</td><td>null</td><td>null</td><td>null</td><td>67873</td></tr><tr><td>&quot;Angola&quot;</td><td>26</td><td>&quot;AO&quot;</td><td>47.5</td><td>1246700</td><td>117000</td><td>40.73</td><td>34693</td><td>261.73</td><td>17.1</td><td>&quot;AOA&quot;</td><td>5.52</td><td>46.3</td><td>0.97</td><td>9.4635e10</td><td>113.5</td><td>9.3</td><td>51.6</td><td>&quot;Luanda&quot;</td><td>60.8</td><td>241</td><td>0.71</td><td>33.4</td><td>0.21</td><td>31825295</td><td>77.5</td><td>9.2</td><td>49.1</td><td>6.89</td><td>21061025</td></tr></tbody></table></div>"
      ],
      "text/plain": [
       "shape: (5, 30)\n",
       "┌───────────┬───────────┬───────────┬───────────┬───┬───────────┬───────────┬───────────┬──────────┐\n",
       "│ Country   ┆ Density(P ┆ Abbreviat ┆ Agricultu ┆ … ┆ Tax       ┆ Total tax ┆ Unemploym ┆ Urban    │\n",
       "│ ---       ┆ /Km2)     ┆ ion       ┆ ral       ┆   ┆ revenue   ┆ rate      ┆ ent rate  ┆ populati │\n",
       "│ str       ┆ ---       ┆ ---       ┆ Land(%)   ┆   ┆ (%)       ┆ ---       ┆ ---       ┆ on       │\n",
       "│           ┆ i64       ┆ str       ┆ ---       ┆   ┆ ---       ┆ f64       ┆ f64       ┆ ---      │\n",
       "│           ┆           ┆           ┆ f64       ┆   ┆ f64       ┆           ┆           ┆ i64      │\n",
       "╞═══════════╪═══════════╪═══════════╪═══════════╪═══╪═══════════╪═══════════╪═══════════╪══════════╡\n",
       "│ Afghanist ┆ 60        ┆ AF        ┆ 58.1      ┆ … ┆ 9.3       ┆ 71.4      ┆ 11.12     ┆ 9797273  │\n",
       "│ an        ┆           ┆           ┆           ┆   ┆           ┆           ┆           ┆          │\n",
       "│ Albania   ┆ 105       ┆ AL        ┆ 43.1      ┆ … ┆ 18.6      ┆ 36.6      ┆ 12.33     ┆ 1747593  │\n",
       "│ Algeria   ┆ 18        ┆ DZ        ┆ 17.4      ┆ … ┆ 37.2      ┆ 66.1      ┆ 11.7      ┆ 31510100 │\n",
       "│ Andorra   ┆ 164       ┆ AD        ┆ 40.0      ┆ … ┆ null      ┆ null      ┆ null      ┆ 67873    │\n",
       "│ Angola    ┆ 26        ┆ AO        ┆ 47.5      ┆ … ┆ 9.2       ┆ 49.1      ┆ 6.89      ┆ 21061025 │\n",
       "└───────────┴───────────┴───────────┴───────────┴───┴───────────┴───────────┴───────────┴──────────┘"
      ]
     },
     "execution_count": 37,
     "metadata": {},
     "output_type": "execute_result"
    }
   ],
   "source": [
    "cleaned_data: pl.DataFrame = pl.read_csv(\"../data/cleaned/data.csv\")\n",
    "\n",
    "# Get the first 5 rows\n",
    "cleaned_data.head()"
   ]
  },
  {
   "cell_type": "markdown",
   "metadata": {},
   "source": [
    "Now, we will load the new datasets and check their contents. The new information include:\n",
    "\n",
    "- Scientific and technical journal articles.\n",
    "- High-technology exports (current US$).\n",
    "- High-technology exports (% of manufactured exports)."
   ]
  },
  {
   "cell_type": "code",
   "execution_count": 38,
   "metadata": {},
   "outputs": [
    {
     "data": {
      "text/html": [
       "<div><style>\n",
       ".dataframe > thead > tr,\n",
       ".dataframe > tbody > tr {\n",
       "  text-align: right;\n",
       "  white-space: pre-wrap;\n",
       "}\n",
       "</style>\n",
       "<small>shape: (5, 4)</small><table border=\"1\" class=\"dataframe\"><thead><tr><th>Country</th><th>Tech journal articles</th><th>High-technology exports ($)</th><th>High-technology exports (%)</th></tr><tr><td>str</td><td>f64</td><td>i64</td><td>f64</td></tr></thead><tbody><tr><td>&quot;Afghanistan&quot;</td><td>169.19</td><td>null</td><td>null</td></tr><tr><td>&quot;Albania&quot;</td><td>238.59</td><td>886411</td><td>0.06</td></tr><tr><td>&quot;Algeria&quot;</td><td>7606.65</td><td>null</td><td>null</td></tr><tr><td>&quot;American Samoa&quot;</td><td>null</td><td>null</td><td>null</td></tr><tr><td>&quot;Andorra&quot;</td><td>9.6</td><td>49533520</td><td>13.31</td></tr></tbody></table></div>"
      ],
      "text/plain": [
       "shape: (5, 4)\n",
       "┌────────────────┬───────────────────────┬─────────────────────────┬───────────────────────────────┐\n",
       "│ Country        ┆ Tech journal articles ┆ High-technology exports ┆ High-technology exports (%)   │\n",
       "│ ---            ┆ ---                   ┆ ($)                     ┆ ---                           │\n",
       "│ str            ┆ f64                   ┆ ---                     ┆ f64                           │\n",
       "│                ┆                       ┆ i64                     ┆                               │\n",
       "╞════════════════╪═══════════════════════╪═════════════════════════╪═══════════════════════════════╡\n",
       "│ Afghanistan    ┆ 169.19                ┆ null                    ┆ null                          │\n",
       "│ Albania        ┆ 238.59                ┆ 886411                  ┆ 0.06                          │\n",
       "│ Algeria        ┆ 7606.65               ┆ null                    ┆ null                          │\n",
       "│ American Samoa ┆ null                  ┆ null                    ┆ null                          │\n",
       "│ Andorra        ┆ 9.6                   ┆ 49533520                ┆ 13.31                         │\n",
       "└────────────────┴───────────────────────┴─────────────────────────┴───────────────────────────────┘"
      ]
     },
     "execution_count": 38,
     "metadata": {},
     "output_type": "execute_result"
    }
   ],
   "source": [
    "journal_articles: pl.DataFrame = pl.read_csv(\n",
    "    \"../data/raw/technological_innovation/journal_articles.csv\"\n",
    ")\n",
    "exports_values: pl.DataFrame = pl.read_csv(\n",
    "    \"../data/raw/technological_innovation/exports_values.csv\"\n",
    ")\n",
    "exports_percentages: pl.DataFrame = pl.read_csv(\n",
    "    \"../data/raw/technological_innovation/exports_percentages.csv\"\n",
    ")\n",
    "\n",
    "# Select the columns that we need\n",
    "journal_articles = journal_articles.select([\"Country Name\", \"2022 [YR2022]\"])\n",
    "exports_values = exports_values.select([\"Country Name\", \"2022 [YR2022]\"])\n",
    "exports_percentages = exports_percentages.select([\"Country Name\", \"2022 [YR2022]\"])\n",
    "\n",
    "# Rename the columns\n",
    "journal_articles = journal_articles.rename(\n",
    "    {\"Country Name\": \"Country\", \"2022 [YR2022]\": \"Tech journal articles\"}\n",
    ")\n",
    "exports_values = exports_values.rename(\n",
    "    {\"Country Name\": \"Country\", \"2022 [YR2022]\": \"High-technology exports ($)\"}\n",
    ")\n",
    "exports_percentages = exports_percentages.rename(\n",
    "    {\"Country Name\": \"Country\", \"2022 [YR2022]\": \"High-technology exports (%)\"}\n",
    ")\n",
    "\n",
    "# Join the dataframes\n",
    "technology_innovation = journal_articles.join(exports_values, on=\"Country\")\n",
    "technology_innovation = technology_innovation.join(exports_percentages, on=\"Country\")\n",
    "\n",
    "# Change \"..\" values to None\n",
    "technology_innovation = technology_innovation.select(pl.all().replace(\"..\", None))\n",
    "\n",
    "# Change from string to float/integer and round to 2 decimal places\n",
    "technology_innovation = technology_innovation.with_columns(\n",
    "    pl.col(\"Tech journal articles\").cast(pl.Float64).round(2),\n",
    "    pl.col(\"High-technology exports ($)\").cast(pl.Int64()),\n",
    "    pl.col(\"High-technology exports (%)\").cast(pl.Float64).round(2),\n",
    ")\n",
    "\n",
    "# Get the first 5 rows\n",
    "technology_innovation.head()"
   ]
  },
  {
   "cell_type": "markdown",
   "metadata": {},
   "source": [
    "Now, we can try to join the new technology innovation data with the main dataset."
   ]
  },
  {
   "cell_type": "code",
   "execution_count": 39,
   "metadata": {},
   "outputs": [
    {
     "name": "stdout",
     "output_type": "stream",
     "text": [
      "Number of null values: 30\n"
     ]
    }
   ],
   "source": [
    "# Left join the dataframes\n",
    "data = cleaned_data.join(technology_innovation, on=\"Country\", how=\"left\")\n",
    "\n",
    "# Filter out rows with missing values in the column \"Tech journal articles\"\n",
    "null = data.filter(pl.col(\"Tech journal articles\").is_null())\n",
    "\n",
    "# Count the number of null values\n",
    "null_rows = null.shape[0]\n",
    "print(f\"Number of null values: {null_rows}\")\n",
    "\n",
    "# Write null values to a csv file\n",
    "null.write_csv(\"../data/raw/technological_innovation/null_values.csv\")"
   ]
  },
  {
   "cell_type": "markdown",
   "metadata": {},
   "source": [
    "As we can see, there are some missing values in the resulting data in the column `Tech journal articles`. This happens because there are some countries that have a different name in the technology innovation data. We will fix this by renaming the countries in the technology innovation data, which can be easily identified in the csv file in which we have written the null values."
   ]
  },
  {
   "cell_type": "code",
   "execution_count": 40,
   "metadata": {},
   "outputs": [],
   "source": [
    "# Rename countries\n",
    "technology_innovation = technology_innovation.with_columns(\n",
    "    technology_innovation[\"Country\"].replace(\n",
    "        [\n",
    "            \"Bahamas, The\",\n",
    "            \"Brunei Darussalam\",\n",
    "            \"Cote d'Ivoire\",\n",
    "            \"Cabo Verde\",\n",
    "            \"Congo, Rep.\",\n",
    "            \"Congo, Dem. Rep.\",\n",
    "            \"Czechia\",\n",
    "            \"Egypt, Arab Rep.\",\n",
    "            \"Gambia, The\",\n",
    "            \"Iran, Islamic Rep.\",\n",
    "            \"Ireland\",\n",
    "            \"Kyrgyz Republic\",\n",
    "            \"Lao PDR\",\n",
    "            \"Micronesia, Fed. Sts.\",\n",
    "            \"Korea, Dem. People's Rep.\",\n",
    "            \"West Bank and Gaza\",\n",
    "            \"Russian Federation\",\n",
    "            \"St. Kitts and Nevis\",\n",
    "            \"St. Lucia\",\n",
    "            \"St. Vincent and the Grenadines\",\n",
    "            \"Sao Tome and Principe\",\n",
    "            \"Slovak Republic\",\n",
    "            \"Korea, Rep.\",\n",
    "            \"Syrian Arab Republic\",\n",
    "            \"Timor-Leste\",\n",
    "            \"Turkiye\",\n",
    "            \"Venezuela, RB\",\n",
    "            \"Viet Nam\",\n",
    "            \"Yemen, Rep.\",\n",
    "        ],\n",
    "        [\n",
    "            \"The Bahamas\",\n",
    "            \"Brunei\",\n",
    "            \"Ivory Coast\",\n",
    "            \"Cape Verde\",\n",
    "            \"Republic of the Congo\",\n",
    "            \"Democratic Republic of the Congo\",\n",
    "            \"Czech Republic\",\n",
    "            \"Egypt\",\n",
    "            \"The Gambia\",\n",
    "            \"Iran\",\n",
    "            \"Republic of Ireland\",\n",
    "            \"Kyrgyzstan\",\n",
    "            \"Laos\",\n",
    "            \"Federated States of Micronesia\",\n",
    "            \"North Korea\",\n",
    "            \"Palestinian National Authority\",\n",
    "            \"Russia\",\n",
    "            \"Saint Kitts and Nevis\",\n",
    "            \"Saint Lucia\",\n",
    "            \"Saint Vincent and the Grenadines\",\n",
    "            \"São Tomé and Principe\",\n",
    "            \"Slovakia\",\n",
    "            \"South Korea\",\n",
    "            \"Syria\",\n",
    "            \"East Timor\",\n",
    "            \"Turkey\",\n",
    "            \"Venezuela\",\n",
    "            \"Vietnam\",\n",
    "            \"Yemen\",\n",
    "        ],\n",
    "    )\n",
    ")"
   ]
  },
  {
   "cell_type": "markdown",
   "metadata": {},
   "source": [
    "Now, we can try to join the data again."
   ]
  },
  {
   "cell_type": "code",
   "execution_count": 41,
   "metadata": {},
   "outputs": [
    {
     "name": "stdout",
     "output_type": "stream",
     "text": [
      "Number of null values: 1\n"
     ]
    },
    {
     "data": {
      "text/html": [
       "<div><style>\n",
       ".dataframe > thead > tr,\n",
       ".dataframe > tbody > tr {\n",
       "  text-align: right;\n",
       "  white-space: pre-wrap;\n",
       "}\n",
       "</style>\n",
       "<small>shape: (1, 33)</small><table border=\"1\" class=\"dataframe\"><thead><tr><th>Country</th><th>Density(P/Km2)</th><th>Abbreviation</th><th>Agricultural Land(%)</th><th>Land Area(Km2)</th><th>Armed Forces size</th><th>Birth Rate</th><th>Co2-Emissions</th><th>CPI</th><th>CPI Change (%)</th><th>Currency-Code</th><th>Fertility Rate</th><th>Forested Area (%)</th><th>Gasoline Price</th><th>GDP</th><th>Gross primary education enrollment (%)</th><th>Gross tertiary education enrollment (%)</th><th>Infant mortality</th><th>Largest city</th><th>Life expectancy</th><th>Maternal mortality ratio</th><th>Minimum wage</th><th>Out of pocket health expenditure</th><th>Physicians per thousand</th><th>Population</th><th>Population: Labor force participation (%)</th><th>Tax revenue (%)</th><th>Total tax rate</th><th>Unemployment rate</th><th>Urban population</th><th>Tech journal articles</th><th>High-technology exports ($)</th><th>High-technology exports (%)</th></tr><tr><td>str</td><td>i64</td><td>str</td><td>f64</td><td>i64</td><td>i64</td><td>f64</td><td>i64</td><td>f64</td><td>f64</td><td>str</td><td>f64</td><td>f64</td><td>f64</td><td>f64</td><td>f64</td><td>f64</td><td>f64</td><td>str</td><td>f64</td><td>i64</td><td>f64</td><td>f64</td><td>f64</td><td>i64</td><td>f64</td><td>f64</td><td>f64</td><td>f64</td><td>i64</td><td>f64</td><td>i64</td><td>f64</td></tr></thead><tbody><tr><td>&quot;Vatican City&quot;</td><td>2003</td><td>&quot;VA&quot;</td><td>null</td><td>0</td><td>null</td><td>null</td><td>null</td><td>null</td><td>null</td><td>&quot;EUR&quot;</td><td>null</td><td>0.0</td><td>null</td><td>null</td><td>null</td><td>null</td><td>null</td><td>null</td><td>null</td><td>null</td><td>null</td><td>null</td><td>null</td><td>836</td><td>null</td><td>null</td><td>null</td><td>null</td><td>null</td><td>null</td><td>null</td><td>null</td></tr></tbody></table></div>"
      ],
      "text/plain": [
       "shape: (1, 33)\n",
       "┌───────────┬───────────┬───────────┬───────────┬───┬───────────┬───────────┬───────────┬──────────┐\n",
       "│ Country   ┆ Density(P ┆ Abbreviat ┆ Agricultu ┆ … ┆ Urban pop ┆ Tech      ┆ High-tech ┆ High-tec │\n",
       "│ ---       ┆ /Km2)     ┆ ion       ┆ ral       ┆   ┆ ulation   ┆ journal   ┆ nology    ┆ hnology  │\n",
       "│ str       ┆ ---       ┆ ---       ┆ Land(%)   ┆   ┆ ---       ┆ articles  ┆ exports   ┆ exports  │\n",
       "│           ┆ i64       ┆ str       ┆ ---       ┆   ┆ i64       ┆ ---       ┆ ($)       ┆ (%)      │\n",
       "│           ┆           ┆           ┆ f64       ┆   ┆           ┆ f64       ┆ ---       ┆ ---      │\n",
       "│           ┆           ┆           ┆           ┆   ┆           ┆           ┆ i64       ┆ f64      │\n",
       "╞═══════════╪═══════════╪═══════════╪═══════════╪═══╪═══════════╪═══════════╪═══════════╪══════════╡\n",
       "│ Vatican   ┆ 2003      ┆ VA        ┆ null      ┆ … ┆ null      ┆ null      ┆ null      ┆ null     │\n",
       "│ City      ┆           ┆           ┆           ┆   ┆           ┆           ┆           ┆          │\n",
       "└───────────┴───────────┴───────────┴───────────┴───┴───────────┴───────────┴───────────┴──────────┘"
      ]
     },
     "execution_count": 41,
     "metadata": {},
     "output_type": "execute_result"
    }
   ],
   "source": [
    "# Left join the dataframes\n",
    "data = cleaned_data.join(technology_innovation, on=\"Country\", how=\"left\")\n",
    "\n",
    "# Filter out rows with missing values in the column \"Tech journal articles\"\n",
    "null = data.filter(pl.col(\"Tech journal articles\").is_null())\n",
    "\n",
    "# Count the number of null values\n",
    "null_rows = null.shape[0]\n",
    "print(f\"Number of null values: {null_rows}\")\n",
    "\n",
    "# Show the null values\n",
    "null.head()"
   ]
  },
  {
   "cell_type": "markdown",
   "metadata": {},
   "source": [
    "The only remaining missing value in the column `Tech journal articles` is for the country `Vatican City` because it is not present in the technology innovation data. We will exclude this country from the analysis."
   ]
  },
  {
   "cell_type": "code",
   "execution_count": 42,
   "metadata": {},
   "outputs": [],
   "source": [
    "# Remove \"Vatican City\" from the data\n",
    "data = data.filter(pl.col(\"Country\") != \"Vatican City\")"
   ]
  },
  {
   "cell_type": "markdown",
   "metadata": {},
   "source": [
    "We have used the column `Tech journal articles` to correct some country names as it did not have missing values for the countries that were present in the original data. Now, we will check if there are any missing for the columns `High-technology exports (%)` and `High-technology exports ($)`."
   ]
  },
  {
   "cell_type": "code",
   "execution_count": 43,
   "metadata": {},
   "outputs": [
    {
     "name": "stdout",
     "output_type": "stream",
     "text": [
      "Number of null values: 49\n"
     ]
    }
   ],
   "source": [
    "# Filter out rows with missing values in the column \"High-technology exports (%)\"\n",
    "null = data.filter(pl.col(\"High-technology exports (%)\").is_null())\n",
    "\n",
    "# Count the number of null values\n",
    "null_rows = null.shape[0]\n",
    "print(f\"Number of null values: {null_rows}\")"
   ]
  },
  {
   "cell_type": "markdown",
   "metadata": {},
   "source": [
    "Since we have 49 rows with missing values for the column `High-tech exports (%)`, we sadly have to exclude these rows from the analysis."
   ]
  },
  {
   "cell_type": "code",
   "execution_count": 44,
   "metadata": {},
   "outputs": [],
   "source": [
    "# Remove rows with missing values\n",
    "data = data.filter(pl.col(\"High-technology exports (%)\").is_not_null())"
   ]
  },
  {
   "cell_type": "markdown",
   "metadata": {},
   "source": [
    "Now, we check the column `High-technology exports ($)`."
   ]
  },
  {
   "cell_type": "code",
   "execution_count": 45,
   "metadata": {},
   "outputs": [
    {
     "name": "stdout",
     "output_type": "stream",
     "text": [
      "Number of null values: 0\n"
     ]
    }
   ],
   "source": [
    "# Filter out rows with missing values in the column \"High-technology exports ($)\"\n",
    "null = data.filter(pl.col(\"High-technology exports ($)\").is_null())\n",
    "\n",
    "# Count the number of null values\n",
    "null_rows = null.shape[0]\n",
    "print(f\"Number of null values: {null_rows}\")"
   ]
  },
  {
   "cell_type": "markdown",
   "metadata": {},
   "source": [
    "There are no additional missing values in the `High-technology exports ($)` column, so we have completed the integration of the technology innovation data into the original dataset."
   ]
  },
  {
   "cell_type": "code",
   "execution_count": 46,
   "metadata": {},
   "outputs": [
    {
     "name": "stdout",
     "output_type": "stream",
     "text": [
      "(145, 33)\n"
     ]
    },
    {
     "data": {
      "text/html": [
       "<div><style>\n",
       ".dataframe > thead > tr,\n",
       ".dataframe > tbody > tr {\n",
       "  text-align: right;\n",
       "  white-space: pre-wrap;\n",
       "}\n",
       "</style>\n",
       "<small>shape: (5, 33)</small><table border=\"1\" class=\"dataframe\"><thead><tr><th>Country</th><th>Density(P/Km2)</th><th>Abbreviation</th><th>Agricultural Land(%)</th><th>Land Area(Km2)</th><th>Armed Forces size</th><th>Birth Rate</th><th>Co2-Emissions</th><th>CPI</th><th>CPI Change (%)</th><th>Currency-Code</th><th>Fertility Rate</th><th>Forested Area (%)</th><th>Gasoline Price</th><th>GDP</th><th>Gross primary education enrollment (%)</th><th>Gross tertiary education enrollment (%)</th><th>Infant mortality</th><th>Largest city</th><th>Life expectancy</th><th>Maternal mortality ratio</th><th>Minimum wage</th><th>Out of pocket health expenditure</th><th>Physicians per thousand</th><th>Population</th><th>Population: Labor force participation (%)</th><th>Tax revenue (%)</th><th>Total tax rate</th><th>Unemployment rate</th><th>Urban population</th><th>Tech journal articles</th><th>High-technology exports ($)</th><th>High-technology exports (%)</th></tr><tr><td>str</td><td>i64</td><td>str</td><td>f64</td><td>i64</td><td>i64</td><td>f64</td><td>i64</td><td>f64</td><td>f64</td><td>str</td><td>f64</td><td>f64</td><td>f64</td><td>f64</td><td>f64</td><td>f64</td><td>f64</td><td>str</td><td>f64</td><td>i64</td><td>f64</td><td>f64</td><td>f64</td><td>i64</td><td>f64</td><td>f64</td><td>f64</td><td>f64</td><td>i64</td><td>f64</td><td>i64</td><td>f64</td></tr></thead><tbody><tr><td>&quot;Albania&quot;</td><td>105</td><td>&quot;AL&quot;</td><td>43.1</td><td>28748</td><td>9000</td><td>11.78</td><td>4536</td><td>119.05</td><td>1.4</td><td>&quot;ALL&quot;</td><td>1.62</td><td>28.1</td><td>1.36</td><td>1.5278e10</td><td>107.0</td><td>55.0</td><td>7.8</td><td>&quot;Tirana&quot;</td><td>78.5</td><td>15</td><td>1.12</td><td>56.9</td><td>1.2</td><td>2854191</td><td>55.7</td><td>18.6</td><td>36.6</td><td>12.33</td><td>1747593</td><td>238.59</td><td>886411</td><td>0.06</td></tr><tr><td>&quot;Andorra&quot;</td><td>164</td><td>&quot;AD&quot;</td><td>40.0</td><td>468</td><td>null</td><td>7.2</td><td>469</td><td>null</td><td>null</td><td>&quot;EUR&quot;</td><td>1.27</td><td>34.0</td><td>1.51</td><td>3.1541e9</td><td>106.4</td><td>null</td><td>2.7</td><td>&quot;Andorra la Vella&quot;</td><td>null</td><td>null</td><td>6.63</td><td>36.4</td><td>3.33</td><td>77142</td><td>null</td><td>null</td><td>null</td><td>null</td><td>67873</td><td>9.6</td><td>49533520</td><td>13.31</td></tr><tr><td>&quot;Angola&quot;</td><td>26</td><td>&quot;AO&quot;</td><td>47.5</td><td>1246700</td><td>117000</td><td>40.73</td><td>34693</td><td>261.73</td><td>17.1</td><td>&quot;AOA&quot;</td><td>5.52</td><td>46.3</td><td>0.97</td><td>9.4635e10</td><td>113.5</td><td>9.3</td><td>51.6</td><td>&quot;Luanda&quot;</td><td>60.8</td><td>241</td><td>0.71</td><td>33.4</td><td>0.21</td><td>31825295</td><td>77.5</td><td>9.2</td><td>49.1</td><td>6.89</td><td>21061025</td><td>44.99</td><td>77204455</td><td>22.06</td></tr><tr><td>&quot;Antigua and Barbuda&quot;</td><td>223</td><td>&quot;AG&quot;</td><td>20.5</td><td>443</td><td>0</td><td>15.33</td><td>557</td><td>113.81</td><td>1.2</td><td>&quot;XCD&quot;</td><td>1.99</td><td>22.3</td><td>0.99</td><td>1.7278e9</td><td>105.0</td><td>24.8</td><td>5.0</td><td>&quot;St. John&#x27;s, Saint John&quot;</td><td>76.9</td><td>42</td><td>3.04</td><td>24.3</td><td>2.76</td><td>97118</td><td>null</td><td>16.5</td><td>43.0</td><td>null</td><td>23800</td><td>7.02</td><td>0</td><td>0.0</td></tr><tr><td>&quot;Argentina&quot;</td><td>17</td><td>&quot;AR&quot;</td><td>54.3</td><td>2780400</td><td>105000</td><td>17.02</td><td>201348</td><td>232.75</td><td>53.5</td><td>&quot;ARS&quot;</td><td>2.26</td><td>9.8</td><td>1.1</td><td>4.4966e11</td><td>109.7</td><td>90.0</td><td>8.8</td><td>&quot;Buenos Aires&quot;</td><td>76.5</td><td>39</td><td>3.35</td><td>17.6</td><td>3.96</td><td>44938712</td><td>61.3</td><td>10.1</td><td>106.3</td><td>9.79</td><td>41339571</td><td>9122.18</td><td>663679613</td><td>4.75</td></tr></tbody></table></div>"
      ],
      "text/plain": [
       "shape: (5, 33)\n",
       "┌───────────┬───────────┬───────────┬───────────┬───┬───────────┬───────────┬───────────┬──────────┐\n",
       "│ Country   ┆ Density(P ┆ Abbreviat ┆ Agricultu ┆ … ┆ Urban pop ┆ Tech      ┆ High-tech ┆ High-tec │\n",
       "│ ---       ┆ /Km2)     ┆ ion       ┆ ral       ┆   ┆ ulation   ┆ journal   ┆ nology    ┆ hnology  │\n",
       "│ str       ┆ ---       ┆ ---       ┆ Land(%)   ┆   ┆ ---       ┆ articles  ┆ exports   ┆ exports  │\n",
       "│           ┆ i64       ┆ str       ┆ ---       ┆   ┆ i64       ┆ ---       ┆ ($)       ┆ (%)      │\n",
       "│           ┆           ┆           ┆ f64       ┆   ┆           ┆ f64       ┆ ---       ┆ ---      │\n",
       "│           ┆           ┆           ┆           ┆   ┆           ┆           ┆ i64       ┆ f64      │\n",
       "╞═══════════╪═══════════╪═══════════╪═══════════╪═══╪═══════════╪═══════════╪═══════════╪══════════╡\n",
       "│ Albania   ┆ 105       ┆ AL        ┆ 43.1      ┆ … ┆ 1747593   ┆ 238.59    ┆ 886411    ┆ 0.06     │\n",
       "│ Andorra   ┆ 164       ┆ AD        ┆ 40.0      ┆ … ┆ 67873     ┆ 9.6       ┆ 49533520  ┆ 13.31    │\n",
       "│ Angola    ┆ 26        ┆ AO        ┆ 47.5      ┆ … ┆ 21061025  ┆ 44.99     ┆ 77204455  ┆ 22.06    │\n",
       "│ Antigua   ┆ 223       ┆ AG        ┆ 20.5      ┆ … ┆ 23800     ┆ 7.02      ┆ 0         ┆ 0.0      │\n",
       "│ and       ┆           ┆           ┆           ┆   ┆           ┆           ┆           ┆          │\n",
       "│ Barbuda   ┆           ┆           ┆           ┆   ┆           ┆           ┆           ┆          │\n",
       "│ Argentina ┆ 17        ┆ AR        ┆ 54.3      ┆ … ┆ 41339571  ┆ 9122.18   ┆ 663679613 ┆ 4.75     │\n",
       "└───────────┴───────────┴───────────┴───────────┴───┴───────────┴───────────┴───────────┴──────────┘"
      ]
     },
     "execution_count": 46,
     "metadata": {},
     "output_type": "execute_result"
    }
   ],
   "source": [
    "# Show data size\n",
    "print(data.shape)\n",
    "\n",
    "# Get the first 5 rows\n",
    "data.head()"
   ]
  }
 ],
 "metadata": {
  "kernelspec": {
   "display_name": ".venv",
   "language": "python",
   "name": "python3"
  },
  "language_info": {
   "codemirror_mode": {
    "name": "ipython",
    "version": 3
   },
   "file_extension": ".py",
   "mimetype": "text/x-python",
   "name": "python",
   "nbconvert_exporter": "python",
   "pygments_lexer": "ipython3",
   "version": "3.11.8"
  }
 },
 "nbformat": 4,
 "nbformat_minor": 2
}
