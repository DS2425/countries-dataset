{
 "cells": [
  {
   "cell_type": "markdown",
   "metadata": {},
   "source": [
    "## **FORESTED AREA (%) ANALYSIS**\n",
    "Note: The questions have been separated into blocks for each analysis performed."
   ]
  },
  {
   "cell_type": "markdown",
   "metadata": {},
   "source": [
    "Firstly, we will import the necessary libraries and load the global information dataset (used in the 01_introduction_and_processing.ipynb notebook), which provides information for several countries in 2023."
   ]
  },
  {
   "cell_type": "code",
   "execution_count": null,
   "metadata": {},
   "outputs": [],
   "source": [
    "import polars as pl\n",
    "import numpy as np\n",
    "import matplotlib.pyplot as plt\n",
    "import seaborn as sns\n",
    "import folium\n",
    "import plotly.express as px\n",
    "import pycountry_convert as pc\n",
    "from sklearn.linear_model import LinearRegression\n",
    "from sklearn.preprocessing import PolynomialFeatures, StandardScaler\n",
    "from sklearn.linear_model import Ridge, Lasso\n",
    "from sklearn.model_selection import cross_val_score\n",
    "from scipy import stats\n",
    "from sklearn.cluster import DBSCAN\n",
    "\n",
    "import warnings\n",
    "\n",
    "warnings.filterwarnings(\"ignore\", category=DeprecationWarning)"
   ]
  },
  {
   "cell_type": "code",
   "execution_count": null,
   "metadata": {},
   "outputs": [],
   "source": [
    "world_df: pl.DataFrame = pl.read_csv(\"../data/cleaned/data.csv\", ignore_errors=True)\n",
    "\n",
    "columns_to_keep = [\n",
    "    \"Country\",\n",
    "    \"Abbreviation\",\n",
    "    \"Forested Area (%)\",\n",
    "    \"Life expectancy\",\n",
    "    \"Co2-Emissions\",\n",
    "    \"Latitude\",\n",
    "    \"Longitude\",\n",
    "    \"GDP\",\n",
    "]\n",
    "\n",
    "world_df = world_df.drop(\n",
    "    [col for col in world_df.columns if col not in columns_to_keep]\n",
    ")\n",
    "world_df"
   ]
  },
  {
   "cell_type": "markdown",
   "metadata": {},
   "source": [
    "Let's check missing values ​​for each column:"
   ]
  },
  {
   "cell_type": "code",
   "execution_count": null,
   "metadata": {},
   "outputs": [],
   "source": [
    "missing_values = world_df.select(\n",
    "    [\n",
    "        pl.col(col).is_null().sum().alias(f\"{col} missing values\")\n",
    "        for col in world_df.columns\n",
    "    ]\n",
    ")\n",
    "missing_values"
   ]
  },
  {
   "cell_type": "markdown",
   "metadata": {},
   "source": [
    "Which countries do these missing values ​​correspond to?"
   ]
  },
  {
   "cell_type": "code",
   "execution_count": null,
   "metadata": {},
   "outputs": [],
   "source": [
    "null_values = None\n",
    "if missing_values[\"Forested Area (%) missing values\"][0] != 0:\n",
    "    null_values = world_df.filter(\n",
    "        world_df[\"Forested Area (%)\"].is_null() | world_df[\"Forested Area (%)\"].is_nan()\n",
    "    )\n",
    "null_values.select(\n",
    "    [\"Country\", \"Forested Area (%)\"]\n",
    ") if null_values is not None else None"
   ]
  },
  {
   "cell_type": "markdown",
   "metadata": {},
   "source": [
    "In order to complete the information of the countries mentioned above, we are going to use a Kaggle dataset with interesting information on the forest area in various years from 1990 to 2020. Since this dataset presents information for more countries, cities or globally, we are going to restrict the dataset, filtering only those countries that appear in the global information dataset.\n",
    "\n",
    "Source: https://www.kaggle.com/datasets/kanchana1990/global-forest-insights-1990-2020-fao"
   ]
  },
  {
   "cell_type": "code",
   "execution_count": null,
   "metadata": {},
   "outputs": [],
   "source": [
    "forest_df: pl.DataFrame = pl.read_csv(\n",
    "    \"../data/raw/ambiental_analysis/Forest_Area.csv\", ignore_errors=True\n",
    ")\n",
    "forest_df = forest_df.filter(forest_df[\"Country and Area\"].is_in(world_df[\"Country\"]))\n",
    "\n",
    "forest_df = forest_df.with_columns(\n",
    "    [pl.col(\"Forest Area, 2015\").str.strip_chars().cast(pl.Float64)]\n",
    ")\n",
    "\n",
    "forest_df = forest_df.drop(\n",
    "    [\n",
    "        \"CountryID\",\n",
    "        \"Deforestation, 2015-2020\",\n",
    "        \"Total Forest Area Affected by Fire, 2015\",\n",
    "    ]\n",
    ")\n",
    "forest_df"
   ]
  },
  {
   "cell_type": "markdown",
   "metadata": {},
   "source": [
    "To further the analysis, checking the evolution of the forest area for countries for which we lack information for 2023 can be a good starting point:"
   ]
  },
  {
   "cell_type": "code",
   "execution_count": null,
   "metadata": {},
   "outputs": [],
   "source": [
    "pais = \"North Macedonia\"\n",
    "years = [f\"Forest Area, {year}\" for year in [1990, 2000, 2010, 2015, 2020]]\n",
    "forest_area = (\n",
    "    forest_df.filter(forest_df[\"Country and Area\"] == pais).select(years).row(0)\n",
    ")\n",
    "\n",
    "years_np = [int(str(year).split(\", \")[1]) for year in years]\n",
    "forest_area_np = list(forest_area)\n",
    "\n",
    "plt.figure(figsize=(16, 5))\n",
    "sns.lineplot(x=years_np, y=forest_area_np, marker=\"o\", label=pais)\n",
    "plt.title(f\"Forest Area evolution ({pais})\")\n",
    "plt.xlabel(\"Year\")\n",
    "plt.ylabel(\"Forest Area\")\n",
    "plt.grid(True)\n",
    "plt.show()"
   ]
  },
  {
   "cell_type": "markdown",
   "metadata": {},
   "source": [
    "To complete the missing forest area data for the year 2023, the following methodology was applied:\n",
    "\n",
    "- **Eswatini:** Due to the linear trend observed in its historical data, a linear regression approach was chosen to predict the forest area for 2023. The trend is diagonally increasing, meaning that the forest area grows steadily over time.\n",
    "\n",
    "- **North Macedonia:** Due to the linear trend observed in its historical data, a polynomial regression approach was chosen to predict the forest area for 2023.\n",
    "\n",
    "- **South Sudan:** This country present a constant trend in their data, so it was decided to use the value recorded for the year 2020 as an estimate for 2023.\n",
    "\n",
    "- **Monaco and Nauru:** These countries do not have forest area, so they were assigned a value of zero.\n",
    "\n",
    "Initially, an alternative dataset was explored that covered a longer range of years and provided the anual percentage of forest area up since 1990 to 2021. This dataset offered a more complete view of the evolution of the forest area. However, the lack of information on the source and methodology of data collection raised doubts about its veracity, especially in the case of Eswatini, whose trend was perfectly linear increasing, which suggested the possibility of synthetic data.\n",
    "\n",
    "Source: https://www.kaggle.com/datasets/webdevbadger/world-forest-area\n",
    "\n",
    "After further investigation, it was confirmed that the data were real, since the results obtained by linear regression and projection with the original dataset have been similar. The equation used for the projection is as follows:\n",
    "\n",
    "$$ \\text{Average change rate} = \\frac{FA_{2021} - FA_{1990}}{2021 - 1990} $$\n",
    "\n",
    "$$ FA_{2023} = FA_{2021} \\times (1 + \\text{Average change rate})^2 $$\n",
    "\n",
    "where:\n",
    "\n",
    "* FA2021: represents the forest area in 2021.\n",
    "\n",
    "* FA1990: represents the forest area in 1990."
   ]
  },
  {
   "cell_type": "code",
   "execution_count": null,
   "metadata": {},
   "outputs": [],
   "source": [
    "missing_countries = [\"Eswatini\", \"North Macedonia\", \"South Sudan\"]\n",
    "forest_df = forest_df.filter(pl.col(\"Country and Area\").is_in(missing_countries))\n",
    "\n",
    "forest_df_melted = forest_df.melt(\n",
    "    id_vars=[\"Country and Area\", \"Total Land Area, 2020\"],\n",
    "    value_vars=[\n",
    "        \"Forest Area, 1990\",\n",
    "        \"Forest Area, 2000\",\n",
    "        \"Forest Area, 2010\",\n",
    "        \"Forest Area, 2015\",\n",
    "        \"Forest Area, 2020\",\n",
    "    ],\n",
    "    variable_name=\"Year\",\n",
    "    value_name=\"Forest_Area\",\n",
    ").with_columns(pl.col(\"Year\").str.extract(r\"(\\d+)\").cast(pl.Int64).alias(\"Year\"))\n",
    "\n",
    "predicciones = {}\n",
    "\n",
    "for country in missing_countries:\n",
    "    data_pais = forest_df_melted.filter(pl.col(\"Country and Area\") == country).sort(\n",
    "        \"Year\"\n",
    "    )\n",
    "\n",
    "    X = data_pais[\"Year\"].to_numpy().reshape(-1, 1)\n",
    "    y = data_pais[\"Forest_Area\"].to_numpy()\n",
    "\n",
    "    if country == \"North Macedonia\":\n",
    "        poly_features = PolynomialFeatures(degree=2)\n",
    "        X_poly = poly_features.fit_transform(X)\n",
    "\n",
    "        modelo = LinearRegression()\n",
    "        modelo.fit(X_poly, y)\n",
    "\n",
    "        X_pred = poly_features.transform(np.array([[2023]]))\n",
    "        pred_2023 = modelo.predict(X_pred)[0]\n",
    "\n",
    "    elif country == \"Eswatini\":\n",
    "        modelo = LinearRegression()\n",
    "        modelo.fit(X, y)\n",
    "        pred_2023 = modelo.predict(np.array([[2023]]))[0]\n",
    "    else:\n",
    "        pred_2023 = y[-1]\n",
    "\n",
    "    total_land_area = data_pais[\"Total Land Area, 2020\"][0]\n",
    "    forest_area_pct_2023 = (pred_2023 / total_land_area) * 100\n",
    "    predicciones[country] = forest_area_pct_2023\n",
    "\n",
    "world_df = world_df.with_columns(pl.col(\"Country\").cast(pl.Utf8))\n",
    "\n",
    "for country, pred in predicciones.items():\n",
    "    world_df = world_df.with_columns(\n",
    "        pl.when(pl.col(\"Country\") == country)\n",
    "        .then(pl.lit(pred).cast(pl.Float64))\n",
    "        .otherwise(pl.col(\"Forested Area (%)\"))\n",
    "        .alias(\"Forested Area (%)\")\n",
    "    )"
   ]
  },
  {
   "cell_type": "code",
   "execution_count": null,
   "metadata": {},
   "outputs": [],
   "source": [
    "for country in [\"Monaco\", \"Nauru\"]:\n",
    "    world_df = world_df.with_columns(\n",
    "        pl.when(pl.col(\"Country\") == country)\n",
    "        .then(pl.lit(0.0).cast(pl.Float64))\n",
    "        .otherwise(pl.col(\"Forested Area (%)\"))\n",
    "        .alias(\"Forested Area (%)\")\n",
    "    )"
   ]
  },
  {
   "cell_type": "code",
   "execution_count": null,
   "metadata": {},
   "outputs": [],
   "source": [
    "world_df.filter(\n",
    "    pl.col(\"Country\").is_in(\n",
    "        [\"Eswatini\", \"North Macedonia\", \"South Sudan\", \"Monaco\", \"Nauru\"]\n",
    "    )\n",
    ").select([\"Country\", \"Forested Area (%)\"])"
   ]
  },
  {
   "cell_type": "code",
   "execution_count": null,
   "metadata": {},
   "outputs": [],
   "source": [
    "missing_values = world_df.select(\n",
    "    [\n",
    "        pl.col(col).is_null().sum().alias(f\"{col} missing values\")\n",
    "        for col in world_df.select([\"Country\", \"Forested Area (%)\"]).columns\n",
    "    ]\n",
    ")\n",
    "missing_values"
   ]
  },
  {
   "cell_type": "markdown",
   "metadata": {},
   "source": [
    "We export the data:"
   ]
  },
  {
   "cell_type": "code",
   "execution_count": null,
   "metadata": {},
   "outputs": [],
   "source": [
    "world_df.select([\"Country\", \"Forested Area (%)\"]).write_csv(\n",
    "    \"../data/cleaned/forest_exported.csv\"\n",
    ")"
   ]
  },
  {
   "cell_type": "markdown",
   "metadata": {},
   "source": [
    "Once the operations necessary to analyze the data have been carried out, we will try to answer the following questions:\n",
    "\n",
    "> **Question 1:** Is a higher percentage of forest cover associated with lower Co2 emissions?\n",
    "\n",
    "> **Question 2:** Do countries with greater forest cover tend to have a higher life expectancy?"
   ]
  },
  {
   "cell_type": "markdown",
   "metadata": {},
   "source": [
    "### Correlation Matrix"
   ]
  },
  {
   "cell_type": "markdown",
   "metadata": {},
   "source": [
    "A correlation matrix offers visual insights into the relationships between attributes, helping us answer the research questions. We prepare the data for correlation analysis by removing unnecessary columns and categorizing the remaining ones. This allows us to visually explore the relationships between attributes and answer the research questions."
   ]
  },
  {
   "cell_type": "code",
   "execution_count": null,
   "metadata": {},
   "outputs": [],
   "source": [
    "world_df_cp = world_df.clone()\n",
    "world_df_cp = world_df_cp.drop([\"Country\", \"Abbreviation\", \"Latitude\", \"Longitude\"])\n",
    "world_df_cp = world_df_cp.drop_nulls()\n",
    "world_df_cp"
   ]
  },
  {
   "cell_type": "code",
   "execution_count": null,
   "metadata": {},
   "outputs": [],
   "source": [
    "fa_33, fa_66 = (\n",
    "    world_df_cp[\"Forested Area (%)\"].quantile(0.33),\n",
    "    world_df_cp[\"Forested Area (%)\"].quantile(0.66),\n",
    ")\n",
    "co2_33, co2_66 = (\n",
    "    world_df_cp[\"Co2-Emissions\"].quantile(0.33),\n",
    "    world_df_cp[\"Co2-Emissions\"].quantile(0.66),\n",
    ")\n",
    "gdp_33, gdp_66 = world_df_cp[\"GDP\"].quantile(0.33), world_df_cp[\"GDP\"].quantile(0.66)\n",
    "fe_33, fe_66 = (\n",
    "    world_df_cp[\"Life expectancy\"].quantile(0.33),\n",
    "    world_df_cp[\"Life expectancy\"].quantile(0.66),\n",
    ")\n",
    "\n",
    "world_df_cp = world_df_cp.with_columns(\n",
    "    [\n",
    "        pl.col(\"Forested Area (%)\")\n",
    "        .map_elements(\n",
    "            lambda x: \"Low\" if x <= fa_33 else \"Regular\" if x <= fa_66 else \"High\",\n",
    "            return_dtype=pl.Utf8,\n",
    "        )\n",
    "        .alias(\"Forest_area\"),\n",
    "        pl.col(\"Co2-Emissions\")\n",
    "        .map_elements(\n",
    "            lambda x: \"Low\" if x <= co2_33 else \"Regular\" if x <= co2_66 else \"High\",\n",
    "            return_dtype=pl.Utf8,\n",
    "        )\n",
    "        .alias(\"Co2\"),\n",
    "        pl.col(\"GDP\")\n",
    "        .map_elements(\n",
    "            lambda x: \"Low\" if x <= gdp_33 else \"Regular\" if x <= gdp_66 else \"High\",\n",
    "            return_dtype=pl.Utf8,\n",
    "        )\n",
    "        .alias(\"GDP_\"),\n",
    "        pl.col(\"Life expectancy\")\n",
    "        .map_elements(\n",
    "            lambda x: \"Low\" if x <= fe_33 else \"Regular\" if x <= fe_66 else \"High\",\n",
    "            return_dtype=pl.Utf8,\n",
    "        )\n",
    "        .alias(\"Life_expec\"),\n",
    "    ]\n",
    ")\n",
    "\n",
    "world_df_cp = world_df_cp.to_dummies(\n",
    "    columns=[\"Forest_area\", \"Co2\", \"GDP_\", \"Life_expec\"]\n",
    ")\n",
    "\n",
    "world_df_cp = world_df_cp.drop(\"Forested Area (%)\")\n",
    "world_df_cp = world_df_cp.drop(\"Co2-Emissions\")\n",
    "world_df_cp = world_df_cp.drop(\"GDP\")\n",
    "world_df_cp = world_df_cp.drop(\"Life expectancy\")\n",
    "\n",
    "world_df_cp.head(10)"
   ]
  },
  {
   "cell_type": "code",
   "execution_count": null,
   "metadata": {},
   "outputs": [],
   "source": [
    "correlation_matrix_pearson = world_df_cp.to_pandas().corr(method=\"spearman\")\n",
    "\n",
    "plt.figure(figsize=(10, 8))\n",
    "sns.heatmap(correlation_matrix_pearson, annot=True, cmap=\"PiYG\", linewidths=0.5)\n",
    "plt.title(\"Spearman Correlation Heatmap\")\n",
    "plt.show()"
   ]
  },
  {
   "cell_type": "markdown",
   "metadata": {},
   "source": [
    "The correlation analysis, using Pearson, Spearman, and Kendall methods, did not revealed statistically significant relationships between the variables. This absence of correlation was corroborated by the scatter plot, which showed no discernible patterns.  The unchanging nature of the correlation matrix is likely a consequence of the small sample size (under 200 data examples), which may limit the power to detect true correlations."
   ]
  },
  {
   "cell_type": "code",
   "execution_count": null,
   "metadata": {},
   "outputs": [],
   "source": [
    "fig, axes = plt.subplots(1, 2, figsize=(15, 6))\n",
    "\n",
    "sns.scatterplot(\n",
    "    data=world_df, x=\"Forested Area (%)\", y=\"Co2-Emissions\", alpha=0.7, ax=axes[0]\n",
    ")\n",
    "axes[0].set_xlabel(\"Forested Area (%)\")\n",
    "axes[0].set_ylabel(\"CO₂ Emissions (metric tons)\")\n",
    "axes[0].set_title(\"Scatter Plot: Forested Area (%) vs Co2 Emissions\")\n",
    "\n",
    "sns.scatterplot(\n",
    "    data=world_df, x=\"Forested Area (%)\", y=\"Life expectancy\", alpha=0.7, ax=axes[1]\n",
    ")\n",
    "axes[1].set_xlabel(\"Forested Area (%)\")\n",
    "axes[1].set_ylabel(\"Life Expectancy (years)\")\n",
    "axes[1].set_title(\"Scatter Plot: Forested Area (%) vs Life Expectancy\")\n",
    "\n",
    "plt.tight_layout()\n",
    "plt.show()"
   ]
  },
  {
   "cell_type": "markdown",
   "metadata": {},
   "source": [
    "### **Final deductions**\n",
    "1. Countries exhibiting high CO2 emissions tend to have a lower percentage of forest cover. This phenomenon may be attributed to a reduced degree of industrialization or the implementation of more stringent environmental policies. However, there does not appear to be a clear relationship between the volume of CO2 emissions and the percentage of forest area. \n",
    "\n",
    "2. Surprisingly, the correlation suggests that high forest area is not strongly associated with longer life expectancy. In fact, the relationship with high life expectancy is slightly negative (-0.13). This may indicate that countries with more forests may not necessarily be the most developed in terms of health and well-being.\n",
    "\n",
    "3. Finally, and although unrelated to the questions, it is worth noting that countries with high GDP tend to have high Co2 emissions, suggesting that economic development is linked to energy consumption and industrial activity. As GDP increases, it is less common to find low Co2 emissions, reinforcing the idea that larger economies have a larger carbon footprint. This may indicate that some countries with low GDP still rely on polluting energy sources, such as coal, to sustain their economy.\n",
    "\n",
    "  This information will be essential for the subsequent analysis to be carried out."
   ]
  },
  {
   "cell_type": "markdown",
   "metadata": {},
   "source": [
    "<hr>"
   ]
  },
  {
   "cell_type": "markdown",
   "metadata": {},
   "source": [
    "## **Co2 EMISSIONS ANALYSIS**"
   ]
  },
  {
   "cell_type": "markdown",
   "metadata": {},
   "source": [
    "Since the dataset has missing values in Co2-Emissions column, and some of these values **​​appear to be incorrect**, let's load another dataset from the following source.\n",
    "\n",
    "Co2 emissions of all world countries, 2022 Report: https://edgar.jrc.ec.europa.eu/report_2022\n",
    "\n",
    "Authors: Crippa M., Guizzardi D., Banja M., Solazzo E., Muntean M., Schaaf E., Pagani F., Monforti-Ferrario F., Olivier, J.G.J., Quadrelli, R., Grassi, G., Rossi, S., Oom, D., Branco, A., San-Miguel, J., Vignati, E. Co2"
   ]
  },
  {
   "cell_type": "code",
   "execution_count": null,
   "metadata": {},
   "outputs": [],
   "source": [
    "co2_df_original: pl.DataFrame = pl.read_excel(\n",
    "    \"../data/raw/ambiental_analysis/EDGARv7.0_FT2021_fossil_CO2_booklet_2022.xlsx\",\n",
    "    sheet_name=\"fossil_CO2_totals_by_country\",\n",
    ")\n",
    "\n",
    "# Let's remove the previously used columns, which are no longer useful for this analysis\n",
    "world_df = world_df.drop([\"Forested Area (%)\", \"Life expectancy\"])\n",
    "\n",
    "co2_df = co2_df_original.clone()"
   ]
  },
  {
   "cell_type": "code",
   "execution_count": null,
   "metadata": {},
   "outputs": [],
   "source": [
    "world_df"
   ]
  },
  {
   "cell_type": "markdown",
   "metadata": {},
   "source": [
    "Now, we have to answer the following question: Which countries in the new dataset are not in the original dataset and vice versa?"
   ]
  },
  {
   "cell_type": "code",
   "execution_count": null,
   "metadata": {},
   "outputs": [],
   "source": [
    "print(list(world_df.filter(~world_df[\"Country\"].is_in(co2_df[\"Country\"]))[\"Country\"]))\n",
    "print(list(co2_df.filter(~co2_df[\"Country\"].is_in(world_df[\"Country\"]))[\"Country\"]))"
   ]
  },
  {
   "cell_type": "markdown",
   "metadata": {},
   "source": [
    "We standardize country names by applying a series of replacements to ensure consistency (e.g. 'Côte d'Ivoire' becomes 'Ivory Coast', 'Spain and Andorra' become two rows). Furthermore, it is necessary to make the proportions in these cases, since 'Spain and Andorra' indicates the emissions of both countries together."
   ]
  },
  {
   "cell_type": "code",
   "execution_count": null,
   "metadata": {},
   "outputs": [],
   "source": [
    "co2_df = co2_df.with_columns(\n",
    "    pl.col(\"Country\")\n",
    "    .str.strip_chars()\n",
    "    .replace(\n",
    "        {\n",
    "            # \"Spain and Andorra\": \"Andorra\",\n",
    "            \"Bahamas\": \"The Bahamas\",\n",
    "            \"Côte d’Ivoire\": \"Ivory Coast\",\n",
    "            \"Cabo Verde\": \"Cape Verde\",\n",
    "            \"Congo\": \"Republic of the Congo\",\n",
    "            \"Czechia\": \"Czech Republic\",\n",
    "            \"France and Monaco\": \"France\",\n",
    "            \"Ireland\": \"Republic of Ireland\",\n",
    "            \"Israel and Palestine, State of\": \"Israel\",\n",
    "            \"Italy, San Marino and the Holy See\": \"Italy\",\n",
    "            # \"Switzerland and Liechtenstein\" : \"Liechtenstein\",\n",
    "            # \"France and Monaco\" : \"Monaco\",\n",
    "            # \"Serbia and Montenegro\" : \"Montenegro\",\n",
    "            \"Myanmar/Burma\": \"Myanmar\",\n",
    "            # \"Italy, San Marino and the Holy See\" : \"San Marino\",\n",
    "            \"São Tomé and Príncipe\": \"Sao Tome and Principe\",\n",
    "            \"Serbia and Montenegro\": \"Serbia\",\n",
    "            # \"Sudan and South Sudan\" : \"South Sudan\",\n",
    "            \"Spain and Andorra\": \"Spain\",\n",
    "            \"Sudan and South Sudan\": \"Sudan\",\n",
    "            \"Switzerland and Liechtenstein\": \"Switzerland\",\n",
    "            \"Timor-Leste\": \"East Timor\",\n",
    "        }\n",
    "    )\n",
    "    .alias(\"Country\")\n",
    ")\n",
    "\n",
    "# Proportion system provided by ChatGPT\n",
    "proportions = {\n",
    "    \"Andorra\": (\"Spain\", 0.0017),\n",
    "    \"Liechtenstein\": (\"Switzerland\", 0.0009),\n",
    "    \"Monaco\": (\"France\", 0.0007),\n",
    "    \"Montenegro\": (\"Serbia\", 0.012),\n",
    "    \"San Marino\": (\"Italy\", 0.0005),\n",
    "    \"South Sudan\": (\"Sudan\", 0.075),\n",
    "}\n",
    "\n",
    "numeric_cols = co2_df.select(pl.col(pl.Float64)).columns\n",
    "\n",
    "new_rows = []\n",
    "for new_country, (source_country, proportion) in proportions.items():\n",
    "    if source_country in co2_df[\"Country\"].to_list():\n",
    "        source_row = co2_df.filter(pl.col(\"Country\") == source_country)\n",
    "\n",
    "        new_row = source_row.with_columns(\n",
    "            pl.lit(new_country).alias(\"Country\"),\n",
    "            *[pl.col(col) * proportion for col in numeric_cols],\n",
    "        )\n",
    "\n",
    "        co2_df = co2_df.with_columns(\n",
    "            *[\n",
    "                pl.when(pl.col(\"Country\") == source_country)\n",
    "                .then(pl.col(col) * (1 - proportion))\n",
    "                .otherwise(pl.col(col))\n",
    "                .alias(col)\n",
    "                for col in numeric_cols\n",
    "            ]\n",
    "        )\n",
    "\n",
    "        new_rows.append(new_row)\n",
    "\n",
    "if new_rows:\n",
    "    co2_df = pl.concat([co2_df, *new_rows])\n",
    "\n",
    "co2_df"
   ]
  },
  {
   "cell_type": "markdown",
   "metadata": {},
   "source": [
    "Now, we will check that some countries from the world information dataset (world_df) do not yet appear in the Co2 emissions dataset, after having mapped the names"
   ]
  },
  {
   "cell_type": "code",
   "execution_count": null,
   "metadata": {},
   "outputs": [],
   "source": [
    "mssing_countries = world_df.filter(~world_df[\"Country\"].is_in(co2_df[\"Country\"]))\n",
    "mssing_countries[\"Country\"]"
   ]
  },
  {
   "cell_type": "markdown",
   "metadata": {},
   "source": [
    "To ensure data consistency, we perform a join-like operation, retaining only the countries present in both datasets. Our primary analysis focuses on Co2 emissions data from odd years between 1999 and 2021. This selection is deliberate, as data from 2020 may reflect the global impact of the COVID-19 pandemic, which could introduce noise or bias into our trend analysis. However, to specifically investigate these potential pandemic-related effects, we will also conduct a separate analysis using 2020 data. \n",
    "Subsequently, we select the relevant columns and discard the rest. Finally, both DataFrames are sorted alphabetically by country to ensure consistency."
   ]
  },
  {
   "cell_type": "code",
   "execution_count": null,
   "metadata": {},
   "outputs": [],
   "source": [
    "world_df = world_df.filter(world_df[\"Country\"].is_in(co2_df[\"Country\"]))\n",
    "co2_df = co2_df.filter(co2_df[\"Country\"].is_in(world_df[\"Country\"]))\n",
    "\n",
    "columns_to_keep = {\"Country\"} | {\"2020\"} | {str(year) for year in range(1999, 2022, 2)}\n",
    "co2_df = co2_df.drop([col for col in co2_df.columns if col not in columns_to_keep])\n",
    "\n",
    "world_df = world_df.sort(\"Country\")\n",
    "co2_df = co2_df.sort(\"Country\")\n",
    "co2_df"
   ]
  },
  {
   "cell_type": "markdown",
   "metadata": {},
   "source": [
    "As a final preprocessing step, we validate the integrity of the Co2 emissions dataset (co2_df) by checking for missing data. We generate a summary table that shows the number of missing values present in each column. "
   ]
  },
  {
   "cell_type": "code",
   "execution_count": null,
   "metadata": {},
   "outputs": [],
   "source": [
    "missing_values = co2_df.select(\n",
    "    [\n",
    "        pl.col(col).is_null().sum().alias(f\"{col} missing values\")\n",
    "        for col in co2_df.columns\n",
    "    ]\n",
    ")\n",
    "missing_values"
   ]
  },
  {
   "cell_type": "markdown",
   "metadata": {},
   "source": [
    "<hr>"
   ]
  },
  {
   "cell_type": "markdown",
   "metadata": {},
   "source": [
    "As previously noted, the global information dataset had missing and incorrect values ​​for the Co2_Emissions column. To mitigate these issues, we will analyze historical Co2 emission trends for each country during odd years between 1999 and 2021, which will ultimately allow us to predict 2023 emissions. This leads us to the **first question of the CO2 analysis**:\n",
    "\n",
    "> Is there a proximity relationship between country's Co2 emissions compared to its neighbouring countries? If so, incorporating geographic coordinates (latitude and longitude) will be crucial for accurate emissions prediction.\n",
    "\n",
    "To investigate this, we will use the country emissions record for the year 2021, which is the most recent one we have available."
   ]
  },
  {
   "cell_type": "code",
   "execution_count": null,
   "metadata": {},
   "outputs": [],
   "source": [
    "co2_df_folium = co2_df.clone()\n",
    "\n",
    "co2_df_folium = co2_df_folium.with_columns(\n",
    "    world_df[\"Abbreviation\"], world_df[\"Latitude\"], world_df[\"Longitude\"]\n",
    ")\n",
    "co2_df_folium"
   ]
  },
  {
   "cell_type": "markdown",
   "metadata": {},
   "source": [
    "We can create an interactive map using Folium library, where the size and color of markers indicate the amount of emissions per country"
   ]
  },
  {
   "cell_type": "code",
   "execution_count": null,
   "metadata": {},
   "outputs": [],
   "source": [
    "# Functions generated with ChatGPT to calculate marker radius and grayscale gradient color\n",
    "def scale_radius(value, min_val, max_val, min_radius=1, max_radius=30):\n",
    "    return min_radius + (np.log1p(value) - np.log1p(min_val)) / (\n",
    "        np.log1p(max_val) - np.log1p(min_val)\n",
    "    ) * (max_radius - min_radius)\n",
    "\n",
    "\n",
    "def get_gray_shade(value):\n",
    "    if value <= 100:\n",
    "        gray_value = 180\n",
    "    elif value >= 1000:\n",
    "        gray_value = 30\n",
    "    else:\n",
    "        gray_value = int(140 - (value / 1000) * 170)\n",
    "    return f\"rgb({gray_value},{gray_value},{gray_value})\""
   ]
  },
  {
   "cell_type": "code",
   "execution_count": null,
   "metadata": {},
   "outputs": [],
   "source": [
    "df_selected = co2_df_folium.select(\n",
    "    [\"Country\", \"Abbreviation\", \"Latitude\", \"Longitude\", \"2021\"]\n",
    ").drop_nulls()\n",
    "min_emission, max_emission = df_selected[\"2021\"].min(), df_selected[\"2021\"].max()\n",
    "\n",
    "co2_map = folium.Map(location=(30, 10), zoom_start=4.5, tiles=\"cartodbpositron\")\n",
    "\n",
    "for row in df_selected.iter_rows(named=True):\n",
    "    radius = scale_radius(row[\"2021\"], min_emission, max_emission)\n",
    "    gray_color = get_gray_shade(row[\"2021\"])\n",
    "    folium.CircleMarker(\n",
    "        location=(row[\"Latitude\"], row[\"Longitude\"]),\n",
    "        radius=radius,\n",
    "        color=gray_color,\n",
    "        fill=True,\n",
    "        fill_color=gray_color,\n",
    "        fill_opacity=0.6,\n",
    "        popup=f\"{row['Country']} ({row['Abbreviation']}): {row['2021']:,.4f} toneladas\",\n",
    "    ).add_to(co2_map)\n",
    "\n",
    "co2_map"
   ]
  },
  {
   "cell_type": "markdown",
   "metadata": {},
   "source": [
    "As we can see, proximity is not a relevant factor in a country's Co2 emissions. While Spain and France, for example, are geographically close, their emission levels are substantially higher than those of Portugal and Switzerland, which are also nearby.\n",
    "\n",
    "Taking this into account, we are going to visualize the evolution of Co2 for some countries, to later calculate a prediction by applying a regression model."
   ]
  },
  {
   "cell_type": "code",
   "execution_count": null,
   "metadata": {},
   "outputs": [],
   "source": [
    "df_top10 = (\n",
    "    co2_df.slice(9, 1)\n",
    "    .vstack(co2_df.slice(12, 1))\n",
    "    .vstack(co2_df.slice(15, 1))\n",
    "    .vstack(co2_df.slice(18, 1))\n",
    "    .melt(\n",
    "        id_vars=[\"Country\"],\n",
    "        value_vars=[str(year) for year in range(1999, 2022, 2)],\n",
    "        variable_name=\"Year\",\n",
    "        value_name=\"Emissions\",\n",
    "    )\n",
    ")\n",
    "\n",
    "line = px.line(\n",
    "    df_top10.to_pandas(), x=\"Year\", y=\"Emissions\", color=\"Country\", markers=True\n",
    ")\n",
    "line.update_yaxes(\n",
    "    title_text=\"Co2 emissions (metric tons per capita)\",\n",
    "    range=[0, df_top10[\"Emissions\"].max() * 1.1],\n",
    ")\n",
    "line.update_yaxes(title_text=\"Co2 emissions (metric tons)\")\n",
    "line.update_xaxes(title_text=\"Year\", rangeslider_visible=False)\n",
    "line.update_layout(\n",
    "    legend=dict(title=\"Country\"),\n",
    "    showlegend=True,\n",
    "    title={\n",
    "        \"text\": \"Co2 Emissions Evolution\",\n",
    "        \"y\": 0.94,\n",
    "        \"x\": 0.5,\n",
    "        \"xanchor\": \"center\",\n",
    "        \"yanchor\": \"top\",\n",
    "    },\n",
    "    template=\"plotly_white\",\n",
    ")\n",
    "line.show()"
   ]
  },
  {
   "cell_type": "markdown",
   "metadata": {},
   "source": [
    "<hr>"
   ]
  },
  {
   "cell_type": "markdown",
   "metadata": {},
   "source": [
    "### Co2 Predictions (2023)"
   ]
  },
  {
   "cell_type": "markdown",
   "metadata": {},
   "source": [
    "Our approach to predicting 2023 Co2 emissions involves building country-specific polynomial regression models with Ridge or Lasso regularization. We begin by extracting and scaling historical emission data for each country in the co2_df DataFrame. We then employ cross-validation to determine the optimal polynomial degree and regularization strength for each model. Finally, we train the selected model, predict 2023 emissions, inverse-scale the predictions, and store them in a Polars DataFrame. This methodology allows us to account for individual country emission patterns, since we have verified that there is no relationship between emissions by proximity."
   ]
  },
  {
   "cell_type": "code",
   "execution_count": null,
   "metadata": {},
   "outputs": [],
   "source": [
    "year_columns = [\n",
    "    col\n",
    "    for col in co2_df.columns\n",
    "    if col not in [\"Country\", \"Abbreviation\", \"Latitude\", \"Longitude\", \"2020\"]\n",
    "]\n",
    "years = np.array([int(y) for y in year_columns]).reshape(-1, 1)\n",
    "predictions = []\n",
    "\n",
    "for row in co2_df.iter_rows(named=True):\n",
    "    country = row[\"Country\"]\n",
    "    emissions = np.array([row[year] for year in year_columns]).reshape(-1, 1)\n",
    "\n",
    "    year_scaler = StandardScaler()\n",
    "    years_scaled = year_scaler.fit_transform(years)\n",
    "\n",
    "    emission_scaler = StandardScaler()\n",
    "    emissions_scaled = emission_scaler.fit_transform(emissions)\n",
    "\n",
    "    best_degree = 1\n",
    "    best_alpha = 0.001\n",
    "    best_score = -np.inf\n",
    "    best_model_type = \"Ridge\"\n",
    "\n",
    "    for degree in [1, 2, 3]:\n",
    "        poly = PolynomialFeatures(degree=degree)\n",
    "        X_poly = poly.fit_transform(years_scaled)\n",
    "\n",
    "        for alpha in [0.0001, 0.001, 0.01, 0.1, 1.0, 10.0]:\n",
    "            for model_type in [\"Ridge\", \"Lasso\"]:\n",
    "                model = (\n",
    "                    Ridge(alpha=alpha) if model_type == \"Ridge\" else Lasso(alpha=alpha)\n",
    "                )\n",
    "\n",
    "                scores = cross_val_score(\n",
    "                    model,\n",
    "                    X_poly,\n",
    "                    emissions_scaled,\n",
    "                    cv=10,\n",
    "                    scoring=\"neg_mean_absolute_error\",\n",
    "                )\n",
    "                avg_score = np.mean(scores)\n",
    "\n",
    "                if avg_score > best_score:\n",
    "                    best_score = avg_score\n",
    "                    best_degree = degree\n",
    "                    best_alpha = alpha\n",
    "                    best_model_type = model_type\n",
    "\n",
    "    poly = PolynomialFeatures(degree=best_degree)\n",
    "    X_poly = poly.fit_transform(years_scaled)\n",
    "\n",
    "    model = (\n",
    "        Ridge(alpha=best_alpha)\n",
    "        if best_model_type == \"Ridge\"\n",
    "        else Lasso(alpha=best_alpha)\n",
    "    )\n",
    "    model.fit(X_poly, emissions_scaled)\n",
    "\n",
    "    poly = PolynomialFeatures(degree=best_degree)\n",
    "    X_poly = poly.fit_transform(years_scaled)\n",
    "\n",
    "    model = Ridge(alpha=best_alpha)\n",
    "    model.fit(X_poly, emissions_scaled)\n",
    "\n",
    "    X_pred = year_scaler.transform([[2023]])\n",
    "    X_pred_poly = poly.transform(X_pred)\n",
    "    predicted_emission_scaled = model.predict(X_pred_poly)[0][0]\n",
    "\n",
    "    predicted_emission = emission_scaler.inverse_transform(\n",
    "        [[predicted_emission_scaled]]\n",
    "    )[0][0]\n",
    "    predictions.append({\"Country\": country, \"Co2-Emissions\": predicted_emission})\n",
    "\n",
    "predictions_df = pl.DataFrame(predictions)\n",
    "predictions_df.filter(pl.arange(0, predictions_df.height).is_in([9, 12, 15, 18]))"
   ]
  },
  {
   "cell_type": "code",
   "execution_count": null,
   "metadata": {},
   "outputs": [],
   "source": [
    "world_df = world_df.with_columns(predictions_df[\"Co2-Emissions\"])\n",
    "world_df"
   ]
  },
  {
   "cell_type": "markdown",
   "metadata": {},
   "source": [
    "<hr>"
   ]
  },
  {
   "cell_type": "markdown",
   "metadata": {},
   "source": [
    "### Correlation Matrix"
   ]
  },
  {
   "cell_type": "markdown",
   "metadata": {},
   "source": [
    "The 01_introduction_and_processing.ipynb notebook reveals a strong positive correlation (0.92) between CO2 emissions and GDP.  To gain a more nuanced understanding of this relationship, we will construct a detailed correlation matrix, incorporating GDP and Co2-Emissions as categoricals variables."
   ]
  },
  {
   "cell_type": "code",
   "execution_count": null,
   "metadata": {},
   "outputs": [],
   "source": [
    "world_df_cp = world_df.clone()\n",
    "\n",
    "co2_33, co2_66 = (\n",
    "    world_df[\"Co2-Emissions\"].quantile(0.33),\n",
    "    world_df[\"Co2-Emissions\"].quantile(0.66),\n",
    ")\n",
    "gdp_33, gdp_66 = world_df[\"GDP\"].quantile(0.33), world_df[\"GDP\"].quantile(0.66)\n",
    "\n",
    "world_df_cp = world_df.with_columns(\n",
    "    [\n",
    "        pl.col(\"Co2-Emissions\")\n",
    "        .map_elements(\n",
    "            lambda x: \"Low\" if x <= co2_33 else \"Regular\" if x <= co2_66 else \"High\",\n",
    "            return_dtype=pl.Utf8,\n",
    "        )\n",
    "        .alias(\"Co2_\"),\n",
    "        pl.col(\"GDP\")\n",
    "        .map_elements(\n",
    "            lambda x: \"Low\" if x <= gdp_33 else \"Regular\" if x <= gdp_66 else \"High\",\n",
    "            return_dtype=pl.Utf8,\n",
    "        )\n",
    "        .alias(\"GDP_\"),\n",
    "    ]\n",
    ")\n",
    "\n",
    "world_df_cp = world_df_cp.to_dummies(columns=[\"Co2_\", \"GDP_\"])\n",
    "world_df_cp = world_df_cp.drop(\n",
    "    [\"Country\", \"Abbreviation\", \"Latitude\", \"Longitude\", \"Co2-Emissions\", \"GDP\"]\n",
    ")\n",
    "world_df_cp.head(10)"
   ]
  },
  {
   "cell_type": "code",
   "execution_count": null,
   "metadata": {},
   "outputs": [],
   "source": [
    "corr_matrix_pd = world_df_cp.corr().to_pandas()\n",
    "corr_matrix_pd.index = world_df_cp.columns\n",
    "corr_matrix_pd.columns = world_df_cp.columns\n",
    "\n",
    "plt.figure(figsize=(10, 8))\n",
    "sns.heatmap(corr_matrix_pd, annot=True, cmap=\"PiYG\", linewidths=0.5)\n",
    "plt.title(\"Correlation Heatmap with One-Hot Encoding\")\n",
    "plt.show()"
   ]
  },
  {
   "cell_type": "markdown",
   "metadata": {},
   "source": [
    "Our next step is to identify potential outliers in the relationship between economic size and CO2 emissions, using our 2023 predictions. We are particularly interested in identifying any countries that deviate significantly from the expected correlation. \n",
    "Specifically, the **following research question** is:\n",
    "\n",
    "> Are there countries whose Co2 emissions are significantly higher or lower, than expected given their economic size?"
   ]
  },
  {
   "cell_type": "markdown",
   "metadata": {},
   "source": [
    "We will implement a linear regression and analyze the residuals because it is an effective strategy to detect anomalies in the relationship between GDP and Co2 emissions. Based on the correlation matrix, we identified a strong relationship between both variables, so by modeling them with regression we can establish an expected trend. Then, by examining the residuals (the difference between the observed and predicted values), we identify which countries deviate significantly from this trend. Those with high waste emit more Co2 than expected for their level of GDP, while those with negative waste emit less. Additionally, we use a logarithmic scale because both GDP and Co2 emissions vary by orders of magnitude. This allows us to facilitate model fitting and improve data interpretation, as well as allowing better detection of outliers by giving more visibility to countries with smaller values."
   ]
  },
  {
   "cell_type": "code",
   "execution_count": null,
   "metadata": {},
   "outputs": [],
   "source": [
    "X = np.log10(world_df[\"GDP\"].to_numpy()).reshape(-1, 1)\n",
    "y = np.log10(world_df[\"Co2-Emissions\"].to_numpy())\n",
    "countries = world_df[\"Country\"].to_numpy()\n",
    "\n",
    "reg = LinearRegression()\n",
    "reg.fit(X, y)\n",
    "y_pred = reg.predict(X)\n",
    "\n",
    "residuals = y - y_pred\n",
    "z_scores = stats.zscore(residuals)\n",
    "\n",
    "threshold = 2.2\n",
    "high_emissions_low_gdp = (z_scores > threshold) & (X.flatten() < X.mean())\n",
    "low_emissions_high_gdp = (z_scores < -threshold) & (X.flatten() > X.mean())\n",
    "outliers_mask = high_emissions_low_gdp | low_emissions_high_gdp\n",
    "\n",
    "plt.figure(figsize=(12, 8))\n",
    "plt.scatter(\n",
    "    X[~outliers_mask],\n",
    "    y[~outliers_mask],\n",
    "    alpha=0.5,\n",
    "    label=\"Countries within the expected range\",\n",
    "    color=\"blue\",\n",
    ")\n",
    "plt.scatter(\n",
    "    X[high_emissions_low_gdp],\n",
    "    y[high_emissions_low_gdp],\n",
    "    color=\"black\",\n",
    "    alpha=0.7,\n",
    "    label=\"Low GDP - High emissions\",\n",
    "    s=100,\n",
    ")\n",
    "plt.scatter(\n",
    "    X[low_emissions_high_gdp],\n",
    "    y[low_emissions_high_gdp],\n",
    "    color=\"red\",\n",
    "    alpha=0.7,\n",
    "    label=\"High GDP - Low emissions\",\n",
    "    s=100,\n",
    ")\n",
    "plt.plot(\n",
    "    X, y_pred, color=\"green\", linestyle=\"--\", label=\"Expected GDP-Co2 relationship\"\n",
    ")\n",
    "\n",
    "for idx in np.where(outliers_mask)[0]:\n",
    "    plt.annotate(\n",
    "        countries[idx],\n",
    "        (X[idx], y[idx]),\n",
    "        xytext=(10, 10),\n",
    "        textcoords=\"offset points\",\n",
    "        fontsize=8,\n",
    "        bbox=dict(facecolor=\"white\", alpha=0.7, edgecolor=\"none\"),\n",
    "    )\n",
    "\n",
    "plt.xlabel(\"log(PIB)\")\n",
    "plt.ylabel(\"log(Co2)\")\n",
    "plt.title(\"Outlier analysis of the GDP-CO2 relationship\")\n",
    "plt.legend()\n",
    "plt.show()\n",
    "\n",
    "outliers_df = world_df.filter(pl.Series(outliers_mask))\n",
    "outliers_df"
   ]
  },
  {
   "cell_type": "markdown",
   "metadata": {},
   "source": [
    "We confirmed the results obtained by applying clustering, such as DBSCAN:"
   ]
  },
  {
   "cell_type": "code",
   "execution_count": null,
   "metadata": {},
   "outputs": [],
   "source": [
    "X = np.log10(world_df[[\"GDP\", \"Co2-Emissions\"]].to_numpy())\n",
    "\n",
    "scaler = StandardScaler()\n",
    "X_scaled = scaler.fit_transform(X)\n",
    "\n",
    "dbscan = DBSCAN(eps=0.75, min_samples=4)\n",
    "clusters = dbscan.fit_predict(X_scaled)\n",
    "\n",
    "non_outliers = clusters != -1\n",
    "X_clean = X[non_outliers]\n",
    "\n",
    "slope = np.polyfit(X_clean[:, 0], X_clean[:, 1], 1)[0]\n",
    "expected_co2 = X[:, 0] * slope + np.median(X[:, 1] - X[:, 0] * slope)\n",
    "\n",
    "residuals = X[:, 1] - expected_co2\n",
    "\n",
    "std_residuals = np.std(residuals[non_outliers])\n",
    "gdp_median = np.median(X[:, 0])\n",
    "\n",
    "outlier_threshold = 2.2\n",
    "high_emissions_low_gdp = (residuals > outlier_threshold * std_residuals) & (\n",
    "    X[:, 0] < gdp_median\n",
    ")\n",
    "low_emissions_high_gdp = (residuals < -outlier_threshold * std_residuals) & (\n",
    "    X[:, 0] > gdp_median\n",
    ")\n",
    "\n",
    "outliers_mask = high_emissions_low_gdp | low_emissions_high_gdp\n",
    "\n",
    "outliers_df = world_df.filter(pl.Series(outliers_mask))\n",
    "\n",
    "outlier_types = []\n",
    "for idx in range(len(outliers_df)):\n",
    "    mask_idx = np.where(outliers_mask)[0][idx]\n",
    "    if high_emissions_low_gdp[mask_idx]:\n",
    "        outlier_types.append(\"Low GDP - High emissions\")\n",
    "    else:\n",
    "        outlier_types.append(\"High GDP - Low emissions\")\n",
    "\n",
    "outliers_df = outliers_df.with_columns(pl.Series(\"Outlier\", outlier_types))\n",
    "\n",
    "print(\"\\nCountries detected as outliers:\")\n",
    "outliers_df"
   ]
  },
  {
   "cell_type": "markdown",
   "metadata": {},
   "source": [
    "To understand the complex interplay of factors influencing CO2 emissions, I leveraged ChatGPT to analyze country-specific data.  This helped me interpret the relationships between energy sources, economic activities, and emissions levels. This analysis provided crucial context for the visualization, allowing for a more nuanced understanding of the obtained result.\n",
    "\n",
    "- **North Korea (Low GDP - High Emissions)**\n",
    "North Korea has a low GDP but relatively high Co2 emissions. The country relies heavily on coal for energy production, as it lacks access to modern, cleaner energy sources. Its industrial sector is outdated, with inefficient factories and power plants that contribute significantly to emissions. Furthermore, despite economic struggles, North Korea maintains energy-intensive military and industrial projects, which push emissions higher than expected for its low economic output.\n",
    "\n",
    "- **Switzerland (High GDP - Low Emissions)**\n",
    "Switzerland has a high GDP but relatively low Co2 emissions. This can be explained by its energy sources and economic structure. The country relies heavily on hydropower and nuclear energy, significantly reducing its carbon footprint. Additionally, Switzerland has a strong services-based economy, particularly in finance and pharmaceuticals, which are not carbon-intensive industries. Strict environmental policies and high energy efficiency also contribute to lower emissions despite its wealth.\n",
    "\n",
    "- **Palau (Low GDP - High Emissions)**\n",
    "Despite its small economy, Palau has unexpectedly high Co2 emissions, primarily due to its heavy reliance on imported fossil fuels, especially diesel, for electricity and transport. The country lacks large-scale renewable energy infrastructure, making it dependent on inefficient and carbon-intensive energy sources. Additionally, its economy is heavily driven by tourism, which increases energy consumption through flights, resorts, and transport services. These factors contribute to emissions that are disproportionately high relative to its GDP."
   ]
  },
  {
   "cell_type": "markdown",
   "metadata": {},
   "source": [
    "<hr>"
   ]
  },
  {
   "cell_type": "markdown",
   "metadata": {},
   "source": [
    "The COVID-19 pandemic significantly disrupted global economic activity in 2020, impacting industry, transport and consequently, Co2 emissions. This leads to our **third question**:\n",
    "\n",
    "> Which continent recorded the largest decrease in Co2 emissions in 2020? Conversely, did any countries experience an increase in emissions despite the pandemic's global impact?"
   ]
  },
  {
   "cell_type": "code",
   "execution_count": null,
   "metadata": {},
   "outputs": [],
   "source": [
    "def get_continent(iso2):\n",
    "    if iso2 == \"TL\":\n",
    "        return \"Asia\"\n",
    "    country_code = pc.country_alpha2_to_continent_code(iso2)\n",
    "    continent_map = {\n",
    "        \"AF\": \"Africa\",\n",
    "        \"AS\": \"Asia\",\n",
    "        \"EU\": \"Europe\",\n",
    "        \"NA\": \"North America\",\n",
    "        \"SA\": \"South America\",\n",
    "        \"OC\": \"Oceania\",\n",
    "        \"AN\": \"Antarctica\",\n",
    "    }\n",
    "    return continent_map.get(country_code)"
   ]
  },
  {
   "cell_type": "code",
   "execution_count": null,
   "metadata": {},
   "outputs": [],
   "source": [
    "co2_df_folium = co2_df_folium.rename(\n",
    "    {col: col.strip() for col in co2_df_folium.columns}\n",
    ")\n",
    "\n",
    "co2_df_folium = co2_df_folium.with_columns(\n",
    "    pl.Series(\n",
    "        \"Continent\", [get_continent(iso2) for iso2 in co2_df_folium[\"Abbreviation\"]]\n",
    "    )\n",
    ")\n",
    "\n",
    "co2_selected = co2_df_folium.select([\"Country\", \"Continent\", \"2019\", \"2020\"])\n",
    "\n",
    "co2_by_continent = co2_selected.group_by(\"Continent\").agg(\n",
    "    pl.sum(\"2019\").alias(\"2019\"),\n",
    "    pl.sum(\"2020\").alias(\"2020\"),\n",
    ")\n",
    "\n",
    "co2_by_continent = co2_by_continent.with_columns(\n",
    "    (\n",
    "        (\n",
    "            (co2_by_continent[\"2020\"] - co2_by_continent[\"2019\"])\n",
    "            / co2_by_continent[\"2019\"]\n",
    "        )\n",
    "        * 100\n",
    "    ).alias(\"Change_Pct_2019_2020\"),\n",
    ")\n",
    "co2_by_continent = (\n",
    "    co2_by_continent.to_pandas().sort_values(by=\"Continent\").set_index(\"Continent\")\n",
    ")\n",
    "\n",
    "fig, ax = plt.subplots(figsize=(12, 6))\n",
    "bars = co2_by_continent[[\"2019\", \"2020\"]].plot(\n",
    "    kind=\"bar\", colormap=\"plasma\", alpha=0.85, ax=ax\n",
    ")\n",
    "\n",
    "for i, continent in enumerate(co2_by_continent.index):\n",
    "    change_19_20 = co2_by_continent.loc[continent, \"Change_Pct_2019_2020\"]\n",
    "    bar_2020 = ax.patches[i + len(co2_by_continent.index)]\n",
    "    change_label = f\"{change_19_20:,.1f}%\".replace(\",\", \".\")\n",
    "\n",
    "    ax.text(\n",
    "        bar_2020.get_x() + bar_2020.get_width() / 2,\n",
    "        bar_2020.get_height() + (max(co2_by_continent[\"2020\"]) * 0.05),\n",
    "        change_label,\n",
    "        ha=\"center\",\n",
    "        va=\"bottom\",\n",
    "        fontsize=11,\n",
    "        fontweight=\"bold\",\n",
    "        color=\"black\",\n",
    "        bbox=dict(facecolor=\"white\", edgecolor=\"black\"),\n",
    "    )\n",
    "\n",
    "ax.text(\n",
    "    0.88,\n",
    "    0.97,\n",
    "    \"Note: The label reflect the change\\nin 2020 emissions compared to 2019\",\n",
    "    transform=ax.transAxes,\n",
    "    fontsize=11,\n",
    "    verticalalignment=\"top\",\n",
    "    horizontalalignment=\"right\",\n",
    "    bbox=dict(facecolor=\"white\", edgecolor=\"black\"),\n",
    ")\n",
    "\n",
    "plt.legend(title=\"Year\", fontsize=11, loc=\"upper right\")\n",
    "plt.title(\"Co2 Emissions by Continent – 2019-2020 Change\", fontsize=13)\n",
    "plt.ylabel(\"Co2 Emissions (tons)\", fontsize=12)\n",
    "plt.xlabel(\"Continent\", fontsize=12)\n",
    "plt.xticks(rotation=45)\n",
    "plt.grid(axis=\"y\", linestyle=\"--\", alpha=0.7)\n",
    "ax.set_ylim(0, ax.get_ylim()[1] * 1.1)\n",
    "plt.tight_layout()\n",
    "plt.show()"
   ]
  },
  {
   "cell_type": "markdown",
   "metadata": {},
   "source": [
    "In 2020, North America led the continents in reducing CO2 emissions, achieving an 11.3% decrease. Europe followed with an 8.4% reduction. However, Asia saw the smallest decrease in emissions, at 1.3%. This may be because a significant portion of Asia's energy mix still relies heavily on coal, a high-carbon fuel source."
   ]
  },
  {
   "cell_type": "code",
   "execution_count": null,
   "metadata": {},
   "outputs": [],
   "source": [
    "co2_selected = co2_selected.with_columns(\n",
    "    (\n",
    "        ((co2_selected[\"2020\"] - co2_selected[\"2019\"]) / co2_selected[\"2019\"]) * 100\n",
    "    ).alias(\"Change_Pct_2019_2020\")\n",
    ")\n",
    "\n",
    "increased_emissions = co2_selected.filter(pl.col(\"Change_Pct_2019_2020\") > 0)\n",
    "increased_emissions = (\n",
    "    increased_emissions.sort(by=\"Change_Pct_2019_2020\", descending=True)\n",
    "    .head(5)\n",
    "    .to_pandas()\n",
    ")\n",
    "\n",
    "plt.figure(figsize=(12, 6))\n",
    "plt.barh(\n",
    "    increased_emissions[\"Country\"],\n",
    "    increased_emissions[\"Change_Pct_2019_2020\"],\n",
    "    color=\"firebrick\",\n",
    ")\n",
    "plt.xlabel(\"Percentage increase in CO₂ emissions (%)\")\n",
    "plt.ylabel(\"Country\")\n",
    "plt.title(\"Top 5 countries with the highest percentage increase in emissions in 2020\")\n",
    "plt.gca().invert_yaxis()\n",
    "plt.grid(axis=\"x\", linestyle=\"--\", alpha=0.7)\n",
    "plt.show()"
   ]
  },
  {
   "cell_type": "markdown",
   "metadata": {},
   "source": [
    "North Korea leads this list by a wide margin, followed by Mongolia, Laos, Iran and Ghana. This divergence from the global trend underscores the fact that national circumstances and policies played a crucial role in shaping emission patterns during the pandemic. The increase in emissions in these countries could be attributed to factors such as continued industrial activity, a reliance on fossil fuels for energy, or a rebound in economic activity following initial lockdowns."
   ]
  },
  {
   "cell_type": "markdown",
   "metadata": {},
   "source": [
    "<hr>"
   ]
  },
  {
   "cell_type": "markdown",
   "metadata": {},
   "source": [
    "\n",
    "Ultimately, we export the Co2 emission for each country to csv format, to be able to add it to the global information dataset in the 01_introduction_and_processing.ipynb notebook"
   ]
  },
  {
   "cell_type": "code",
   "execution_count": null,
   "metadata": {},
   "outputs": [],
   "source": [
    "world_df.select([\"Country\", \"Co2-Emissions\"]).write_csv(\n",
    "    \"../data/cleaned/co2_exported.csv\"\n",
    ")"
   ]
  }
 ],
 "metadata": {
  "kernelspec": {
   "display_name": "Python 3",
   "language": "python",
   "name": "python3"
  },
  "language_info": {
   "codemirror_mode": {
    "name": "ipython",
    "version": 3
   },
   "file_extension": ".py",
   "mimetype": "text/x-python",
   "name": "python",
   "nbconvert_exporter": "python",
   "pygments_lexer": "ipython3",
   "version": "3.11.8"
  }
 },
 "nbformat": 4,
 "nbformat_minor": 2
}
