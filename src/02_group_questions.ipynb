{
 "cells": [
  {
   "cell_type": "markdown",
   "metadata": {},
   "source": [
    "# Group Questions\n",
    "\n",
    "> **Things to remember**:\n",
    "> - The questions must be stated, justified, and an additional question is proposed above the minimum of 2 or at least outlined with a study afterward (sometimes these extra questions are not made explicit but are still studied).\n",
    "> - We should make an exploratory data analysis (EDA) for each question.\n",
    "> - We must apply more than one advanced technique (statistical test or data mining algorithm). For example, one advanced technique per question.\n",
    "> - Conclusions must be consistent with the results and understandable, answering the questions of interest raised. Also, we have to interpret the conclusions within the context of the dataset’s domain (e.g., therefore, treatment X is better than Y for treating fever, and the drug guides should be modified to improve the treatment of this type of symptom).\n",
    "> - We should include more than one correct and coherent visualization for the type of information being presented, making proper use of visual elements. For a higher grade, we should make use of advanced visualizations features of the libraries we use."
   ]
  },
  {
   "cell_type": "markdown",
   "metadata": {},
   "source": [
    "First, we will import the necessary libraries."
   ]
  },
  {
   "cell_type": "code",
   "execution_count": 2,
   "metadata": {},
   "outputs": [],
   "source": [
    "import polars as pl\n",
    "\n",
    "# Types\n",
    "from polars.dataframe.frame import DataFrame"
   ]
  },
  {
   "cell_type": "markdown",
   "metadata": {},
   "source": [
    "Now, we will load the cleaned dataset generated in the `01_introduction_and_processing.ipynb` notebook and perform and show its first few rows."
   ]
  },
  {
   "cell_type": "code",
   "execution_count": 3,
   "metadata": {},
   "outputs": [
    {
     "data": {
      "text/html": [
       "<div><style>\n",
       ".dataframe > thead > tr,\n",
       ".dataframe > tbody > tr {\n",
       "  text-align: right;\n",
       "  white-space: pre-wrap;\n",
       "}\n",
       "</style>\n",
       "<small>shape: (5, 41)</small><table border=\"1\" class=\"dataframe\"><thead><tr><th>Country</th><th>Density(P/Km2)</th><th>Abbreviation</th><th>Agricultural Land(%)</th><th>Land Area(Km2)</th><th>Armed Forces size</th><th>Birth Rate</th><th>Co2-Emissions</th><th>CPI</th><th>CPI Change (%)</th><th>Fertility Rate</th><th>Forested Area (%)</th><th>Gasoline Price</th><th>GDP</th><th>Gross primary education enrollment (%)</th><th>Gross tertiary education enrollment (%)</th><th>Infant mortality</th><th>Life expectancy</th><th>Maternal mortality ratio</th><th>Out of pocket health expenditure</th><th>Physicians per thousand</th><th>Population</th><th>Population: Labor force participation (%)</th><th>Tax revenue (%)</th><th>Total tax rate</th><th>Unemployment rate</th><th>Urban population</th><th>Latitude</th><th>Longitude</th><th>Median Salary</th><th>Daily calorie supply per person from other commodities</th><th>Daily calorie supply per person from alcoholic beverages</th><th>Daily calorie supply per person from sugar</th><th>Daily calorie supply per person from oils and fats</th><th>Daily calorie supply per person from meat</th><th>Daily calorie supply per person from dairy and eggs</th><th>Daily calorie supply per person from fruits and vegetables</th><th>Daily calorie supply per person from starchy roots</th><th>Daily calorie supply per person from pulses</th><th>Daily calorie supply per person from cereals and grains</th><th>Daily total caloric ingestion</th></tr><tr><td>str</td><td>f64</td><td>str</td><td>f64</td><td>f64</td><td>f64</td><td>f64</td><td>f64</td><td>f64</td><td>f64</td><td>f64</td><td>f64</td><td>f64</td><td>f64</td><td>f64</td><td>f64</td><td>f64</td><td>f64</td><td>f64</td><td>f64</td><td>f64</td><td>f64</td><td>f64</td><td>f64</td><td>f64</td><td>f64</td><td>f64</td><td>f64</td><td>f64</td><td>f64</td><td>f64</td><td>f64</td><td>f64</td><td>f64</td><td>f64</td><td>f64</td><td>f64</td><td>f64</td><td>f64</td><td>f64</td><td>f64</td></tr></thead><tbody><tr><td>&quot;Afghanistan&quot;</td><td>60.0</td><td>&quot;AF&quot;</td><td>58.1</td><td>652230.0</td><td>323000.0</td><td>32.49</td><td>8672.0</td><td>149.9</td><td>2.3</td><td>4.47</td><td>2.1</td><td>0.7</td><td>1.9101e10</td><td>104.0</td><td>9.7</td><td>47.9</td><td>64.5</td><td>638.0</td><td>78.4</td><td>0.28</td><td>3.8041754e7</td><td>48.9</td><td>9.3</td><td>71.4</td><td>11.12</td><td>9.797273e6</td><td>33.93911</td><td>67.709953</td><td>853.74</td><td>8.821558</td><td>0.0</td><td>202.237697</td><td>254.483138</td><td>50.166415</td><td>102.460547</td><td>123.306214</td><td>25.98626</td><td>24.000058</td><td>1519.539312</td><td>2311.001198</td></tr><tr><td>&quot;Albania&quot;</td><td>105.0</td><td>&quot;AL&quot;</td><td>43.1</td><td>28748.0</td><td>9000.0</td><td>11.78</td><td>4536.0</td><td>119.05</td><td>1.4</td><td>1.62</td><td>28.1</td><td>1.36</td><td>1.5278e10</td><td>107.0</td><td>55.0</td><td>7.8</td><td>78.5</td><td>15.0</td><td>56.9</td><td>1.2</td><td>2.854191e6</td><td>55.7</td><td>18.6</td><td>36.6</td><td>12.33</td><td>1.747593e6</td><td>41.153332</td><td>20.168331</td><td>832.84</td><td>53.712393</td><td>50.965451</td><td>223.651168</td><td>421.348781</td><td>212.191398</td><td>814.849454</td><td>713.243894</td><td>90.512176</td><td>51.973577</td><td>942.069818</td><td>3574.518109</td></tr><tr><td>&quot;Algeria&quot;</td><td>18.0</td><td>&quot;DZ&quot;</td><td>17.4</td><td>2.381741e6</td><td>317000.0</td><td>24.28</td><td>150006.0</td><td>151.36</td><td>2.0</td><td>3.02</td><td>0.8</td><td>0.28</td><td>1.6999e11</td><td>109.9</td><td>51.4</td><td>20.1</td><td>76.7</td><td>112.0</td><td>28.1</td><td>1.72</td><td>4.3053054e7</td><td>41.2</td><td>37.2</td><td>66.1</td><td>11.7</td><td>3.15101e7</td><td>28.033886</td><td>1.659626</td><td>1148.84</td><td>24.801911</td><td>4.999601</td><td>301.633378</td><td>560.377034</td><td>101.906382</td><td>326.188734</td><td>615.630856</td><td>115.823008</td><td>51.358187</td><td>1611.030679</td><td>3713.74977</td></tr><tr><td>&quot;Andorra&quot;</td><td>164.0</td><td>&quot;AD&quot;</td><td>40.0</td><td>468.0</td><td>45891.309772</td><td>7.2</td><td>469.0</td><td>144.893552</td><td>8.814943</td><td>1.27</td><td>34.0</td><td>1.51</td><td>3.1541e9</td><td>106.4</td><td>52.574324</td><td>2.7</td><td>84.04</td><td>-38.784641</td><td>36.4</td><td>3.33</td><td>77142.0</td><td>62.618059</td><td>19.248218</td><td>39.416895</td><td>6.042135</td><td>67873.0</td><td>42.506285</td><td>1.521801</td><td>3668.08</td><td>56.997138</td><td>208.266626</td><td>407.11814</td><td>873.135015</td><td>392.957022</td><td>506.879572</td><td>211.999502</td><td>120.999896</td><td>12.999883</td><td>821.000324</td><td>3612.353118</td></tr><tr><td>&quot;Angola&quot;</td><td>26.0</td><td>&quot;AO&quot;</td><td>47.5</td><td>1.2467e6</td><td>117000.0</td><td>40.73</td><td>34693.0</td><td>261.73</td><td>17.1</td><td>5.52</td><td>46.3</td><td>0.97</td><td>9.4635e10</td><td>113.5</td><td>9.3</td><td>51.6</td><td>60.8</td><td>241.0</td><td>33.4</td><td>0.21</td><td>3.1825295e7</td><td>77.5</td><td>9.2</td><td>49.1</td><td>6.89</td><td>2.1061025e7</td><td>-11.202692</td><td>17.873887</td><td>284.39</td><td>14.899377</td><td>84.089373</td><td>123.999842</td><td>350.435213</td><td>124.822425</td><td>18.054628</td><td>156.596191</td><td>888.107249</td><td>62.843695</td><td>875.956841</td><td>2699.804832</td></tr></tbody></table></div>"
      ],
      "text/plain": [
       "shape: (5, 41)\n",
       "┌───────────┬───────────┬───────────┬───────────┬───┬───────────┬───────────┬───────────┬──────────┐\n",
       "│ Country   ┆ Density(P ┆ Abbreviat ┆ Agricultu ┆ … ┆ Daily     ┆ Daily     ┆ Daily     ┆ Daily    │\n",
       "│ ---       ┆ /Km2)     ┆ ion       ┆ ral       ┆   ┆ calorie   ┆ calorie   ┆ calorie   ┆ total    │\n",
       "│ str       ┆ ---       ┆ ---       ┆ Land(%)   ┆   ┆ supply    ┆ supply    ┆ supply    ┆ caloric  │\n",
       "│           ┆ f64       ┆ str       ┆ ---       ┆   ┆ per       ┆ per       ┆ per       ┆ ingestio │\n",
       "│           ┆           ┆           ┆ f64       ┆   ┆ perso…    ┆ perso…    ┆ perso…    ┆ n        │\n",
       "│           ┆           ┆           ┆           ┆   ┆ ---       ┆ ---       ┆ ---       ┆ ---      │\n",
       "│           ┆           ┆           ┆           ┆   ┆ f64       ┆ f64       ┆ f64       ┆ f64      │\n",
       "╞═══════════╪═══════════╪═══════════╪═══════════╪═══╪═══════════╪═══════════╪═══════════╪══════════╡\n",
       "│ Afghanist ┆ 60.0      ┆ AF        ┆ 58.1      ┆ … ┆ 25.98626  ┆ 24.000058 ┆ 1519.5393 ┆ 2311.001 │\n",
       "│ an        ┆           ┆           ┆           ┆   ┆           ┆           ┆ 12        ┆ 198      │\n",
       "│ Albania   ┆ 105.0     ┆ AL        ┆ 43.1      ┆ … ┆ 90.512176 ┆ 51.973577 ┆ 942.06981 ┆ 3574.518 │\n",
       "│           ┆           ┆           ┆           ┆   ┆           ┆           ┆ 8         ┆ 109      │\n",
       "│ Algeria   ┆ 18.0      ┆ DZ        ┆ 17.4      ┆ … ┆ 115.82300 ┆ 51.358187 ┆ 1611.0306 ┆ 3713.749 │\n",
       "│           ┆           ┆           ┆           ┆   ┆ 8         ┆           ┆ 79        ┆ 77       │\n",
       "│ Andorra   ┆ 164.0     ┆ AD        ┆ 40.0      ┆ … ┆ 120.99989 ┆ 12.999883 ┆ 821.00032 ┆ 3612.353 │\n",
       "│           ┆           ┆           ┆           ┆   ┆ 6         ┆           ┆ 4         ┆ 118      │\n",
       "│ Angola    ┆ 26.0      ┆ AO        ┆ 47.5      ┆ … ┆ 888.10724 ┆ 62.843695 ┆ 875.95684 ┆ 2699.804 │\n",
       "│           ┆           ┆           ┆           ┆   ┆ 9         ┆           ┆ 1         ┆ 832      │\n",
       "└───────────┴───────────┴───────────┴───────────┴───┴───────────┴───────────┴───────────┴──────────┘"
      ]
     },
     "execution_count": 3,
     "metadata": {},
     "output_type": "execute_result"
    }
   ],
   "source": [
    "cleaned_df: DataFrame = pl.read_csv(\n",
    "    source=\"../data/cleaned/data.csv\",\n",
    ")\n",
    "cleaned_df.head()"
   ]
  },
  {
   "cell_type": "markdown",
   "metadata": {},
   "source": [
    "### Q1: What factors influence a country's life expectancy?\n",
    "\n",
    "> - We can add external data to this analysis, such as climate.\n",
    "> - We can explore correlations between the variables and apply association rules to find patterns.\n",
    "\n",
    "In order to give an answer to the question *What factors influence a country's life expectancy?*, we will investigate the key factors that influence life expectancy across different countries. Life expectancy is a crucial indicator of a nation’s overall well-being, reflecting healthcare quality, economic conditions, and other factors.\n",
    "\n",
    "Understanding the determinants of life expectancy is essential for policymakers, healthcare professionals, and economists to improve public health strategies and resource allocation. \n",
    "By analyzing global data, this study will identify the most influential factors and their relationships with life expectancy, offering insights into how countries can improve public health outcomes."
   ]
  },
  {
   "cell_type": "markdown",
   "metadata": {},
   "source": [
    "#### Correlation Analysis"
   ]
  },
  {
   "cell_type": "markdown",
   "metadata": {},
   "source": [
    "#### Association Rules\n",
    "\n",
    "Association rules are a powerful technique for discovering relationships between variables in large datasets. They are widely used in market basket analysis, where the goal is to identify patterns in consumer behavior. In this study, we will apply association rules to identify patterns between different variables and life expectancy. This method will allow us to discover meaningful patterns, such as whether healthcare expenditures are strongly associated with increased life expectancy or if specific economic conditions correlate with lower life expectancy.\n",
    "\n",
    "The first thing we need to do is to select the columns that we will use in the analysis."
   ]
  },
  {
   "cell_type": "markdown",
   "metadata": {},
   "source": [
    "#### Conclusion"
   ]
  },
  {
   "cell_type": "markdown",
   "metadata": {},
   "source": [
    "### Q2\n",
    "\n",
    "> We can try to make a clustering of countries (if clustering doesn't give us much information, we should consider one of the other questions we had planned and adapt them to apply an advanced technique)."
   ]
  }
 ],
 "metadata": {
  "kernelspec": {
   "display_name": ".venv",
   "language": "python",
   "name": "python3"
  },
  "language_info": {
   "codemirror_mode": {
    "name": "ipython",
    "version": 3
   },
   "file_extension": ".py",
   "mimetype": "text/x-python",
   "name": "python",
   "nbconvert_exporter": "python",
   "pygments_lexer": "ipython3",
   "version": "3.11.8"
  }
 },
 "nbformat": 4,
 "nbformat_minor": 2
}
