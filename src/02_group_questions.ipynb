{
 "cells": [
  {
   "cell_type": "markdown",
   "metadata": {},
   "source": [
    "# Group Questions\n",
    "\n",
    "> **Things to remember**:\n",
    "> - The questions must be stated, justified, and an additional question is proposed above the minimum of 2 or at least outlined with a study afterward (sometimes these extra questions are not made explicit but are still studied).\n",
    "> - We should make an exploratory data analysis (EDA) for each question.\n",
    "> - We must apply more than one advanced technique (statistical test or data mining algorithm). For example, one advanced technique per question.\n",
    "> - Conclusions must be consistent with the results and understandable, answering the questions of interest raised. Also, we have to interpret the conclusions within the context of the dataset’s domain (e.g., therefore, treatment X is better than Y for treating fever, and the drug guides should be modified to improve the treatment of this type of symptom).\n",
    "> - We should include more than one correct and coherent visualization for the type of information being presented, making proper use of visual elements. For a higher grade, we should make use of advanced visualizations features of the libraries we use."
   ]
  },
  {
   "cell_type": "markdown",
   "metadata": {},
   "source": [
    "First, we will import the necessary libraries."
   ]
  },
  {
   "cell_type": "code",
   "execution_count": null,
   "metadata": {},
   "outputs": [],
   "source": [
    "import polars as pl\n",
    "import matplotlib.pyplot as plt\n",
    "from mlxtend.frequent_patterns import apriori, association_rules\n",
    "\n",
    "# Types\n",
    "from polars.dataframe.frame import DataFrame"
   ]
  },
  {
   "cell_type": "markdown",
   "metadata": {},
   "source": [
    "Now, we will load the cleaned dataset generated in the `01_introduction_and_processing.ipynb` notebook and perform and show its first few rows."
   ]
  },
  {
   "cell_type": "code",
   "execution_count": 2,
   "metadata": {},
   "outputs": [
    {
     "data": {
      "text/html": [
       "<div><style>\n",
       ".dataframe > thead > tr,\n",
       ".dataframe > tbody > tr {\n",
       "  text-align: right;\n",
       "  white-space: pre-wrap;\n",
       "}\n",
       "</style>\n",
       "<small>shape: (5, 41)</small><table border=\"1\" class=\"dataframe\"><thead><tr><th>Country</th><th>Density(P/Km2)</th><th>Abbreviation</th><th>Agricultural Land(%)</th><th>Land Area(Km2)</th><th>Armed Forces size</th><th>Birth Rate</th><th>Co2-Emissions</th><th>CPI</th><th>CPI Change (%)</th><th>Fertility Rate</th><th>Forested Area (%)</th><th>Gasoline Price</th><th>GDP</th><th>Gross primary education enrollment (%)</th><th>Gross tertiary education enrollment (%)</th><th>Infant mortality</th><th>Life expectancy</th><th>Maternal mortality ratio</th><th>Out of pocket health expenditure</th><th>Physicians per thousand</th><th>Population</th><th>Population: Labor force participation (%)</th><th>Tax revenue (%)</th><th>Total tax rate</th><th>Unemployment rate</th><th>Urban population</th><th>Latitude</th><th>Longitude</th><th>Median Salary</th><th>Daily calorie supply per person from other commodities</th><th>Daily calorie supply per person from alcoholic beverages</th><th>Daily calorie supply per person from sugar</th><th>Daily calorie supply per person from oils and fats</th><th>Daily calorie supply per person from meat</th><th>Daily calorie supply per person from dairy and eggs</th><th>Daily calorie supply per person from fruits and vegetables</th><th>Daily calorie supply per person from starchy roots</th><th>Daily calorie supply per person from pulses</th><th>Daily calorie supply per person from cereals and grains</th><th>Daily total caloric ingestion</th></tr><tr><td>str</td><td>f64</td><td>str</td><td>f64</td><td>f64</td><td>f64</td><td>f64</td><td>f64</td><td>f64</td><td>f64</td><td>f64</td><td>f64</td><td>f64</td><td>f64</td><td>f64</td><td>f64</td><td>f64</td><td>f64</td><td>f64</td><td>f64</td><td>f64</td><td>f64</td><td>f64</td><td>f64</td><td>f64</td><td>f64</td><td>f64</td><td>f64</td><td>f64</td><td>f64</td><td>f64</td><td>f64</td><td>f64</td><td>f64</td><td>f64</td><td>f64</td><td>f64</td><td>f64</td><td>f64</td><td>f64</td><td>f64</td></tr></thead><tbody><tr><td>&quot;Afghanistan&quot;</td><td>60.0</td><td>&quot;AF&quot;</td><td>58.1</td><td>652230.0</td><td>323000.0</td><td>32.49</td><td>8672.0</td><td>149.9</td><td>2.3</td><td>4.47</td><td>2.1</td><td>0.7</td><td>1.9101e10</td><td>104.0</td><td>9.7</td><td>47.9</td><td>64.5</td><td>638.0</td><td>78.4</td><td>0.28</td><td>3.8041754e7</td><td>48.9</td><td>9.3</td><td>71.4</td><td>11.12</td><td>9.797273e6</td><td>33.93911</td><td>67.709953</td><td>853.74</td><td>8.821558</td><td>0.0</td><td>202.237697</td><td>254.483138</td><td>50.166415</td><td>102.460547</td><td>123.306214</td><td>25.98626</td><td>24.000058</td><td>1519.539312</td><td>2311.001198</td></tr><tr><td>&quot;Albania&quot;</td><td>105.0</td><td>&quot;AL&quot;</td><td>43.1</td><td>28748.0</td><td>9000.0</td><td>11.78</td><td>4536.0</td><td>119.05</td><td>1.4</td><td>1.62</td><td>28.1</td><td>1.36</td><td>1.5278e10</td><td>107.0</td><td>55.0</td><td>7.8</td><td>78.5</td><td>15.0</td><td>56.9</td><td>1.2</td><td>2.854191e6</td><td>55.7</td><td>18.6</td><td>36.6</td><td>12.33</td><td>1.747593e6</td><td>41.153332</td><td>20.168331</td><td>832.84</td><td>53.712393</td><td>50.965451</td><td>223.651168</td><td>421.348781</td><td>212.191398</td><td>814.849454</td><td>713.243894</td><td>90.512176</td><td>51.973577</td><td>942.069818</td><td>3574.518109</td></tr><tr><td>&quot;Algeria&quot;</td><td>18.0</td><td>&quot;DZ&quot;</td><td>17.4</td><td>2.381741e6</td><td>317000.0</td><td>24.28</td><td>150006.0</td><td>151.36</td><td>2.0</td><td>3.02</td><td>0.8</td><td>0.28</td><td>1.6999e11</td><td>109.9</td><td>51.4</td><td>20.1</td><td>76.7</td><td>112.0</td><td>28.1</td><td>1.72</td><td>4.3053054e7</td><td>41.2</td><td>37.2</td><td>66.1</td><td>11.7</td><td>3.15101e7</td><td>28.033886</td><td>1.659626</td><td>1148.84</td><td>24.801911</td><td>4.999601</td><td>301.633378</td><td>560.377034</td><td>101.906382</td><td>326.188734</td><td>615.630856</td><td>115.823008</td><td>51.358187</td><td>1611.030679</td><td>3713.74977</td></tr><tr><td>&quot;Andorra&quot;</td><td>164.0</td><td>&quot;AD&quot;</td><td>40.0</td><td>468.0</td><td>45891.309772</td><td>7.2</td><td>469.0</td><td>144.893552</td><td>8.814943</td><td>1.27</td><td>34.0</td><td>1.51</td><td>3.1541e9</td><td>106.4</td><td>52.574324</td><td>2.7</td><td>84.04</td><td>-38.784641</td><td>36.4</td><td>3.33</td><td>77142.0</td><td>62.618059</td><td>19.248218</td><td>39.416895</td><td>6.042135</td><td>67873.0</td><td>42.506285</td><td>1.521801</td><td>3668.08</td><td>56.997138</td><td>208.266626</td><td>407.11814</td><td>873.135015</td><td>392.957022</td><td>506.879572</td><td>211.999502</td><td>120.999896</td><td>12.999883</td><td>821.000324</td><td>3612.353118</td></tr><tr><td>&quot;Angola&quot;</td><td>26.0</td><td>&quot;AO&quot;</td><td>47.5</td><td>1.2467e6</td><td>117000.0</td><td>40.73</td><td>34693.0</td><td>261.73</td><td>17.1</td><td>5.52</td><td>46.3</td><td>0.97</td><td>9.4635e10</td><td>113.5</td><td>9.3</td><td>51.6</td><td>60.8</td><td>241.0</td><td>33.4</td><td>0.21</td><td>3.1825295e7</td><td>77.5</td><td>9.2</td><td>49.1</td><td>6.89</td><td>2.1061025e7</td><td>-11.202692</td><td>17.873887</td><td>284.39</td><td>14.899377</td><td>84.089373</td><td>123.999842</td><td>350.435213</td><td>124.822425</td><td>18.054628</td><td>156.596191</td><td>888.107249</td><td>62.843695</td><td>875.956841</td><td>2699.804832</td></tr></tbody></table></div>"
      ],
      "text/plain": [
       "shape: (5, 41)\n",
       "┌───────────┬───────────┬───────────┬───────────┬───┬───────────┬───────────┬───────────┬──────────┐\n",
       "│ Country   ┆ Density(P ┆ Abbreviat ┆ Agricultu ┆ … ┆ Daily     ┆ Daily     ┆ Daily     ┆ Daily    │\n",
       "│ ---       ┆ /Km2)     ┆ ion       ┆ ral       ┆   ┆ calorie   ┆ calorie   ┆ calorie   ┆ total    │\n",
       "│ str       ┆ ---       ┆ ---       ┆ Land(%)   ┆   ┆ supply    ┆ supply    ┆ supply    ┆ caloric  │\n",
       "│           ┆ f64       ┆ str       ┆ ---       ┆   ┆ per       ┆ per       ┆ per       ┆ ingestio │\n",
       "│           ┆           ┆           ┆ f64       ┆   ┆ perso…    ┆ perso…    ┆ perso…    ┆ n        │\n",
       "│           ┆           ┆           ┆           ┆   ┆ ---       ┆ ---       ┆ ---       ┆ ---      │\n",
       "│           ┆           ┆           ┆           ┆   ┆ f64       ┆ f64       ┆ f64       ┆ f64      │\n",
       "╞═══════════╪═══════════╪═══════════╪═══════════╪═══╪═══════════╪═══════════╪═══════════╪══════════╡\n",
       "│ Afghanist ┆ 60.0      ┆ AF        ┆ 58.1      ┆ … ┆ 25.98626  ┆ 24.000058 ┆ 1519.5393 ┆ 2311.001 │\n",
       "│ an        ┆           ┆           ┆           ┆   ┆           ┆           ┆ 12        ┆ 198      │\n",
       "│ Albania   ┆ 105.0     ┆ AL        ┆ 43.1      ┆ … ┆ 90.512176 ┆ 51.973577 ┆ 942.06981 ┆ 3574.518 │\n",
       "│           ┆           ┆           ┆           ┆   ┆           ┆           ┆ 8         ┆ 109      │\n",
       "│ Algeria   ┆ 18.0      ┆ DZ        ┆ 17.4      ┆ … ┆ 115.82300 ┆ 51.358187 ┆ 1611.0306 ┆ 3713.749 │\n",
       "│           ┆           ┆           ┆           ┆   ┆ 8         ┆           ┆ 79        ┆ 77       │\n",
       "│ Andorra   ┆ 164.0     ┆ AD        ┆ 40.0      ┆ … ┆ 120.99989 ┆ 12.999883 ┆ 821.00032 ┆ 3612.353 │\n",
       "│           ┆           ┆           ┆           ┆   ┆ 6         ┆           ┆ 4         ┆ 118      │\n",
       "│ Angola    ┆ 26.0      ┆ AO        ┆ 47.5      ┆ … ┆ 888.10724 ┆ 62.843695 ┆ 875.95684 ┆ 2699.804 │\n",
       "│           ┆           ┆           ┆           ┆   ┆ 9         ┆           ┆ 1         ┆ 832      │\n",
       "└───────────┴───────────┴───────────┴───────────┴───┴───────────┴───────────┴───────────┴──────────┘"
      ]
     },
     "execution_count": 2,
     "metadata": {},
     "output_type": "execute_result"
    }
   ],
   "source": [
    "cleaned_data: DataFrame = pl.read_csv(\n",
    "    source=\"../data/cleaned/data.csv\",\n",
    ")\n",
    "cleaned_data.head()"
   ]
  },
  {
   "cell_type": "markdown",
   "metadata": {},
   "source": [
    "### Q1: What factors influence a country's life expectancy?\n",
    "\n",
    "> - We can add external data to this analysis, such as climate.\n",
    "> - We can explore correlations between the variables and apply association rules to find patterns.\n",
    "\n",
    "In order to give an answer to the question *What factors influence a country's life expectancy?*, we will investigate the key factors that influence life expectancy across different countries. Life expectancy is a crucial indicator of a nation’s overall well-being, reflecting healthcare quality, economic conditions, and other factors.\n",
    "\n",
    "Understanding the determinants of life expectancy is essential for policymakers, healthcare professionals, and economists to improve public health strategies and resource allocation. \n",
    "By analyzing global data, this study will identify the most influential factors and their relationships with life expectancy, offering insights into how countries can improve public health outcomes."
   ]
  },
  {
   "cell_type": "markdown",
   "metadata": {},
   "source": [
    "#### Correlation Analysis"
   ]
  },
  {
   "cell_type": "markdown",
   "metadata": {},
   "source": [
    "#### Association Rules\n",
    "\n",
    "Association rules are a powerful technique for discovering relationships between variables in large datasets. They are widely used in market basket analysis, where the goal is to identify patterns in consumer behavior. In this study, we will apply association rules to identify patterns between different variables and life expectancy. This method will allow us to discover meaningful patterns, such as whether healthcare expenditures are strongly associated with increased life expectancy or if specific economic conditions correlate with lower life expectancy.\n",
    "\n",
    "To achieve this, we should select columns that are most likely to have a meaningful relationship with life expectancy, either directly or through indirect factors. Let's consider the following variables:\n",
    "\n",
    "1. **Life expectancy**: The target variable that we aim to analyze and understand in relation to other factors. It represents the average number of years a person is expected to live.\n",
    "\n",
    "2. **Out of pocket health expenditure**: Higher out-of-pocket health expenditure can indicate a lack of access to affordable healthcare, which may negatively affect life expectancy, as individuals may delay or forgo necessary medical treatment.\n",
    "\n",
    "3. **Physicians per thousand**: The more physicians available per thousand people, the better the healthcare access, which is expected to positively influence life expectancy by improving early diagnosis, treatment, and overall healthcare quality.\n",
    "\n",
    "4. **Daily total caloric ingestion**: Sufficient caloric intake is essential for health, but excessive or poor-quality caloric consumption (such as from unhealthy sources) can lead to chronic diseases like obesity, which could lower life expectancy. Balanced and adequate caloric intake is typically associated with better health outcomes.\n",
    "\n",
    "5. **GDP per capita**: A higher GDP per capita generally correlates with more resources for healthcare, education, and infrastructure, all of which contribute to better living conditions and longer life expectancy by improving overall health and access to essential services. Note that we don't have the GDP per capita in the dataset, but we can calculate it by dividing the GDP by the population.\n",
    "\n",
    "6. **Unemployment rate**: High unemployment rates are often associated with increased stress, poverty, and reduced access to healthcare, which could negatively affect life expectancy as these factors can lead to poor mental and physical health outcomes.\n",
    "\n",
    "7. **Urban population percentage**: Urban areas typically have better healthcare infrastructure, sanitation, and access to medical services, all of which are expected to positively influence life expectancy, as residents tend to have better health outcomes than those in rural areas with fewer resources. Note that we don't have the urban population percentage in the dataset, but we can calculate it by dividing the urban population by the total population.\n",
    "\n",
    "8. **CO2 emissions per capita**: High levels of CO2 emissions often indicate higher levels of air pollution, which can have negative health effects, such as respiratory and cardiovascular diseases, thereby potentially lowering life expectancy in polluted areas. Note that we don't have the CO2 emissions per capita in the dataset, but we can calculate it by dividing the CO2 emissions by the population.\n",
    "\n",
    "Would these assumptions be correct? Let's find out!"
   ]
  },
  {
   "cell_type": "code",
   "execution_count": 3,
   "metadata": {},
   "outputs": [
    {
     "data": {
      "text/html": [
       "<div><style>\n",
       ".dataframe > thead > tr,\n",
       ".dataframe > tbody > tr {\n",
       "  text-align: right;\n",
       "  white-space: pre-wrap;\n",
       "}\n",
       "</style>\n",
       "<small>shape: (5, 9)</small><table border=\"1\" class=\"dataframe\"><thead><tr><th>Life expectancy</th><th>Out of pocket health expenditure</th><th>Physicians per thousand</th><th>Daily total caloric ingestion</th><th>GDP</th><th>Population</th><th>Unemployment rate</th><th>Urban population</th><th>Co2-Emissions</th></tr><tr><td>f64</td><td>f64</td><td>f64</td><td>f64</td><td>f64</td><td>f64</td><td>f64</td><td>f64</td><td>f64</td></tr></thead><tbody><tr><td>64.5</td><td>78.4</td><td>0.28</td><td>2311.001198</td><td>1.9101e10</td><td>3.8041754e7</td><td>11.12</td><td>9.797273e6</td><td>8672.0</td></tr><tr><td>78.5</td><td>56.9</td><td>1.2</td><td>3574.518109</td><td>1.5278e10</td><td>2.854191e6</td><td>12.33</td><td>1.747593e6</td><td>4536.0</td></tr><tr><td>76.7</td><td>28.1</td><td>1.72</td><td>3713.74977</td><td>1.6999e11</td><td>4.3053054e7</td><td>11.7</td><td>3.15101e7</td><td>150006.0</td></tr><tr><td>84.04</td><td>36.4</td><td>3.33</td><td>3612.353118</td><td>3.1541e9</td><td>77142.0</td><td>6.042135</td><td>67873.0</td><td>469.0</td></tr><tr><td>60.8</td><td>33.4</td><td>0.21</td><td>2699.804832</td><td>9.4635e10</td><td>3.1825295e7</td><td>6.89</td><td>2.1061025e7</td><td>34693.0</td></tr></tbody></table></div>"
      ],
      "text/plain": [
       "shape: (5, 9)\n",
       "┌───────────┬───────────┬───────────┬───────────┬───┬───────────┬───────────┬───────────┬──────────┐\n",
       "│ Life expe ┆ Out of    ┆ Physician ┆ Daily     ┆ … ┆ Populatio ┆ Unemploym ┆ Urban pop ┆ Co2-Emis │\n",
       "│ ctancy    ┆ pocket    ┆ s per     ┆ total     ┆   ┆ n         ┆ ent rate  ┆ ulation   ┆ sions    │\n",
       "│ ---       ┆ health    ┆ thousand  ┆ caloric   ┆   ┆ ---       ┆ ---       ┆ ---       ┆ ---      │\n",
       "│ f64       ┆ expenditu ┆ ---       ┆ ingestion ┆   ┆ f64       ┆ f64       ┆ f64       ┆ f64      │\n",
       "│           ┆ …         ┆ f64       ┆ ---       ┆   ┆           ┆           ┆           ┆          │\n",
       "│           ┆ ---       ┆           ┆ f64       ┆   ┆           ┆           ┆           ┆          │\n",
       "│           ┆ f64       ┆           ┆           ┆   ┆           ┆           ┆           ┆          │\n",
       "╞═══════════╪═══════════╪═══════════╪═══════════╪═══╪═══════════╪═══════════╪═══════════╪══════════╡\n",
       "│ 64.5      ┆ 78.4      ┆ 0.28      ┆ 2311.0011 ┆ … ┆ 3.8041754 ┆ 11.12     ┆ 9.797273e ┆ 8672.0   │\n",
       "│           ┆           ┆           ┆ 98        ┆   ┆ e7        ┆           ┆ 6         ┆          │\n",
       "│ 78.5      ┆ 56.9      ┆ 1.2       ┆ 3574.5181 ┆ … ┆ 2.854191e ┆ 12.33     ┆ 1.747593e ┆ 4536.0   │\n",
       "│           ┆           ┆           ┆ 09        ┆   ┆ 6         ┆           ┆ 6         ┆          │\n",
       "│ 76.7      ┆ 28.1      ┆ 1.72      ┆ 3713.7497 ┆ … ┆ 4.3053054 ┆ 11.7      ┆ 3.15101e7 ┆ 150006.0 │\n",
       "│           ┆           ┆           ┆ 7         ┆   ┆ e7        ┆           ┆           ┆          │\n",
       "│ 84.04     ┆ 36.4      ┆ 3.33      ┆ 3612.3531 ┆ … ┆ 77142.0   ┆ 6.042135  ┆ 67873.0   ┆ 469.0    │\n",
       "│           ┆           ┆           ┆ 18        ┆   ┆           ┆           ┆           ┆          │\n",
       "│ 60.8      ┆ 33.4      ┆ 0.21      ┆ 2699.8048 ┆ … ┆ 3.1825295 ┆ 6.89      ┆ 2.1061025 ┆ 34693.0  │\n",
       "│           ┆           ┆           ┆ 32        ┆   ┆ e7        ┆           ┆ e7        ┆          │\n",
       "└───────────┴───────────┴───────────┴───────────┴───┴───────────┴───────────┴───────────┴──────────┘"
      ]
     },
     "execution_count": 3,
     "metadata": {},
     "output_type": "execute_result"
    }
   ],
   "source": [
    "# Select columns to be analyzed\n",
    "data = cleaned_data.select(\n",
    "    [\n",
    "        \"Life expectancy\",\n",
    "        \"Out of pocket health expenditure\",\n",
    "        \"Physicians per thousand\",\n",
    "        \"Daily total caloric ingestion\",\n",
    "        \"GDP\",\n",
    "        \"Population\",\n",
    "        \"Unemployment rate\",\n",
    "        \"Urban population\",\n",
    "        \"Co2-Emissions\",\n",
    "    ]\n",
    ")\n",
    "\n",
    "data.head()"
   ]
  },
  {
   "cell_type": "markdown",
   "metadata": {},
   "source": [
    "Currently, we don't have a GDP per capita column in our dataset, but we can calculate it by dividing the GDP by the population."
   ]
  },
  {
   "cell_type": "code",
   "execution_count": 4,
   "metadata": {},
   "outputs": [
    {
     "data": {
      "text/html": [
       "<div><style>\n",
       ".dataframe > thead > tr,\n",
       ".dataframe > tbody > tr {\n",
       "  text-align: right;\n",
       "  white-space: pre-wrap;\n",
       "}\n",
       "</style>\n",
       "<small>shape: (5, 9)</small><table border=\"1\" class=\"dataframe\"><thead><tr><th>Life expectancy</th><th>Out of pocket health expenditure</th><th>Physicians per thousand</th><th>Daily total caloric ingestion</th><th>Population</th><th>Unemployment rate</th><th>Urban population</th><th>Co2-Emissions</th><th>GDP per capita</th></tr><tr><td>f64</td><td>f64</td><td>f64</td><td>f64</td><td>f64</td><td>f64</td><td>f64</td><td>f64</td><td>f64</td></tr></thead><tbody><tr><td>64.5</td><td>78.4</td><td>0.28</td><td>2311.001198</td><td>3.8041754e7</td><td>11.12</td><td>9.797273e6</td><td>8672.0</td><td>502.115487</td></tr><tr><td>78.5</td><td>56.9</td><td>1.2</td><td>3574.518109</td><td>2.854191e6</td><td>12.33</td><td>1.747593e6</td><td>4536.0</td><td>5352.857411</td></tr><tr><td>76.7</td><td>28.1</td><td>1.72</td><td>3713.74977</td><td>4.3053054e7</td><td>11.7</td><td>3.15101e7</td><td>150006.0</td><td>3948.343279</td></tr><tr><td>84.04</td><td>36.4</td><td>3.33</td><td>3612.353118</td><td>77142.0</td><td>6.042135</td><td>67873.0</td><td>469.0</td><td>40886.391162</td></tr><tr><td>60.8</td><td>33.4</td><td>0.21</td><td>2699.804832</td><td>3.1825295e7</td><td>6.89</td><td>2.1061025e7</td><td>34693.0</td><td>2973.59116</td></tr></tbody></table></div>"
      ],
      "text/plain": [
       "shape: (5, 9)\n",
       "┌───────────┬───────────┬───────────┬───────────┬───┬───────────┬───────────┬───────────┬──────────┐\n",
       "│ Life expe ┆ Out of    ┆ Physician ┆ Daily     ┆ … ┆ Unemploym ┆ Urban pop ┆ Co2-Emiss ┆ GDP per  │\n",
       "│ ctancy    ┆ pocket    ┆ s per     ┆ total     ┆   ┆ ent rate  ┆ ulation   ┆ ions      ┆ capita   │\n",
       "│ ---       ┆ health    ┆ thousand  ┆ caloric   ┆   ┆ ---       ┆ ---       ┆ ---       ┆ ---      │\n",
       "│ f64       ┆ expenditu ┆ ---       ┆ ingestion ┆   ┆ f64       ┆ f64       ┆ f64       ┆ f64      │\n",
       "│           ┆ …         ┆ f64       ┆ ---       ┆   ┆           ┆           ┆           ┆          │\n",
       "│           ┆ ---       ┆           ┆ f64       ┆   ┆           ┆           ┆           ┆          │\n",
       "│           ┆ f64       ┆           ┆           ┆   ┆           ┆           ┆           ┆          │\n",
       "╞═══════════╪═══════════╪═══════════╪═══════════╪═══╪═══════════╪═══════════╪═══════════╪══════════╡\n",
       "│ 64.5      ┆ 78.4      ┆ 0.28      ┆ 2311.0011 ┆ … ┆ 11.12     ┆ 9.797273e ┆ 8672.0    ┆ 502.1154 │\n",
       "│           ┆           ┆           ┆ 98        ┆   ┆           ┆ 6         ┆           ┆ 87       │\n",
       "│ 78.5      ┆ 56.9      ┆ 1.2       ┆ 3574.5181 ┆ … ┆ 12.33     ┆ 1.747593e ┆ 4536.0    ┆ 5352.857 │\n",
       "│           ┆           ┆           ┆ 09        ┆   ┆           ┆ 6         ┆           ┆ 411      │\n",
       "│ 76.7      ┆ 28.1      ┆ 1.72      ┆ 3713.7497 ┆ … ┆ 11.7      ┆ 3.15101e7 ┆ 150006.0  ┆ 3948.343 │\n",
       "│           ┆           ┆           ┆ 7         ┆   ┆           ┆           ┆           ┆ 279      │\n",
       "│ 84.04     ┆ 36.4      ┆ 3.33      ┆ 3612.3531 ┆ … ┆ 6.042135  ┆ 67873.0   ┆ 469.0     ┆ 40886.39 │\n",
       "│           ┆           ┆           ┆ 18        ┆   ┆           ┆           ┆           ┆ 1162     │\n",
       "│ 60.8      ┆ 33.4      ┆ 0.21      ┆ 2699.8048 ┆ … ┆ 6.89      ┆ 2.1061025 ┆ 34693.0   ┆ 2973.591 │\n",
       "│           ┆           ┆           ┆ 32        ┆   ┆           ┆ e7        ┆           ┆ 16       │\n",
       "└───────────┴───────────┴───────────┴───────────┴───┴───────────┴───────────┴───────────┴──────────┘"
      ]
     },
     "execution_count": 4,
     "metadata": {},
     "output_type": "execute_result"
    }
   ],
   "source": [
    "# Calculate GDP per capita\n",
    "data = data.with_columns((pl.col(\"GDP\") / pl.col(\"Population\")).alias(\"GDP per capita\"))\n",
    "\n",
    "# Drop GDP column\n",
    "data = data.drop([\"GDP\"])\n",
    "\n",
    "data.head()"
   ]
  },
  {
   "cell_type": "markdown",
   "metadata": {},
   "source": [
    "Furthermore, we don't have a CO2 emissions per capita column in our dataset, but we can calculate it by dividing the CO2 emissions by the population."
   ]
  },
  {
   "cell_type": "code",
   "execution_count": 5,
   "metadata": {},
   "outputs": [
    {
     "data": {
      "text/html": [
       "<div><style>\n",
       ".dataframe > thead > tr,\n",
       ".dataframe > tbody > tr {\n",
       "  text-align: right;\n",
       "  white-space: pre-wrap;\n",
       "}\n",
       "</style>\n",
       "<small>shape: (5, 9)</small><table border=\"1\" class=\"dataframe\"><thead><tr><th>Life expectancy</th><th>Out of pocket health expenditure</th><th>Physicians per thousand</th><th>Daily total caloric ingestion</th><th>Population</th><th>Unemployment rate</th><th>Urban population</th><th>GDP per capita</th><th>CO2 emissions per capita</th></tr><tr><td>f64</td><td>f64</td><td>f64</td><td>f64</td><td>f64</td><td>f64</td><td>f64</td><td>f64</td><td>f64</td></tr></thead><tbody><tr><td>64.5</td><td>78.4</td><td>0.28</td><td>2311.001198</td><td>3.8041754e7</td><td>11.12</td><td>9.797273e6</td><td>502.115487</td><td>0.22796</td></tr><tr><td>78.5</td><td>56.9</td><td>1.2</td><td>3574.518109</td><td>2.854191e6</td><td>12.33</td><td>1.747593e6</td><td>5352.857411</td><td>1.589242</td></tr><tr><td>76.7</td><td>28.1</td><td>1.72</td><td>3713.74977</td><td>4.3053054e7</td><td>11.7</td><td>3.15101e7</td><td>3948.343279</td><td>3.484213</td></tr><tr><td>84.04</td><td>36.4</td><td>3.33</td><td>3612.353118</td><td>77142.0</td><td>6.042135</td><td>67873.0</td><td>40886.391162</td><td>6.079697</td></tr><tr><td>60.8</td><td>33.4</td><td>0.21</td><td>2699.804832</td><td>3.1825295e7</td><td>6.89</td><td>2.1061025e7</td><td>2973.59116</td><td>1.090108</td></tr></tbody></table></div>"
      ],
      "text/plain": [
       "shape: (5, 9)\n",
       "┌───────────┬───────────┬───────────┬───────────┬───┬───────────┬───────────┬───────────┬──────────┐\n",
       "│ Life expe ┆ Out of    ┆ Physician ┆ Daily     ┆ … ┆ Unemploym ┆ Urban pop ┆ GDP per   ┆ CO2 emis │\n",
       "│ ctancy    ┆ pocket    ┆ s per     ┆ total     ┆   ┆ ent rate  ┆ ulation   ┆ capita    ┆ sions    │\n",
       "│ ---       ┆ health    ┆ thousand  ┆ caloric   ┆   ┆ ---       ┆ ---       ┆ ---       ┆ per      │\n",
       "│ f64       ┆ expenditu ┆ ---       ┆ ingestion ┆   ┆ f64       ┆ f64       ┆ f64       ┆ capita   │\n",
       "│           ┆ …         ┆ f64       ┆ ---       ┆   ┆           ┆           ┆           ┆ ---      │\n",
       "│           ┆ ---       ┆           ┆ f64       ┆   ┆           ┆           ┆           ┆ f64      │\n",
       "│           ┆ f64       ┆           ┆           ┆   ┆           ┆           ┆           ┆          │\n",
       "╞═══════════╪═══════════╪═══════════╪═══════════╪═══╪═══════════╪═══════════╪═══════════╪══════════╡\n",
       "│ 64.5      ┆ 78.4      ┆ 0.28      ┆ 2311.0011 ┆ … ┆ 11.12     ┆ 9.797273e ┆ 502.11548 ┆ 0.22796  │\n",
       "│           ┆           ┆           ┆ 98        ┆   ┆           ┆ 6         ┆ 7         ┆          │\n",
       "│ 78.5      ┆ 56.9      ┆ 1.2       ┆ 3574.5181 ┆ … ┆ 12.33     ┆ 1.747593e ┆ 5352.8574 ┆ 1.589242 │\n",
       "│           ┆           ┆           ┆ 09        ┆   ┆           ┆ 6         ┆ 11        ┆          │\n",
       "│ 76.7      ┆ 28.1      ┆ 1.72      ┆ 3713.7497 ┆ … ┆ 11.7      ┆ 3.15101e7 ┆ 3948.3432 ┆ 3.484213 │\n",
       "│           ┆           ┆           ┆ 7         ┆   ┆           ┆           ┆ 79        ┆          │\n",
       "│ 84.04     ┆ 36.4      ┆ 3.33      ┆ 3612.3531 ┆ … ┆ 6.042135  ┆ 67873.0   ┆ 40886.391 ┆ 6.079697 │\n",
       "│           ┆           ┆           ┆ 18        ┆   ┆           ┆           ┆ 162       ┆          │\n",
       "│ 60.8      ┆ 33.4      ┆ 0.21      ┆ 2699.8048 ┆ … ┆ 6.89      ┆ 2.1061025 ┆ 2973.5911 ┆ 1.090108 │\n",
       "│           ┆           ┆           ┆ 32        ┆   ┆           ┆ e7        ┆ 6         ┆          │\n",
       "└───────────┴───────────┴───────────┴───────────┴───┴───────────┴───────────┴───────────┴──────────┘"
      ]
     },
     "execution_count": 5,
     "metadata": {},
     "output_type": "execute_result"
    }
   ],
   "source": [
    "# Change unit from kilotonnes to tonnes\n",
    "data = data.with_columns((pl.col(\"Co2-Emissions\") * 1_000).alias(\"Co2-Emissions\"))\n",
    "\n",
    "# Calculate CO2 emissions per capita\n",
    "data = data.with_columns(\n",
    "    (pl.col(\"Co2-Emissions\") / pl.col(\"Population\")).alias(\"CO2 emissions per capita\")\n",
    ")\n",
    "\n",
    "# Drop CO2 emissions column\n",
    "data = data.drop([\"Co2-Emissions\"])\n",
    "\n",
    "data.head()"
   ]
  },
  {
   "cell_type": "markdown",
   "metadata": {},
   "source": [
    "Let's check if CO2 emissions per capita have been calculated correctly."
   ]
  },
  {
   "cell_type": "code",
   "execution_count": 6,
   "metadata": {},
   "outputs": [
    {
     "data": {
      "text/html": [
       "<div><style>\n",
       ".dataframe > thead > tr,\n",
       ".dataframe > tbody > tr {\n",
       "  text-align: right;\n",
       "  white-space: pre-wrap;\n",
       "}\n",
       "</style>\n",
       "<small>shape: (2, 9)</small><table border=\"1\" class=\"dataframe\"><thead><tr><th>Life expectancy</th><th>Out of pocket health expenditure</th><th>Physicians per thousand</th><th>Daily total caloric ingestion</th><th>Population</th><th>Unemployment rate</th><th>Urban population</th><th>GDP per capita</th><th>CO2 emissions per capita</th></tr><tr><td>f64</td><td>f64</td><td>f64</td><td>f64</td><td>f64</td><td>f64</td><td>f64</td><td>f64</td><td>f64</td></tr></thead><tbody><tr><td>86.37</td><td>6.1</td><td>6.56</td><td>3473.266666</td><td>38964.0</td><td>-1.0389</td><td>38964.0</td><td>184396.986783</td><td>-1309.610413</td></tr><tr><td>85.4</td><td>18.3</td><td>6.11</td><td>3473.266666</td><td>33860.0</td><td>5.714298</td><td>32969.0</td><td>48373.627702</td><td>-1534.122249</td></tr></tbody></table></div>"
      ],
      "text/plain": [
       "shape: (2, 9)\n",
       "┌───────────┬───────────┬───────────┬───────────┬───┬───────────┬───────────┬───────────┬──────────┐\n",
       "│ Life expe ┆ Out of    ┆ Physician ┆ Daily     ┆ … ┆ Unemploym ┆ Urban pop ┆ GDP per   ┆ CO2 emis │\n",
       "│ ctancy    ┆ pocket    ┆ s per     ┆ total     ┆   ┆ ent rate  ┆ ulation   ┆ capita    ┆ sions    │\n",
       "│ ---       ┆ health    ┆ thousand  ┆ caloric   ┆   ┆ ---       ┆ ---       ┆ ---       ┆ per      │\n",
       "│ f64       ┆ expenditu ┆ ---       ┆ ingestion ┆   ┆ f64       ┆ f64       ┆ f64       ┆ capita   │\n",
       "│           ┆ …         ┆ f64       ┆ ---       ┆   ┆           ┆           ┆           ┆ ---      │\n",
       "│           ┆ ---       ┆           ┆ f64       ┆   ┆           ┆           ┆           ┆ f64      │\n",
       "│           ┆ f64       ┆           ┆           ┆   ┆           ┆           ┆           ┆          │\n",
       "╞═══════════╪═══════════╪═══════════╪═══════════╪═══╪═══════════╪═══════════╪═══════════╪══════════╡\n",
       "│ 86.37     ┆ 6.1       ┆ 6.56      ┆ 3473.2666 ┆ … ┆ -1.0389   ┆ 38964.0   ┆ 184396.98 ┆ -1309.61 │\n",
       "│           ┆           ┆           ┆ 66        ┆   ┆           ┆           ┆ 6783      ┆ 0413     │\n",
       "│ 85.4      ┆ 18.3      ┆ 6.11      ┆ 3473.2666 ┆ … ┆ 5.714298  ┆ 32969.0   ┆ 48373.627 ┆ -1534.12 │\n",
       "│           ┆           ┆           ┆ 66        ┆   ┆           ┆           ┆ 702       ┆ 2249     │\n",
       "└───────────┴───────────┴───────────┴───────────┴───┴───────────┴───────────┴───────────┴──────────┘"
      ]
     },
     "execution_count": 6,
     "metadata": {},
     "output_type": "execute_result"
    }
   ],
   "source": [
    "# Show if there are negative values for CO2 emissions per capita\n",
    "data_incorrect_co2 = data.filter(pl.col(\"CO2 emissions per capita\") < 0)\n",
    "data_incorrect_co2.head()"
   ]
  },
  {
   "cell_type": "markdown",
   "metadata": {},
   "source": [
    "We have found two values of CO2 emissions per capita that are negative. This was caused by an incorrect estimation of the CO2 emisisons during preprocessing. We will address this issue by eliminating these rows from the dataset, because we don't have reliable data to correct these values."
   ]
  },
  {
   "cell_type": "code",
   "execution_count": 7,
   "metadata": {},
   "outputs": [
    {
     "name": "stdout",
     "output_type": "stream",
     "text": [
      "Number of rows: 191\n"
     ]
    }
   ],
   "source": [
    "# Remove rows with CO2 emissions per capita < 0\n",
    "data = data.filter(pl.col(\"CO2 emissions per capita\") >= 0)\n",
    "\n",
    "# Show number of rows\n",
    "print(f\"Number of rows: {data.height}\")"
   ]
  },
  {
   "cell_type": "markdown",
   "metadata": {},
   "source": [
    "We also don't have the urban population percentage in the dataset, but we can calculate it by dividing the urban population by the total population."
   ]
  },
  {
   "cell_type": "code",
   "execution_count": 8,
   "metadata": {},
   "outputs": [
    {
     "data": {
      "text/html": [
       "<div><style>\n",
       ".dataframe > thead > tr,\n",
       ".dataframe > tbody > tr {\n",
       "  text-align: right;\n",
       "  white-space: pre-wrap;\n",
       "}\n",
       "</style>\n",
       "<small>shape: (5, 8)</small><table border=\"1\" class=\"dataframe\"><thead><tr><th>Life expectancy</th><th>Out of pocket health expenditure</th><th>Physicians per thousand</th><th>Daily total caloric ingestion</th><th>Unemployment rate</th><th>GDP per capita</th><th>CO2 emissions per capita</th><th>Urban population percentage</th></tr><tr><td>f64</td><td>f64</td><td>f64</td><td>f64</td><td>f64</td><td>f64</td><td>f64</td><td>f64</td></tr></thead><tbody><tr><td>64.5</td><td>78.4</td><td>0.28</td><td>2311.001198</td><td>11.12</td><td>502.115487</td><td>0.22796</td><td>25.753999</td></tr><tr><td>78.5</td><td>56.9</td><td>1.2</td><td>3574.518109</td><td>12.33</td><td>5352.857411</td><td>1.589242</td><td>61.229014</td></tr><tr><td>76.7</td><td>28.1</td><td>1.72</td><td>3713.74977</td><td>11.7</td><td>3948.343279</td><td>3.484213</td><td>73.189001</td></tr><tr><td>84.04</td><td>36.4</td><td>3.33</td><td>3612.353118</td><td>6.042135</td><td>40886.391162</td><td>6.079697</td><td>87.984496</td></tr><tr><td>60.8</td><td>33.4</td><td>0.21</td><td>2699.804832</td><td>6.89</td><td>2973.59116</td><td>1.090108</td><td>66.176999</td></tr></tbody></table></div>"
      ],
      "text/plain": [
       "shape: (5, 8)\n",
       "┌────────────┬────────────┬────────────┬───────────┬───────────┬───────────┬───────────┬───────────┐\n",
       "│ Life       ┆ Out of     ┆ Physicians ┆ Daily     ┆ Unemploym ┆ GDP per   ┆ CO2       ┆ Urban pop │\n",
       "│ expectancy ┆ pocket     ┆ per        ┆ total     ┆ ent rate  ┆ capita    ┆ emissions ┆ ulation   │\n",
       "│ ---        ┆ health     ┆ thousand   ┆ caloric   ┆ ---       ┆ ---       ┆ per       ┆ percentag │\n",
       "│ f64        ┆ expenditu… ┆ ---        ┆ ingestion ┆ f64       ┆ f64       ┆ capita    ┆ e         │\n",
       "│            ┆ ---        ┆ f64        ┆ ---       ┆           ┆           ┆ ---       ┆ ---       │\n",
       "│            ┆ f64        ┆            ┆ f64       ┆           ┆           ┆ f64       ┆ f64       │\n",
       "╞════════════╪════════════╪════════════╪═══════════╪═══════════╪═══════════╪═══════════╪═══════════╡\n",
       "│ 64.5       ┆ 78.4       ┆ 0.28       ┆ 2311.0011 ┆ 11.12     ┆ 502.11548 ┆ 0.22796   ┆ 25.753999 │\n",
       "│            ┆            ┆            ┆ 98        ┆           ┆ 7         ┆           ┆           │\n",
       "│ 78.5       ┆ 56.9       ┆ 1.2        ┆ 3574.5181 ┆ 12.33     ┆ 5352.8574 ┆ 1.589242  ┆ 61.229014 │\n",
       "│            ┆            ┆            ┆ 09        ┆           ┆ 11        ┆           ┆           │\n",
       "│ 76.7       ┆ 28.1       ┆ 1.72       ┆ 3713.7497 ┆ 11.7      ┆ 3948.3432 ┆ 3.484213  ┆ 73.189001 │\n",
       "│            ┆            ┆            ┆ 7         ┆           ┆ 79        ┆           ┆           │\n",
       "│ 84.04      ┆ 36.4       ┆ 3.33       ┆ 3612.3531 ┆ 6.042135  ┆ 40886.391 ┆ 6.079697  ┆ 87.984496 │\n",
       "│            ┆            ┆            ┆ 18        ┆           ┆ 162       ┆           ┆           │\n",
       "│ 60.8       ┆ 33.4       ┆ 0.21       ┆ 2699.8048 ┆ 6.89      ┆ 2973.5911 ┆ 1.090108  ┆ 66.176999 │\n",
       "│            ┆            ┆            ┆ 32        ┆           ┆ 6         ┆           ┆           │\n",
       "└────────────┴────────────┴────────────┴───────────┴───────────┴───────────┴───────────┴───────────┘"
      ]
     },
     "execution_count": 8,
     "metadata": {},
     "output_type": "execute_result"
    }
   ],
   "source": [
    "# Calculate urban population percentage\n",
    "data = data.with_columns(\n",
    "    (pl.col(\"Urban population\") / pl.col(\"Population\") * 100).alias(\n",
    "        \"Urban population percentage\"\n",
    "    )\n",
    ")\n",
    "\n",
    "# Drop Urban population and Population columns\n",
    "data = data.drop([\"Urban population\", \"Population\"])\n",
    "\n",
    "data.head()"
   ]
  },
  {
   "cell_type": "markdown",
   "metadata": {},
   "source": [
    "Let's check if the percentages have been calculated correctly."
   ]
  },
  {
   "cell_type": "code",
   "execution_count": 9,
   "metadata": {},
   "outputs": [
    {
     "data": {
      "text/html": [
       "<div><style>\n",
       ".dataframe > thead > tr,\n",
       ".dataframe > tbody > tr {\n",
       "  text-align: right;\n",
       "  white-space: pre-wrap;\n",
       "}\n",
       "</style>\n",
       "<small>shape: (3, 8)</small><table border=\"1\" class=\"dataframe\"><thead><tr><th>Life expectancy</th><th>Out of pocket health expenditure</th><th>Physicians per thousand</th><th>Daily total caloric ingestion</th><th>Unemployment rate</th><th>GDP per capita</th><th>CO2 emissions per capita</th><th>Urban population percentage</th></tr><tr><td>f64</td><td>f64</td><td>f64</td><td>f64</td><td>f64</td><td>f64</td><td>f64</td><td>f64</td></tr></thead><tbody><tr><td>64.12</td><td>11.3</td><td>1.101094</td><td>2552.933001</td><td>7.402914</td><td>3467.958805</td><td>24.337691</td><td>767.603769</td></tr><tr><td>63.1</td><td>35.505491</td><td>1.366247</td><td>3018.888197</td><td>7.161869</td><td>13189.210631</td><td>2389.829354</td><td>79494.968992</td></tr><tr><td>77.39</td><td>35.6</td><td>2.021399</td><td>3228.354499</td><td>7.224034</td><td>5564.713196</td><td>15.740834</td><td>470.806856</td></tr></tbody></table></div>"
      ],
      "text/plain": [
       "shape: (3, 8)\n",
       "┌────────────┬────────────┬────────────┬───────────┬───────────┬───────────┬───────────┬───────────┐\n",
       "│ Life       ┆ Out of     ┆ Physicians ┆ Daily     ┆ Unemploym ┆ GDP per   ┆ CO2       ┆ Urban pop │\n",
       "│ expectancy ┆ pocket     ┆ per        ┆ total     ┆ ent rate  ┆ capita    ┆ emissions ┆ ulation   │\n",
       "│ ---        ┆ health     ┆ thousand   ┆ caloric   ┆ ---       ┆ ---       ┆ per       ┆ percentag │\n",
       "│ f64        ┆ expenditu… ┆ ---        ┆ ingestion ┆ f64       ┆ f64       ┆ capita    ┆ e         │\n",
       "│            ┆ ---        ┆ f64        ┆ ---       ┆           ┆           ┆ ---       ┆ ---       │\n",
       "│            ┆ f64        ┆            ┆ f64       ┆           ┆           ┆ f64       ┆ f64       │\n",
       "╞════════════╪════════════╪════════════╪═══════════╪═══════════╪═══════════╪═══════════╪═══════════╡\n",
       "│ 64.12      ┆ 11.3       ┆ 1.101094   ┆ 2552.9330 ┆ 7.402914  ┆ 3467.9588 ┆ 24.337691 ┆ 767.60376 │\n",
       "│            ┆            ┆            ┆ 01        ┆           ┆ 05        ┆           ┆ 9         │\n",
       "│ 63.1       ┆ 35.505491  ┆ 1.366247   ┆ 3018.8881 ┆ 7.161869  ┆ 13189.210 ┆ 2389.8293 ┆ 79494.968 │\n",
       "│            ┆            ┆            ┆ 97        ┆           ┆ 631       ┆ 54        ┆ 992       │\n",
       "│ 77.39      ┆ 35.6       ┆ 2.021399   ┆ 3228.3544 ┆ 7.224034  ┆ 5564.7131 ┆ 15.740834 ┆ 470.80685 │\n",
       "│            ┆            ┆            ┆ 99        ┆           ┆ 96        ┆           ┆ 6         │\n",
       "└────────────┴────────────┴────────────┴───────────┴───────────┴───────────┴───────────┴───────────┘"
      ]
     },
     "execution_count": 9,
     "metadata": {},
     "output_type": "execute_result"
    }
   ],
   "source": [
    "# Show if there are percentages greater than 100\n",
    "data_incorrect_percentages = data.filter(pl.col(\"Urban population percentage\") > 100)\n",
    "data_incorrect_percentages.head()"
   ]
  },
  {
   "cell_type": "markdown",
   "metadata": {},
   "source": [
    "As we can see, there are three urban population percentage values that are greater than 100%. This was caused by an incorrect estimation of the urban population during preprocessing. We will address this issue by eliminating these rows from the dataset, because we don't have reliable data to correct these values."
   ]
  },
  {
   "cell_type": "code",
   "execution_count": 10,
   "metadata": {},
   "outputs": [
    {
     "name": "stdout",
     "output_type": "stream",
     "text": [
      "Number of rows: 188\n"
     ]
    }
   ],
   "source": [
    "# Remove rows with percentages greater than 100\n",
    "data = data.filter(pl.col(\"Urban population percentage\") <= 100)\n",
    "\n",
    "# Show number of rows\n",
    "print(f\"Number of rows: {data.height}\")"
   ]
  },
  {
   "cell_type": "markdown",
   "metadata": {},
   "source": [
    "Since association rule mining works better with categorical data, we need to convert continuous numerical variables into categorical ones. We are going to define three categories for each variable. In order to decide the thresholds for these categories, we will analyze each column's main statistics and distribution. As a standard practice, we will consider the 33rd and 66th percentiles as references to establish thresholds for defining the categories, but we will adjust them based on the distribution of values, if necessary."
   ]
  },
  {
   "cell_type": "markdown",
   "metadata": {},
   "source": [
    "**Life expectancy**"
   ]
  },
  {
   "cell_type": "code",
   "execution_count": 11,
   "metadata": {},
   "outputs": [
    {
     "name": "stdout",
     "output_type": "stream",
     "text": [
      "shape: (9, 2)\n",
      "┌────────────┬───────────┐\n",
      "│ statistic  ┆ value     │\n",
      "│ ---        ┆ ---       │\n",
      "│ str        ┆ f64       │\n",
      "╞════════════╪═══════════╡\n",
      "│ count      ┆ 188.0     │\n",
      "│ null_count ┆ 0.0       │\n",
      "│ mean       ┆ 72.244894 │\n",
      "│ std        ┆ 7.461031  │\n",
      "│ min        ┆ 52.8      │\n",
      "│ 25%        ┆ 67.1      │\n",
      "│ 50%        ┆ 73.2      │\n",
      "│ 75%        ┆ 77.4      │\n",
      "│ max        ┆ 84.2      │\n",
      "└────────────┴───────────┘\n",
      "q33: 69.8\n",
      "q66: 76.5\n"
     ]
    },
    {
     "data": {
      "image/png": "[encoded data removed]",
      "text/plain": [
       "<Figure size 640x480 with 1 Axes>"
      ]
     },
     "metadata": {},
     "output_type": "display_data"
    }
   ],
   "source": [
    "# Calculate statistics\n",
    "life_expectancy_stats = data[\"Life expectancy\"].describe()\n",
    "print(life_expectancy_stats)\n",
    "\n",
    "# Calculate q33 and q66\n",
    "q33 = data[\"Life expectancy\"].quantile(0.33)\n",
    "q66 = data[\"Life expectancy\"].quantile(0.66)\n",
    "print(f\"q33: {q33}\")\n",
    "print(f\"q66: {q66}\")\n",
    "\n",
    "# Plot histogram\n",
    "life_expectancy_values = data[\"Life expectancy\"].to_numpy()\n",
    "plt.hist(life_expectancy_values, bins=20, edgecolor=\"black\")\n",
    "plt.title(\"Life Expectancy Distribution\")\n",
    "plt.xlabel(\"Life Expectancy\")\n",
    "plt.ylabel(\"Frequency\")\n",
    "plt.show()"
   ]
  },
  {
   "cell_type": "markdown",
   "metadata": {},
   "source": [
    "According to the results obtained, we will define the following categories for life expectancy:\n",
    "\n",
    "- Low: less than 70 years\n",
    "- Medium: between 70 and 77 years\n",
    "- High: more than 77 years\n"
   ]
  },
  {
   "cell_type": "markdown",
   "metadata": {},
   "source": [
    "**Out of pocket health expenditure**"
   ]
  },
  {
   "cell_type": "code",
   "execution_count": 12,
   "metadata": {},
   "outputs": [
    {
     "name": "stdout",
     "output_type": "stream",
     "text": [
      "shape: (9, 2)\n",
      "┌────────────┬───────────┐\n",
      "│ statistic  ┆ value     │\n",
      "│ ---        ┆ ---       │\n",
      "│ str        ┆ f64       │\n",
      "╞════════════╪═══════════╡\n",
      "│ count      ┆ 188.0     │\n",
      "│ null_count ┆ 0.0       │\n",
      "│ mean       ┆ 33.03867  │\n",
      "│ std        ┆ 19.040641 │\n",
      "│ min        ┆ 0.2       │\n",
      "│ 25%        ┆ 17.8      │\n",
      "│ 50%        ┆ 32.1      │\n",
      "│ 75%        ┆ 44.2      │\n",
      "│ max        ┆ 81.6      │\n",
      "└────────────┴───────────┘\n",
      "q33: 21.7\n",
      "q66: 38.8\n"
     ]
    },
    {
     "data": {
      "image/png": "[encoded data removed]",
      "text/plain": [
       "<Figure size 640x480 with 1 Axes>"
      ]
     },
     "metadata": {},
     "output_type": "display_data"
    }
   ],
   "source": [
    "# Calculate statistics\n",
    "out_of_pocket_health_expenditure_stats = data[\n",
    "    \"Out of pocket health expenditure\"\n",
    "].describe()\n",
    "print(out_of_pocket_health_expenditure_stats)\n",
    "\n",
    "# Calculate q33 and q66\n",
    "q33 = data[\"Out of pocket health expenditure\"].quantile(0.33)\n",
    "q66 = data[\"Out of pocket health expenditure\"].quantile(0.66)\n",
    "print(f\"q33: {q33}\")\n",
    "print(f\"q66: {q66}\")\n",
    "\n",
    "# Plot histogram\n",
    "out_of_pocket_health_expenditure_values = data[\n",
    "    \"Out of pocket health expenditure\"\n",
    "].to_numpy()\n",
    "plt.hist(out_of_pocket_health_expenditure_values, bins=20, edgecolor=\"black\")\n",
    "plt.title(\"Out of Pocket Health Expenditure Distribution\")\n",
    "plt.xlabel(\"Out of Pocket Health Expenditure\")\n",
    "plt.ylabel(\"Frequency\")\n",
    "plt.show()"
   ]
  },
  {
   "cell_type": "markdown",
   "metadata": {},
   "source": [
    "The 66th percentile of out-of-pocket health expenditure is 38.8%, but we will not consider this value as the threshold for the highest category, as it would mean that paying less than the half of the health expenditure out of pocket is considered high. Instead, we will consider a value of 50% as the threshold for the highest category. Therefore, we will define the following categories for out-of-pocket health expenditure:\n",
    "\n",
    "- Low: less than 22%\n",
    "- Medium: between 22% and 50%\n",
    "- High: more than 50%"
   ]
  },
  {
   "cell_type": "markdown",
   "metadata": {},
   "source": [
    "**Physicians per thousand**"
   ]
  },
  {
   "cell_type": "code",
   "execution_count": 13,
   "metadata": {},
   "outputs": [
    {
     "name": "stdout",
     "output_type": "stream",
     "text": [
      "shape: (9, 2)\n",
      "┌────────────┬───────────┐\n",
      "│ statistic  ┆ value     │\n",
      "│ ---        ┆ ---       │\n",
      "│ str        ┆ f64       │\n",
      "╞════════════╪═══════════╡\n",
      "│ count      ┆ 188.0     │\n",
      "│ null_count ┆ 0.0       │\n",
      "│ mean       ┆ 1.785662  │\n",
      "│ std        ┆ 1.626019  │\n",
      "│ min        ┆ -0.223837 │\n",
      "│ 25%        ┆ 0.31      │\n",
      "│ 50%        ┆ 1.41      │\n",
      "│ 75%        ┆ 2.86      │\n",
      "│ max        ┆ 8.42      │\n",
      "└────────────┴───────────┘\n",
      "q33: 0.64\n",
      "q66: 2.38\n"
     ]
    },
    {
     "data": {
      "image/png": "[encoded data removed]",
      "text/plain": [
       "<Figure size 640x480 with 1 Axes>"
      ]
     },
     "metadata": {},
     "output_type": "display_data"
    }
   ],
   "source": [
    "# Calculate statistics\n",
    "physicians_per_thousand_stats = data[\"Physicians per thousand\"].describe()\n",
    "print(physicians_per_thousand_stats)\n",
    "\n",
    "# Calculate q33 and q66\n",
    "q33 = data[\"Physicians per thousand\"].quantile(0.33)\n",
    "q66 = data[\"Physicians per thousand\"].quantile(0.66)\n",
    "print(f\"q33: {q33}\")\n",
    "print(f\"q66: {q66}\")\n",
    "\n",
    "# Plot histogram\n",
    "physicians_per_thousand_values = data[\"Physicians per thousand\"].to_numpy()\n",
    "plt.hist(physicians_per_thousand_values, bins=20, edgecolor=\"black\")\n",
    "plt.title(\"Physicians per Thousand Distribution\")\n",
    "plt.xlabel(\"Physicians per Thousand\")\n",
    "plt.ylabel(\"Frequency\")\n",
    "plt.show()"
   ]
  },
  {
   "cell_type": "markdown",
   "metadata": {},
   "source": [
    "According to the results obtained, we will define the following categories for physicians per thousand:\n",
    "\n",
    "- Few: less than 0.75 physicians\n",
    "- Moderate: between 0.75 and 2.5 physicians\n",
    "- Many: more than 2.5 physicians"
   ]
  },
  {
   "cell_type": "markdown",
   "metadata": {},
   "source": [
    "**Daily total caloric ingestion**"
   ]
  },
  {
   "cell_type": "code",
   "execution_count": 14,
   "metadata": {},
   "outputs": [
    {
     "name": "stdout",
     "output_type": "stream",
     "text": [
      "shape: (9, 2)\n",
      "┌────────────┬─────────────┐\n",
      "│ statistic  ┆ value       │\n",
      "│ ---        ┆ ---         │\n",
      "│ str        ┆ f64         │\n",
      "╞════════════╪═════════════╡\n",
      "│ count      ┆ 188.0       │\n",
      "│ null_count ┆ 0.0         │\n",
      "│ mean       ┆ 2978.650923 │\n",
      "│ std        ┆ 508.185288  │\n",
      "│ min        ┆ 1657.758564 │\n",
      "│ 25%        ┆ 2630.637707 │\n",
      "│ 50%        ┆ 2995.626897 │\n",
      "│ 75%        ┆ 3402.010999 │\n",
      "│ max        ┆ 4077.208036 │\n",
      "└────────────┴─────────────┘\n",
      "q33: 2737.68037501638\n",
      "q66: 3214.3896589945916\n"
     ]
    },
    {
     "data": {
      "image/png": "[encoded data removed]",
      "text/plain": [
       "<Figure size 640x480 with 1 Axes>"
      ]
     },
     "metadata": {},
     "output_type": "display_data"
    }
   ],
   "source": [
    "# Calculate statistics\n",
    "daily_total_caloric_ingestion_stats = data[\"Daily total caloric ingestion\"].describe()\n",
    "print(daily_total_caloric_ingestion_stats)\n",
    "\n",
    "# Calculate q33 and q66\n",
    "q33 = data[\"Daily total caloric ingestion\"].quantile(0.33)\n",
    "q66 = data[\"Daily total caloric ingestion\"].quantile(0.66)\n",
    "print(f\"q33: {q33}\")\n",
    "print(f\"q66: {q66}\")\n",
    "\n",
    "# Plot histogram\n",
    "daily_total_caloric_ingestion_values = data[\"Daily total caloric ingestion\"].to_numpy()\n",
    "plt.hist(daily_total_caloric_ingestion_values, bins=20, edgecolor=\"black\")\n",
    "plt.title(\"Daily Total Caloric Ingestion Distribution\")\n",
    "plt.xlabel(\"Daily Total Caloric Ingestion\")\n",
    "plt.ylabel(\"Frequency\")\n",
    "plt.show()"
   ]
  },
  {
   "cell_type": "markdown",
   "metadata": {},
   "source": [
    "We have been doing some research on the Internet, and we found that the most recommended daily caloric intake is 2000 calories for an average woman and 2500 calories for an average man, like it is stated in [[1]](https://www.nhs.uk/live-well/healthy-weight/managing-your-weight/understanding-calories/#:~:text=an%20average%20man%20needs%202%2C500,needs%202%2C000kcal%20a%20day). The 33th percentile we have obtained is 2738 calories, which is considerably higher than the recommended intake, so we will consider a lower value as the threshold which divides the lowest and medium categories. Therefore, we will define the following categories for daily total caloric ingestion:\n",
    "\n",
    "- Low: less than 2500 calories\n",
    "- Medium: between 2500 and 3200 calories\n",
    "- High: more than 3200 calories"
   ]
  },
  {
   "cell_type": "markdown",
   "metadata": {},
   "source": [
    "**Unemployment rate**"
   ]
  },
  {
   "cell_type": "code",
   "execution_count": 15,
   "metadata": {},
   "outputs": [
    {
     "name": "stdout",
     "output_type": "stream",
     "text": [
      "shape: (9, 2)\n",
      "┌────────────┬──────────┐\n",
      "│ statistic  ┆ value    │\n",
      "│ ---        ┆ ---      │\n",
      "│ str        ┆ f64      │\n",
      "╞════════════╪══════════╡\n",
      "│ count      ┆ 188.0    │\n",
      "│ null_count ┆ 0.0      │\n",
      "│ mean       ┆ 6.868779 │\n",
      "│ std        ┆ 4.915396 │\n",
      "│ min        ┆ 0.09     │\n",
      "│ 25%        ┆ 3.47     │\n",
      "│ 50%        ┆ 5.56     │\n",
      "│ 75%        ┆ 9.02     │\n",
      "│ max        ┆ 28.18    │\n",
      "└────────────┴──────────┘\n",
      "q33: 4.2\n",
      "q66: 6.918181688238992\n"
     ]
    },
    {
     "data": {
      "image/png": "[encoded data removed]",
      "text/plain": [
       "<Figure size 640x480 with 1 Axes>"
      ]
     },
     "metadata": {},
     "output_type": "display_data"
    }
   ],
   "source": [
    "# Calculate statistics\n",
    "unemployment_rate_stats = data[\"Unemployment rate\"].describe()\n",
    "print(unemployment_rate_stats)\n",
    "\n",
    "# Calculate q33 and q66\n",
    "q33 = data[\"Unemployment rate\"].quantile(0.33)\n",
    "q66 = data[\"Unemployment rate\"].quantile(0.66)\n",
    "print(f\"q33: {q33}\")\n",
    "print(f\"q66: {q66}\")\n",
    "\n",
    "# Plot histogram\n",
    "unemployment_rate_values = data[\"Unemployment rate\"].to_numpy()\n",
    "plt.hist(unemployment_rate_values, bins=20, edgecolor=\"black\")\n",
    "plt.title(\"Unemployment Rate Distribution\")\n",
    "plt.xlabel(\"Unemployment Rate\")\n",
    "plt.ylabel(\"Frequency\")\n",
    "plt.show()"
   ]
  },
  {
   "cell_type": "markdown",
   "metadata": {},
   "source": [
    "There are several countries with an unemployment rate of 15% or higher, which is considered very high. The 66th percentile of the unemployment rate is around 7%, but it would be unfair to consider that a country with an unemployment rate of 7% is in the same category as some other countries that duplicate this value. Therefore, we will consider a value of 10% as the threshold for the highest category. The categories for the unemployment rate will be defined as follows:\n",
    "\n",
    "- Low: less than 4%\n",
    "- Medium: between 4% and 10%\n",
    "- High: more than 10%"
   ]
  },
  {
   "cell_type": "markdown",
   "metadata": {},
   "source": [
    "**GDP per capita**"
   ]
  },
  {
   "cell_type": "code",
   "execution_count": 16,
   "metadata": {},
   "outputs": [
    {
     "name": "stdout",
     "output_type": "stream",
     "text": [
      "shape: (9, 2)\n",
      "┌────────────┬──────────────┐\n",
      "│ statistic  ┆ value        │\n",
      "│ ---        ┆ ---          │\n",
      "│ str        ┆ f64          │\n",
      "╞════════════╪══════════════╡\n",
      "│ count      ┆ 188.0        │\n",
      "│ null_count ┆ 0.0          │\n",
      "│ mean       ┆ 14751.844741 │\n",
      "│ std        ┆ 22257.236458 │\n",
      "│ min        ┆ 261.247473   │\n",
      "│ 25%        ┆ 1910.835828  │\n",
      "│ 50%        ┆ 5955.10901   │\n",
      "│ 75%        ┆ 17276.465447 │\n",
      "│ max        ┆ 172357.47229 │\n",
      "└────────────┴──────────────┘\n",
      "q33: 3058.065675832494\n",
      "q66: 11203.540584699034\n"
     ]
    },
    {
     "data": {
      "image/png": "[encoded data removed]",
      "text/plain": [
       "<Figure size 640x480 with 1 Axes>"
      ]
     },
     "metadata": {},
     "output_type": "display_data"
    }
   ],
   "source": [
    "# Calculate statistics\n",
    "gdp_per_capita_stats = data[\"GDP per capita\"].describe()\n",
    "print(gdp_per_capita_stats)\n",
    "\n",
    "# Calculate q33 and q66\n",
    "q33 = data[\"GDP per capita\"].quantile(0.33)\n",
    "q66 = data[\"GDP per capita\"].quantile(0.66)\n",
    "print(f\"q33: {q33}\")\n",
    "print(f\"q66: {q66}\")\n",
    "\n",
    "# Plot histogram\n",
    "gdp_per_capita_values = data[\"GDP per capita\"].to_numpy()\n",
    "plt.hist(gdp_per_capita_values, bins=20, edgecolor=\"black\")\n",
    "plt.title(\"GDP per Capita Distribution\")\n",
    "plt.xlabel(\"GDP per Capita\")\n",
    "plt.ylabel(\"Frequency\")\n",
    "plt.show()"
   ]
  },
  {
   "cell_type": "markdown",
   "metadata": {},
   "source": [
    "According to the results obtained, we will define the following categories for GDP per capita:\n",
    "\n",
    "- Low: less than 3000 USD\n",
    "- Medium: between 3000 and 11000 USD\n",
    "- High: more than 11000 USD"
   ]
  },
  {
   "cell_type": "markdown",
   "metadata": {},
   "source": [
    "**Co2-Emissions per capita**"
   ]
  },
  {
   "cell_type": "code",
   "execution_count": 17,
   "metadata": {},
   "outputs": [
    {
     "name": "stdout",
     "output_type": "stream",
     "text": [
      "shape: (9, 2)\n",
      "┌────────────┬───────────┐\n",
      "│ statistic  ┆ value     │\n",
      "│ ---        ┆ ---       │\n",
      "│ str        ┆ f64       │\n",
      "╞════════════╪═══════════╡\n",
      "│ count      ┆ 188.0     │\n",
      "│ null_count ┆ 0.0       │\n",
      "│ mean       ┆ 4.219642  │\n",
      "│ std        ┆ 5.369097  │\n",
      "│ min        ┆ 0.023286  │\n",
      "│ 25%        ┆ 0.636838  │\n",
      "│ 50%        ┆ 2.449163  │\n",
      "│ 75%        ┆ 5.735291  │\n",
      "│ max        ┆ 36.460649 │\n",
      "└────────────┴───────────┘\n",
      "q33: 1.1310657478501338\n",
      "q66: 4.467538295604025\n"
     ]
    },
    {
     "data": {
      "image/png": "[encoded data removed]",
      "text/plain": [
       "<Figure size 640x480 with 1 Axes>"
      ]
     },
     "metadata": {},
     "output_type": "display_data"
    }
   ],
   "source": [
    "# Calculate statistics\n",
    "co2_emissions_per_capita_stats = data[\"CO2 emissions per capita\"].describe()\n",
    "print(co2_emissions_per_capita_stats)\n",
    "\n",
    "# Calculate q33 and q66\n",
    "q33 = data[\"CO2 emissions per capita\"].quantile(0.33)\n",
    "q66 = data[\"CO2 emissions per capita\"].quantile(0.66)\n",
    "print(f\"q33: {q33}\")\n",
    "print(f\"q66: {q66}\")\n",
    "\n",
    "# Plot histogram\n",
    "co2_emissions_per_capita_values = data[\"CO2 emissions per capita\"].to_numpy()\n",
    "plt.hist(co2_emissions_per_capita_values, bins=20, edgecolor=\"black\")\n",
    "plt.title(\"CO2 Emissions per Capita Distribution\")\n",
    "plt.xlabel(\"CO2 Emissions per Capita\")\n",
    "plt.ylabel(\"Frequency\")\n",
    "plt.show()"
   ]
  },
  {
   "cell_type": "markdown",
   "metadata": {},
   "source": [
    "In this case, we will consider the mean value as a reference to establish the thresholds. The mean is 4.2 tons per capita, so we will consider the following categories for CO2 emissions per capita:\n",
    "\n",
    "- Low: less than 3 tons per capita\n",
    "- Medium: between 3 and 6 tons per capita\n",
    "- High: more than 6 tons per capita"
   ]
  },
  {
   "cell_type": "markdown",
   "metadata": {},
   "source": [
    "**Urban population percentage**"
   ]
  },
  {
   "cell_type": "code",
   "execution_count": 18,
   "metadata": {},
   "outputs": [
    {
     "name": "stdout",
     "output_type": "stream",
     "text": [
      "shape: (9, 2)\n",
      "┌────────────┬───────────┐\n",
      "│ statistic  ┆ value     │\n",
      "│ ---        ┆ ---       │\n",
      "│ str        ┆ f64       │\n",
      "╞════════════╪═══════════╡\n",
      "│ count      ┆ 188.0     │\n",
      "│ null_count ┆ 0.0       │\n",
      "│ mean       ┆ 58.346661 │\n",
      "│ std        ┆ 23.080923 │\n",
      "│ min        ┆ 11.433771 │\n",
      "│ 25%        ┆ 40.76602  │\n",
      "│ 50%        ┆ 59.038991 │\n",
      "│ 75%        ┆ 77.416611 │\n",
      "│ max        ┆ 100.0     │\n",
      "└────────────┴───────────┘\n",
      "q33: 47.86100101591785\n",
      "q66: 70.73599994268409\n"
     ]
    },
    {
     "data": {
      "image/png": "[encoded data removed]",
      "text/plain": [
       "<Figure size 640x480 with 1 Axes>"
      ]
     },
     "metadata": {},
     "output_type": "display_data"
    }
   ],
   "source": [
    "# Calculate statistics\n",
    "urban_population_percentage_stats = data[\"Urban population percentage\"].describe()\n",
    "print(urban_population_percentage_stats)\n",
    "\n",
    "# Calculate q33 and q66\n",
    "q33 = data[\"Urban population percentage\"].quantile(0.33)\n",
    "q66 = data[\"Urban population percentage\"].quantile(0.66)\n",
    "print(f\"q33: {q33}\")\n",
    "print(f\"q66: {q66}\")\n",
    "\n",
    "# Plot histogram\n",
    "urban_population_percentage_values = data[\"Urban population percentage\"].to_numpy()\n",
    "plt.hist(urban_population_percentage_values, bins=20, edgecolor=\"black\")\n",
    "plt.title(\"Urban Population Percentage Distribution\")\n",
    "plt.xlabel(\"Urban Population Percentage\")\n",
    "plt.ylabel(\"Frequency\")\n",
    "plt.show()"
   ]
  },
  {
   "cell_type": "markdown",
   "metadata": {},
   "source": [
    "According to the results obtained, we will define the following categories for urban population percentage:\n",
    "\n",
    "- Low: less than 50%\n",
    "- Medium: between 50% and 70%\n",
    "- High: more than 70%"
   ]
  },
  {
   "cell_type": "code",
   "execution_count": 19,
   "metadata": {},
   "outputs": [
    {
     "data": {
      "text/html": [
       "<div><style>\n",
       ".dataframe > thead > tr,\n",
       ".dataframe > tbody > tr {\n",
       "  text-align: right;\n",
       "  white-space: pre-wrap;\n",
       "}\n",
       "</style>\n",
       "<small>shape: (5, 8)</small><table border=\"1\" class=\"dataframe\"><thead><tr><th>Life_expectancy_category</th><th>Out_of_pocket_category</th><th>Physicians_category</th><th>Caloric_ingestion_category</th><th>Unemployment_category</th><th>GDP_per_capita_category</th><th>CO2_emissions_per_capita_category</th><th>Urban_population_percentage_category</th></tr><tr><td>str</td><td>str</td><td>str</td><td>str</td><td>str</td><td>str</td><td>str</td><td>str</td></tr></thead><tbody><tr><td>&quot;Low&quot;</td><td>&quot;High&quot;</td><td>&quot;Few&quot;</td><td>&quot;Low&quot;</td><td>&quot;High&quot;</td><td>&quot;Low&quot;</td><td>&quot;Low&quot;</td><td>&quot;Low&quot;</td></tr><tr><td>&quot;High&quot;</td><td>&quot;High&quot;</td><td>&quot;Moderate&quot;</td><td>&quot;High&quot;</td><td>&quot;High&quot;</td><td>&quot;Medium&quot;</td><td>&quot;Low&quot;</td><td>&quot;Medium&quot;</td></tr><tr><td>&quot;Medium&quot;</td><td>&quot;Medium&quot;</td><td>&quot;Moderate&quot;</td><td>&quot;High&quot;</td><td>&quot;High&quot;</td><td>&quot;Medium&quot;</td><td>&quot;Medium&quot;</td><td>&quot;High&quot;</td></tr><tr><td>&quot;High&quot;</td><td>&quot;Medium&quot;</td><td>&quot;Many&quot;</td><td>&quot;High&quot;</td><td>&quot;Medium&quot;</td><td>&quot;High&quot;</td><td>&quot;High&quot;</td><td>&quot;High&quot;</td></tr><tr><td>&quot;Low&quot;</td><td>&quot;Medium&quot;</td><td>&quot;Few&quot;</td><td>&quot;Moderate&quot;</td><td>&quot;Medium&quot;</td><td>&quot;Low&quot;</td><td>&quot;Low&quot;</td><td>&quot;Medium&quot;</td></tr></tbody></table></div>"
      ],
      "text/plain": [
       "shape: (5, 8)\n",
       "┌────────────┬────────────┬────────────┬───────────┬───────────┬───────────┬───────────┬───────────┐\n",
       "│ Life_expec ┆ Out_of_poc ┆ Physicians ┆ Caloric_i ┆ Unemploym ┆ GDP_per_c ┆ CO2_emiss ┆ Urban_pop │\n",
       "│ tancy_cate ┆ ket_catego ┆ _category  ┆ ngestion_ ┆ ent_categ ┆ apita_cat ┆ ions_per_ ┆ ulation_p │\n",
       "│ gory       ┆ ry         ┆ ---        ┆ category  ┆ ory       ┆ egory     ┆ capita_ca ┆ ercentage │\n",
       "│ ---        ┆ ---        ┆ str        ┆ ---       ┆ ---       ┆ ---       ┆ teg…      ┆ _ca…      │\n",
       "│ str        ┆ str        ┆            ┆ str       ┆ str       ┆ str       ┆ ---       ┆ ---       │\n",
       "│            ┆            ┆            ┆           ┆           ┆           ┆ str       ┆ str       │\n",
       "╞════════════╪════════════╪════════════╪═══════════╪═══════════╪═══════════╪═══════════╪═══════════╡\n",
       "│ Low        ┆ High       ┆ Few        ┆ Low       ┆ High      ┆ Low       ┆ Low       ┆ Low       │\n",
       "│ High       ┆ High       ┆ Moderate   ┆ High      ┆ High      ┆ Medium    ┆ Low       ┆ Medium    │\n",
       "│ Medium     ┆ Medium     ┆ Moderate   ┆ High      ┆ High      ┆ Medium    ┆ Medium    ┆ High      │\n",
       "│ High       ┆ Medium     ┆ Many       ┆ High      ┆ Medium    ┆ High      ┆ High      ┆ High      │\n",
       "│ Low        ┆ Medium     ┆ Few        ┆ Moderate  ┆ Medium    ┆ Low       ┆ Low       ┆ Medium    │\n",
       "└────────────┴────────────┴────────────┴───────────┴───────────┴───────────┴───────────┴───────────┘"
      ]
     },
     "execution_count": 19,
     "metadata": {},
     "output_type": "execute_result"
    }
   ],
   "source": [
    "# Discretize continuous variables into categories\n",
    "discretized_data = data.with_columns(\n",
    "    [\n",
    "        pl.when(pl.col(\"Life expectancy\") < 70)\n",
    "        .then(pl.lit(\"Low\"))\n",
    "        .when(pl.col(\"Life expectancy\").is_between(70, 77))\n",
    "        .then(pl.lit(\"Medium\"))\n",
    "        .otherwise(pl.lit(\"High\"))\n",
    "        .alias(\"Life_expectancy_category\"),\n",
    "        pl.when(pl.col(\"Out of pocket health expenditure\") < 22)\n",
    "        .then(pl.lit(\"Low\"))\n",
    "        .when(pl.col(\"Out of pocket health expenditure\").is_between(22, 50))\n",
    "        .then(pl.lit(\"Medium\"))\n",
    "        .otherwise(pl.lit(\"High\"))\n",
    "        .alias(\"Out_of_pocket_category\"),\n",
    "        pl.when(pl.col(\"Physicians per thousand\") < 0.75)\n",
    "        .then(pl.lit(\"Few\"))\n",
    "        .when(pl.col(\"Physicians per thousand\").is_between(0.75, 2.5))\n",
    "        .then(pl.lit(\"Moderate\"))\n",
    "        .otherwise(pl.lit(\"Many\"))\n",
    "        .alias(\"Physicians_category\"),\n",
    "        pl.when(pl.col(\"Daily total caloric ingestion\") < 2500)\n",
    "        .then(pl.lit(\"Low\"))\n",
    "        .when(pl.col(\"Daily total caloric ingestion\").is_between(2500, 3200))\n",
    "        .then(pl.lit(\"Moderate\"))\n",
    "        .otherwise(pl.lit(\"High\"))\n",
    "        .alias(\"Caloric_ingestion_category\"),\n",
    "        pl.when(pl.col(\"Unemployment rate\") < 4)\n",
    "        .then(pl.lit(\"Low\"))\n",
    "        .when(pl.col(\"Unemployment rate\").is_between(4, 10))\n",
    "        .then(pl.lit(\"Medium\"))\n",
    "        .otherwise(pl.lit(\"High\"))\n",
    "        .alias(\"Unemployment_category\"),\n",
    "        pl.when(pl.col(\"GDP per capita\") < 3_000)\n",
    "        .then(pl.lit(\"Low\"))\n",
    "        .when(pl.col(\"GDP per capita\").is_between(3_000, 11_000))\n",
    "        .then(pl.lit(\"Medium\"))\n",
    "        .otherwise(pl.lit(\"High\"))\n",
    "        .alias(\"GDP_per_capita_category\"),\n",
    "        pl.when(pl.col(\"CO2 emissions per capita\") < 3)\n",
    "        .then(pl.lit(\"Low\"))\n",
    "        .when(pl.col(\"CO2 emissions per capita\").is_between(3, 6))\n",
    "        .then(pl.lit(\"Medium\"))\n",
    "        .otherwise(pl.lit(\"High\"))\n",
    "        .alias(\"CO2_emissions_per_capita_category\"),\n",
    "        pl.when(pl.col(\"Urban population percentage\") < 50)\n",
    "        .then(pl.lit(\"Low\"))\n",
    "        .when(pl.col(\"Urban population percentage\").is_between(50, 70))\n",
    "        .then(pl.lit(\"Medium\"))\n",
    "        .otherwise(pl.lit(\"High\"))\n",
    "        .alias(\"Urban_population_percentage_category\"),\n",
    "    ]\n",
    ")\n",
    "\n",
    "# Drop original columns\n",
    "discretized_data = discretized_data.drop(\n",
    "    [\n",
    "        \"Life expectancy\",\n",
    "        \"Out of pocket health expenditure\",\n",
    "        \"Physicians per thousand\",\n",
    "        \"Daily total caloric ingestion\",\n",
    "        \"Unemployment rate\",\n",
    "        \"GDP per capita\",\n",
    "        \"CO2 emissions per capita\",\n",
    "        \"Urban population percentage\",\n",
    "    ]\n",
    ")\n",
    "\n",
    "# Display transformed data\n",
    "discretized_data.head()"
   ]
  },
  {
   "cell_type": "markdown",
   "metadata": {},
   "source": [
    "We can take a look at the distribution of the variables to see how the categories have been defined."
   ]
  },
  {
   "cell_type": "code",
   "execution_count": null,
   "metadata": {},
   "outputs": [
    {
     "name": "stdout",
     "output_type": "stream",
     "text": [
      "\n",
      "Distribution of Life_expectancy_category:\n",
      "shape: (3, 2)\n",
      "┌──────────────────────────┬───────┐\n",
      "│ Life_expectancy_category ┆ count │\n",
      "│ ---                      ┆ ---   │\n",
      "│ str                      ┆ u32   │\n",
      "╞══════════════════════════╪═══════╡\n",
      "│ Medium                   ┆ 73    │\n",
      "│ Low                      ┆ 63    │\n",
      "│ High                     ┆ 52    │\n",
      "└──────────────────────────┴───────┘\n",
      "\n",
      "Distribution of Out_of_pocket_category:\n",
      "shape: (3, 2)\n",
      "┌────────────────────────┬───────┐\n",
      "│ Out_of_pocket_category ┆ count │\n",
      "│ ---                    ┆ ---   │\n",
      "│ str                    ┆ u32   │\n",
      "╞════════════════════════╪═══════╡\n",
      "│ Low                    ┆ 64    │\n",
      "│ Medium                 ┆ 89    │\n",
      "│ High                   ┆ 35    │\n",
      "└────────────────────────┴───────┘\n",
      "\n",
      "Distribution of Physicians_category:\n",
      "shape: (3, 2)\n",
      "┌─────────────────────┬───────┐\n",
      "│ Physicians_category ┆ count │\n",
      "│ ---                 ┆ ---   │\n",
      "│ str                 ┆ u32   │\n",
      "╞═════════════════════╪═══════╡\n",
      "│ Many                ┆ 61    │\n",
      "│ Moderate            ┆ 58    │\n",
      "│ Few                 ┆ 69    │\n",
      "└─────────────────────┴───────┘\n",
      "\n",
      "Distribution of Caloric_ingestion_category:\n",
      "shape: (3, 2)\n",
      "┌────────────────────────────┬───────┐\n",
      "│ Caloric_ingestion_category ┆ count │\n",
      "│ ---                        ┆ ---   │\n",
      "│ str                        ┆ u32   │\n",
      "╞════════════════════════════╪═══════╡\n",
      "│ High                       ┆ 67    │\n",
      "│ Moderate                   ┆ 81    │\n",
      "│ Low                        ┆ 40    │\n",
      "└────────────────────────────┴───────┘\n",
      "\n",
      "Distribution of Unemployment_category:\n",
      "shape: (3, 2)\n",
      "┌───────────────────────┬───────┐\n",
      "│ Unemployment_category ┆ count │\n",
      "│ ---                   ┆ ---   │\n",
      "│ str                   ┆ u32   │\n",
      "╞═══════════════════════╪═══════╡\n",
      "│ High                  ┆ 40    │\n",
      "│ Low                   ┆ 56    │\n",
      "│ Medium                ┆ 92    │\n",
      "└───────────────────────┴───────┘\n",
      "\n",
      "Distribution of GDP_per_capita_category:\n",
      "shape: (3, 2)\n",
      "┌─────────────────────────┬───────┐\n",
      "│ GDP_per_capita_category ┆ count │\n",
      "│ ---                     ┆ ---   │\n",
      "│ str                     ┆ u32   │\n",
      "╞═════════════════════════╪═══════╡\n",
      "│ Low                     ┆ 61    │\n",
      "│ High                    ┆ 65    │\n",
      "│ Medium                  ┆ 62    │\n",
      "└─────────────────────────┴───────┘\n",
      "\n",
      "Distribution of CO2_emissions_per_capita_category:\n",
      "shape: (3, 2)\n",
      "┌─────────────────────────────────┬───────┐\n",
      "│ CO2_emissions_per_capita_categ… ┆ count │\n",
      "│ ---                             ┆ ---   │\n",
      "│ str                             ┆ u32   │\n",
      "╞═════════════════════════════════╪═══════╡\n",
      "│ High                            ┆ 43    │\n",
      "│ Low                             ┆ 108   │\n",
      "│ Medium                          ┆ 37    │\n",
      "└─────────────────────────────────┴───────┘\n",
      "\n",
      "Distribution of Urban_population_percentage_category:\n",
      "shape: (3, 2)\n",
      "┌─────────────────────────────────┬───────┐\n",
      "│ Urban_population_percentage_ca… ┆ count │\n",
      "│ ---                             ┆ ---   │\n",
      "│ str                             ┆ u32   │\n",
      "╞═════════════════════════════════╪═══════╡\n",
      "│ Medium                          ┆ 58    │\n",
      "│ High                            ┆ 66    │\n",
      "│ Low                             ┆ 64    │\n",
      "└─────────────────────────────────┴───────┘\n"
     ]
    }
   ],
   "source": [
    "# Show distribution of categories\n",
    "category_columns = [\n",
    "    \"Life_expectancy_category\",\n",
    "    \"Out_of_pocket_category\",\n",
    "    \"Physicians_category\",\n",
    "    \"Caloric_ingestion_category\",\n",
    "    \"Unemployment_category\",\n",
    "    \"GDP_per_capita_category\",\n",
    "    \"CO2_emissions_per_capita_category\",\n",
    "    \"Urban_population_percentage_category\",\n",
    "]\n",
    "\n",
    "distribution = {col: discretized_data[col].value_counts() for col in category_columns}\n",
    "\n",
    "for col, dist in distribution.items():\n",
    "    print(f\"\\nDistribution of {col}:\")\n",
    "    print(dist)"
   ]
  },
  {
   "cell_type": "markdown",
   "metadata": {},
   "source": [
    "As we will use the `mlxtend` library for association rule mining, we are going to perform One-Hot Encoding to convert the categorical variables into a format suitable for the library."
   ]
  },
  {
   "cell_type": "code",
   "execution_count": 21,
   "metadata": {},
   "outputs": [
    {
     "data": {
      "text/html": [
       "<div><style>\n",
       ".dataframe > thead > tr,\n",
       ".dataframe > tbody > tr {\n",
       "  text-align: right;\n",
       "  white-space: pre-wrap;\n",
       "}\n",
       "</style>\n",
       "<small>shape: (5, 24)</small><table border=\"1\" class=\"dataframe\"><thead><tr><th>Life_expectancy_category_High</th><th>Life_expectancy_category_Low</th><th>Life_expectancy_category_Medium</th><th>Out_of_pocket_category_High</th><th>Out_of_pocket_category_Low</th><th>Out_of_pocket_category_Medium</th><th>Physicians_category_Few</th><th>Physicians_category_Many</th><th>Physicians_category_Moderate</th><th>Caloric_ingestion_category_High</th><th>Caloric_ingestion_category_Low</th><th>Caloric_ingestion_category_Moderate</th><th>Unemployment_category_High</th><th>Unemployment_category_Low</th><th>Unemployment_category_Medium</th><th>GDP_per_capita_category_High</th><th>GDP_per_capita_category_Low</th><th>GDP_per_capita_category_Medium</th><th>CO2_emissions_per_capita_category_High</th><th>CO2_emissions_per_capita_category_Low</th><th>CO2_emissions_per_capita_category_Medium</th><th>Urban_population_percentage_category_High</th><th>Urban_population_percentage_category_Low</th><th>Urban_population_percentage_category_Medium</th></tr><tr><td>u8</td><td>u8</td><td>u8</td><td>u8</td><td>u8</td><td>u8</td><td>u8</td><td>u8</td><td>u8</td><td>u8</td><td>u8</td><td>u8</td><td>u8</td><td>u8</td><td>u8</td><td>u8</td><td>u8</td><td>u8</td><td>u8</td><td>u8</td><td>u8</td><td>u8</td><td>u8</td><td>u8</td></tr></thead><tbody><tr><td>0</td><td>1</td><td>0</td><td>1</td><td>0</td><td>0</td><td>1</td><td>0</td><td>0</td><td>0</td><td>1</td><td>0</td><td>1</td><td>0</td><td>0</td><td>0</td><td>1</td><td>0</td><td>0</td><td>1</td><td>0</td><td>0</td><td>1</td><td>0</td></tr><tr><td>1</td><td>0</td><td>0</td><td>1</td><td>0</td><td>0</td><td>0</td><td>0</td><td>1</td><td>1</td><td>0</td><td>0</td><td>1</td><td>0</td><td>0</td><td>0</td><td>0</td><td>1</td><td>0</td><td>1</td><td>0</td><td>0</td><td>0</td><td>1</td></tr><tr><td>0</td><td>0</td><td>1</td><td>0</td><td>0</td><td>1</td><td>0</td><td>0</td><td>1</td><td>1</td><td>0</td><td>0</td><td>1</td><td>0</td><td>0</td><td>0</td><td>0</td><td>1</td><td>0</td><td>0</td><td>1</td><td>1</td><td>0</td><td>0</td></tr><tr><td>1</td><td>0</td><td>0</td><td>0</td><td>0</td><td>1</td><td>0</td><td>1</td><td>0</td><td>1</td><td>0</td><td>0</td><td>0</td><td>0</td><td>1</td><td>1</td><td>0</td><td>0</td><td>1</td><td>0</td><td>0</td><td>1</td><td>0</td><td>0</td></tr><tr><td>0</td><td>1</td><td>0</td><td>0</td><td>0</td><td>1</td><td>1</td><td>0</td><td>0</td><td>0</td><td>0</td><td>1</td><td>0</td><td>0</td><td>1</td><td>0</td><td>1</td><td>0</td><td>0</td><td>1</td><td>0</td><td>0</td><td>0</td><td>1</td></tr></tbody></table></div>"
      ],
      "text/plain": [
       "shape: (5, 24)\n",
       "┌───────────┬───────────┬───────────┬───────────┬───┬───────────┬───────────┬───────────┬──────────┐\n",
       "│ Life_expe ┆ Life_expe ┆ Life_expe ┆ Out_of_po ┆ … ┆ CO2_emiss ┆ Urban_pop ┆ Urban_pop ┆ Urban_po │\n",
       "│ ctancy_ca ┆ ctancy_ca ┆ ctancy_ca ┆ cket_cate ┆   ┆ ions_per_ ┆ ulation_p ┆ ulation_p ┆ pulation │\n",
       "│ tegory_Hi ┆ tegory_Lo ┆ tegory_Me ┆ gory_High ┆   ┆ capita_ca ┆ ercentage ┆ ercentage ┆ _percent │\n",
       "│ gh        ┆ w         ┆ diu…      ┆ ---       ┆   ┆ teg…      ┆ _ca…      ┆ _ca…      ┆ age_ca…  │\n",
       "│ ---       ┆ ---       ┆ ---       ┆ u8        ┆   ┆ ---       ┆ ---       ┆ ---       ┆ ---      │\n",
       "│ u8        ┆ u8        ┆ u8        ┆           ┆   ┆ u8        ┆ u8        ┆ u8        ┆ u8       │\n",
       "╞═══════════╪═══════════╪═══════════╪═══════════╪═══╪═══════════╪═══════════╪═══════════╪══════════╡\n",
       "│ 0         ┆ 1         ┆ 0         ┆ 1         ┆ … ┆ 0         ┆ 0         ┆ 1         ┆ 0        │\n",
       "│ 1         ┆ 0         ┆ 0         ┆ 1         ┆ … ┆ 0         ┆ 0         ┆ 0         ┆ 1        │\n",
       "│ 0         ┆ 0         ┆ 1         ┆ 0         ┆ … ┆ 1         ┆ 1         ┆ 0         ┆ 0        │\n",
       "│ 1         ┆ 0         ┆ 0         ┆ 0         ┆ … ┆ 0         ┆ 1         ┆ 0         ┆ 0        │\n",
       "│ 0         ┆ 1         ┆ 0         ┆ 0         ┆ … ┆ 0         ┆ 0         ┆ 0         ┆ 1        │\n",
       "└───────────┴───────────┴───────────┴───────────┴───┴───────────┴───────────┴───────────┴──────────┘"
      ]
     },
     "execution_count": 21,
     "metadata": {},
     "output_type": "execute_result"
    }
   ],
   "source": [
    "# Select only the categorized columns\n",
    "categorical_columns = [col for col in discretized_data.columns]\n",
    "\n",
    "# Apply One-Hot Encoding\n",
    "data_encoded = discretized_data.select(categorical_columns).to_dummies()\n",
    "\n",
    "# Show the first rows of the one-hot encoded DataFrame\n",
    "data_encoded.head()"
   ]
  },
  {
   "cell_type": "markdown",
   "metadata": {},
   "source": [
    "Since the `mlxtend` library requires a Pandas DataFrame, we convert the Polars DataFrame to Pandas. We will also convert 1 and 0 values to True and False for a better computational performance, as the `mlxtend` library recommends using Boolean values."
   ]
  },
  {
   "cell_type": "code",
   "execution_count": 26,
   "metadata": {},
   "outputs": [
    {
     "data": {
      "text/html": [
       "<div>\n",
       "<style scoped>\n",
       "    .dataframe tbody tr th:only-of-type {\n",
       "        vertical-align: middle;\n",
       "    }\n",
       "\n",
       "    .dataframe tbody tr th {\n",
       "        vertical-align: top;\n",
       "    }\n",
       "\n",
       "    .dataframe thead th {\n",
       "        text-align: right;\n",
       "    }\n",
       "</style>\n",
       "<table border=\"1\" class=\"dataframe\">\n",
       "  <thead>\n",
       "    <tr style=\"text-align: right;\">\n",
       "      <th></th>\n",
       "      <th>Life_expectancy_category_High</th>\n",
       "      <th>Life_expectancy_category_Low</th>\n",
       "      <th>Life_expectancy_category_Medium</th>\n",
       "      <th>Out_of_pocket_category_High</th>\n",
       "      <th>Out_of_pocket_category_Low</th>\n",
       "      <th>Out_of_pocket_category_Medium</th>\n",
       "      <th>Physicians_category_Few</th>\n",
       "      <th>Physicians_category_Many</th>\n",
       "      <th>Physicians_category_Moderate</th>\n",
       "      <th>Caloric_ingestion_category_High</th>\n",
       "      <th>...</th>\n",
       "      <th>Unemployment_category_Medium</th>\n",
       "      <th>GDP_per_capita_category_High</th>\n",
       "      <th>GDP_per_capita_category_Low</th>\n",
       "      <th>GDP_per_capita_category_Medium</th>\n",
       "      <th>CO2_emissions_per_capita_category_High</th>\n",
       "      <th>CO2_emissions_per_capita_category_Low</th>\n",
       "      <th>CO2_emissions_per_capita_category_Medium</th>\n",
       "      <th>Urban_population_percentage_category_High</th>\n",
       "      <th>Urban_population_percentage_category_Low</th>\n",
       "      <th>Urban_population_percentage_category_Medium</th>\n",
       "    </tr>\n",
       "  </thead>\n",
       "  <tbody>\n",
       "    <tr>\n",
       "      <th>0</th>\n",
       "      <td>False</td>\n",
       "      <td>True</td>\n",
       "      <td>False</td>\n",
       "      <td>True</td>\n",
       "      <td>False</td>\n",
       "      <td>False</td>\n",
       "      <td>True</td>\n",
       "      <td>False</td>\n",
       "      <td>False</td>\n",
       "      <td>False</td>\n",
       "      <td>...</td>\n",
       "      <td>False</td>\n",
       "      <td>False</td>\n",
       "      <td>True</td>\n",
       "      <td>False</td>\n",
       "      <td>False</td>\n",
       "      <td>True</td>\n",
       "      <td>False</td>\n",
       "      <td>False</td>\n",
       "      <td>True</td>\n",
       "      <td>False</td>\n",
       "    </tr>\n",
       "    <tr>\n",
       "      <th>1</th>\n",
       "      <td>True</td>\n",
       "      <td>False</td>\n",
       "      <td>False</td>\n",
       "      <td>True</td>\n",
       "      <td>False</td>\n",
       "      <td>False</td>\n",
       "      <td>False</td>\n",
       "      <td>False</td>\n",
       "      <td>True</td>\n",
       "      <td>True</td>\n",
       "      <td>...</td>\n",
       "      <td>False</td>\n",
       "      <td>False</td>\n",
       "      <td>False</td>\n",
       "      <td>True</td>\n",
       "      <td>False</td>\n",
       "      <td>True</td>\n",
       "      <td>False</td>\n",
       "      <td>False</td>\n",
       "      <td>False</td>\n",
       "      <td>True</td>\n",
       "    </tr>\n",
       "    <tr>\n",
       "      <th>2</th>\n",
       "      <td>False</td>\n",
       "      <td>False</td>\n",
       "      <td>True</td>\n",
       "      <td>False</td>\n",
       "      <td>False</td>\n",
       "      <td>True</td>\n",
       "      <td>False</td>\n",
       "      <td>False</td>\n",
       "      <td>True</td>\n",
       "      <td>True</td>\n",
       "      <td>...</td>\n",
       "      <td>False</td>\n",
       "      <td>False</td>\n",
       "      <td>False</td>\n",
       "      <td>True</td>\n",
       "      <td>False</td>\n",
       "      <td>False</td>\n",
       "      <td>True</td>\n",
       "      <td>True</td>\n",
       "      <td>False</td>\n",
       "      <td>False</td>\n",
       "    </tr>\n",
       "    <tr>\n",
       "      <th>3</th>\n",
       "      <td>True</td>\n",
       "      <td>False</td>\n",
       "      <td>False</td>\n",
       "      <td>False</td>\n",
       "      <td>False</td>\n",
       "      <td>True</td>\n",
       "      <td>False</td>\n",
       "      <td>True</td>\n",
       "      <td>False</td>\n",
       "      <td>True</td>\n",
       "      <td>...</td>\n",
       "      <td>True</td>\n",
       "      <td>True</td>\n",
       "      <td>False</td>\n",
       "      <td>False</td>\n",
       "      <td>True</td>\n",
       "      <td>False</td>\n",
       "      <td>False</td>\n",
       "      <td>True</td>\n",
       "      <td>False</td>\n",
       "      <td>False</td>\n",
       "    </tr>\n",
       "    <tr>\n",
       "      <th>4</th>\n",
       "      <td>False</td>\n",
       "      <td>True</td>\n",
       "      <td>False</td>\n",
       "      <td>False</td>\n",
       "      <td>False</td>\n",
       "      <td>True</td>\n",
       "      <td>True</td>\n",
       "      <td>False</td>\n",
       "      <td>False</td>\n",
       "      <td>False</td>\n",
       "      <td>...</td>\n",
       "      <td>True</td>\n",
       "      <td>False</td>\n",
       "      <td>True</td>\n",
       "      <td>False</td>\n",
       "      <td>False</td>\n",
       "      <td>True</td>\n",
       "      <td>False</td>\n",
       "      <td>False</td>\n",
       "      <td>False</td>\n",
       "      <td>True</td>\n",
       "    </tr>\n",
       "  </tbody>\n",
       "</table>\n",
       "<p>5 rows × 24 columns</p>\n",
       "</div>"
      ],
      "text/plain": [
       "   Life_expectancy_category_High  Life_expectancy_category_Low  \\\n",
       "0                          False                          True   \n",
       "1                           True                         False   \n",
       "2                          False                         False   \n",
       "3                           True                         False   \n",
       "4                          False                          True   \n",
       "\n",
       "   Life_expectancy_category_Medium  Out_of_pocket_category_High  \\\n",
       "0                            False                         True   \n",
       "1                            False                         True   \n",
       "2                             True                        False   \n",
       "3                            False                        False   \n",
       "4                            False                        False   \n",
       "\n",
       "   Out_of_pocket_category_Low  Out_of_pocket_category_Medium  \\\n",
       "0                       False                          False   \n",
       "1                       False                          False   \n",
       "2                       False                           True   \n",
       "3                       False                           True   \n",
       "4                       False                           True   \n",
       "\n",
       "   Physicians_category_Few  Physicians_category_Many  \\\n",
       "0                     True                     False   \n",
       "1                    False                     False   \n",
       "2                    False                     False   \n",
       "3                    False                      True   \n",
       "4                     True                     False   \n",
       "\n",
       "   Physicians_category_Moderate  Caloric_ingestion_category_High  ...  \\\n",
       "0                         False                            False  ...   \n",
       "1                          True                             True  ...   \n",
       "2                          True                             True  ...   \n",
       "3                         False                             True  ...   \n",
       "4                         False                            False  ...   \n",
       "\n",
       "   Unemployment_category_Medium  GDP_per_capita_category_High  \\\n",
       "0                         False                         False   \n",
       "1                         False                         False   \n",
       "2                         False                         False   \n",
       "3                          True                          True   \n",
       "4                          True                         False   \n",
       "\n",
       "   GDP_per_capita_category_Low  GDP_per_capita_category_Medium  \\\n",
       "0                         True                           False   \n",
       "1                        False                            True   \n",
       "2                        False                            True   \n",
       "3                        False                           False   \n",
       "4                         True                           False   \n",
       "\n",
       "   CO2_emissions_per_capita_category_High  \\\n",
       "0                                   False   \n",
       "1                                   False   \n",
       "2                                   False   \n",
       "3                                    True   \n",
       "4                                   False   \n",
       "\n",
       "   CO2_emissions_per_capita_category_Low  \\\n",
       "0                                   True   \n",
       "1                                   True   \n",
       "2                                  False   \n",
       "3                                  False   \n",
       "4                                   True   \n",
       "\n",
       "   CO2_emissions_per_capita_category_Medium  \\\n",
       "0                                     False   \n",
       "1                                     False   \n",
       "2                                      True   \n",
       "3                                     False   \n",
       "4                                     False   \n",
       "\n",
       "   Urban_population_percentage_category_High  \\\n",
       "0                                      False   \n",
       "1                                      False   \n",
       "2                                       True   \n",
       "3                                       True   \n",
       "4                                      False   \n",
       "\n",
       "   Urban_population_percentage_category_Low  \\\n",
       "0                                      True   \n",
       "1                                     False   \n",
       "2                                     False   \n",
       "3                                     False   \n",
       "4                                     False   \n",
       "\n",
       "   Urban_population_percentage_category_Medium  \n",
       "0                                        False  \n",
       "1                                         True  \n",
       "2                                        False  \n",
       "3                                        False  \n",
       "4                                         True  \n",
       "\n",
       "[5 rows x 24 columns]"
      ]
     },
     "execution_count": 26,
     "metadata": {},
     "output_type": "execute_result"
    }
   ],
   "source": [
    "# Convert to pandas DataFrame\n",
    "df_encoded = data_encoded.to_pandas()\n",
    "\n",
    "# Convert to boolean\n",
    "df_encoded = df_encoded.astype(bool)\n",
    "\n",
    "df_encoded.head()"
   ]
  },
  {
   "cell_type": "markdown",
   "metadata": {},
   "source": [
    "Now, we are ready to apply the Apriori algorithm to find association rules between the selected variables and life expectancy. We will set the minimum support to 0.1, which means that an itemset must appear in at least 10% of the transactions to be considered frequent. In our case, we have 188 countries in the dataset, so an itemset must appear in at least 19 countries to be considered frequent. We think this is a reasonable threshold to find meaningful associations."
   ]
  },
  {
   "cell_type": "code",
   "execution_count": null,
   "metadata": {},
   "outputs": [],
   "source": [
    "# Apply Apriori algorithm with a minimum support of 0.1\n",
    "frequent_itemsets = apriori(df_encoded, min_support=0.1, use_colnames=True)"
   ]
  },
  {
   "cell_type": "markdown",
   "metadata": {},
   "source": [
    "We will try to find the association rules as confidently as possible. We will start with a minimum confidence threshold of 0.8, which means that the rule must be correct at least 80% of the time, but we will adjust this value based on the results obtained. Note that we are looking for rules that contain life expectancy as the consequent, since our experiment is focused on understanding the factors that influence life expectancy, so we will filter the rules accordingly.\n",
    "\n",
    "Let's start by counting the number of rules for each life expectancy category (low, medium, high) with a minimum confidence of 0.8."
   ]
  },
  {
   "cell_type": "code",
   "execution_count": 49,
   "metadata": {},
   "outputs": [
    {
     "name": "stdout",
     "output_type": "stream",
     "text": [
      "=== Rule Count by Life Expectancy Category ===\n",
      "Low: 84 rules\n",
      "Medium: 1 rules\n",
      "High: 26 rules\n"
     ]
    }
   ],
   "source": [
    "# Generate association rules with a minimum confidence of 0.8\n",
    "rules_80 = association_rules(frequent_itemsets, metric=\"confidence\", min_threshold=0.8)\n",
    "\n",
    "# Sort rules by confidence\n",
    "rules_80 = rules_80.sort_values(by=\"confidence\", ascending=False)\n",
    "\n",
    "# Show the number of rules for each category\n",
    "print(\"=== Rule Count by Life Expectancy Category ===\")\n",
    "for category in [\n",
    "    \"Life_expectancy_category_Low\",\n",
    "    \"Life_expectancy_category_Medium\",\n",
    "    \"Life_expectancy_category_High\",\n",
    "]:\n",
    "    count = rules_80[rules_80[\"consequents\"].apply(lambda x: category in x)].shape[0]\n",
    "    print(f\"{category.split('_')[-1].capitalize()}: {count} rules\")"
   ]
  },
  {
   "cell_type": "markdown",
   "metadata": {},
   "source": [
    "We obtained 84 rules for the low life expectancy category and 26 rules for the high life expectancy category, but just 1 rule for the medium life expectancy category. This means that we can not currently provide a comprehensive analysis for the medium life expectancy category, so we will see what occurs when we decrease the minimum confidence threshold to 0.7."
   ]
  },
  {
   "cell_type": "code",
   "execution_count": null,
   "metadata": {},
   "outputs": [
    {
     "name": "stdout",
     "output_type": "stream",
     "text": [
      "=== Rule Count by Life Expectancy Category ===\n",
      "Low: 131 rules\n",
      "Medium: 5 rules\n",
      "High: 52 rules\n"
     ]
    }
   ],
   "source": [
    "# Generate association rules with a minimum confidence of 0.7\n",
    "rules_70 = association_rules(frequent_itemsets, metric=\"confidence\", min_threshold=0.7)\n",
    "\n",
    "# Sort rules by confidence\n",
    "rules_70 = rules_70.sort_values(by=\"confidence\", ascending=False)\n",
    "\n",
    "# Show the number of rules for each category\n",
    "print(\"=== Rule Count by Life Expectancy Category ===\")\n",
    "for category in [\n",
    "    \"Life_expectancy_category_Low\",\n",
    "    \"Life_expectancy_category_Medium\",\n",
    "    \"Life_expectancy_category_High\",\n",
    "]:\n",
    "    count = rules_70[rules_70[\"consequents\"].apply(lambda x: category in x)].shape[0]\n",
    "    print(f\"{category.split('_')[-1].capitalize()}: {count} rules\")"
   ]
  },
  {
   "cell_type": "markdown",
   "metadata": {},
   "source": [
    "With a confidence threshold of 0.7, we have obtained 5 rules for the medium life expectancy category. We thnk that would be enough to provide a comprehensive analysis for the medium life expectancy category. On the other hand, we have obtained 131 rules for the low life expectancy category and 52 rules for the high life expectancy category. \n",
    "\n",
    "Now, we should select the most relevant rules for each life expectancy category. We will consider the 3 rules with the highest lift values, as lift measures how much more likely the antecedent and consequent are to co-occur compared to what would be expected if they were statistically independent. High lift values indicate a strong association between the variables."
   ]
  },
  {
   "cell_type": "code",
   "execution_count": 53,
   "metadata": {},
   "outputs": [
    {
     "name": "stdout",
     "output_type": "stream",
     "text": [
      "=== Top 3 Rules by Lift per Category ===\n",
      "\n",
      "Low - Top 3 by Lift:\n",
      "  Antecedents: frozenset({'Physicians_category_Few', 'GDP_per_capita_category_Low', 'Caloric_ingestion_category_Low'}) → Consequents: frozenset({'CO2_emissions_per_capita_category_Low', 'Urban_population_percentage_category_Low', 'Life_expectancy_category_Low'}) | Confidence: 0.78 | Lift: 3.75\n",
      "  Antecedents: frozenset({'Physicians_category_Few', 'Urban_population_percentage_category_Low', 'CO2_emissions_per_capita_category_Low', 'Caloric_ingestion_category_Low'}) → Consequents: frozenset({'GDP_per_capita_category_Low', 'Life_expectancy_category_Low'}) | Confidence: 0.95 | Lift: 3.66\n",
      "  Antecedents: frozenset({'Physicians_category_Few', 'Urban_population_percentage_category_Low', 'Caloric_ingestion_category_Low'}) → Consequents: frozenset({'GDP_per_capita_category_Low', 'Life_expectancy_category_Low'}) | Confidence: 0.95 | Lift: 3.66\n",
      "\n",
      "Medium - Top 3 by Lift:\n",
      "  Antecedents: frozenset({'GDP_per_capita_category_Medium', 'Out_of_pocket_category_Medium'}) → Consequents: frozenset({'Life_expectancy_category_Medium'}) | Confidence: 0.81 | Lift: 2.08\n",
      "  Antecedents: frozenset({'Caloric_ingestion_category_Moderate', 'GDP_per_capita_category_Medium', 'CO2_emissions_per_capita_category_Low'}) → Consequents: frozenset({'Life_expectancy_category_Medium'}) | Confidence: 0.76 | Lift: 1.96\n",
      "  Antecedents: frozenset({'CO2_emissions_per_capita_category_Low', 'Physicians_category_Moderate'}) → Consequents: frozenset({'Life_expectancy_category_Medium'}) | Confidence: 0.74 | Lift: 1.91\n",
      "\n",
      "High - Top 3 by Lift:\n",
      "  Antecedents: frozenset({'Caloric_ingestion_category_High', 'GDP_per_capita_category_High', 'Out_of_pocket_category_Low'}) → Consequents: frozenset({'Physicians_category_Many', 'Life_expectancy_category_High'}) | Confidence: 0.83 | Lift: 4.23\n",
      "  Antecedents: frozenset({'Caloric_ingestion_category_High', 'GDP_per_capita_category_High', 'Out_of_pocket_category_Low'}) → Consequents: frozenset({'Urban_population_percentage_category_High', 'Life_expectancy_category_High'}) | Confidence: 0.79 | Lift: 4.02\n",
      "  Antecedents: frozenset({'Caloric_ingestion_category_High', 'GDP_per_capita_category_High', 'Urban_population_percentage_category_High'}) → Consequents: frozenset({'Physicians_category_Many', 'Life_expectancy_category_High'}) | Confidence: 0.77 | Lift: 3.93\n"
     ]
    }
   ],
   "source": [
    "print(\"=== Top 3 Rules by Lift per Category ===\")\n",
    "for category in [\n",
    "    \"Life_expectancy_category_Low\",\n",
    "    \"Life_expectancy_category_Medium\",\n",
    "    \"Life_expectancy_category_High\",\n",
    "]:\n",
    "    # Filter rules for the category\n",
    "    filtered_rules = rules_70[rules_70[\"consequents\"].apply(lambda x: category in x)]\n",
    "\n",
    "    # Sort the filtered rules by lift and get the top 3\n",
    "    top_3_rules = filtered_rules.sort_values(by=\"lift\", ascending=False).head(3)\n",
    "\n",
    "    # Print category and top 3 rules with their lift\n",
    "    print(f\"\\n{category.split('_')[-1].capitalize()} - Top 3 by Lift:\")\n",
    "    for index, row in top_3_rules.iterrows():\n",
    "        print(\n",
    "            f\"  Antecedents: {row['antecedents']} → Consequents: {row['consequents']} | Confidence: {row['confidence']:.2f} | Lift: {row['lift']:.2f}\"\n",
    "        )"
   ]
  },
  {
   "cell_type": "markdown",
   "metadata": {},
   "source": [
    "The obtained **association rules** reveal clear patterns in the factors influencing **low, medium, and high life expectancy**. By analyzing the top rules in each category, we can identify key socioeconomic and healthcare factors that contribute to life expectancy outcomes.  \n",
    "\n",
    "**Low Life Expectancy Category**  \n",
    "The top rules indicate that **low physician density**, **low GDP per capita**, and **low caloric ingestion** are strongly associated with **low life expectancy**. Specifically, the rule:  \n",
    "\n",
    "- **`{Few Physicians, Low GDP per Capita, Low Caloric Ingestion} → {Low CO2 Emissions, Low Urbanization, Low Life Expectancy}`**  \n",
    "  - *Confidence: 0.78 | Lift: 3.75*  \n",
    "\n",
    "confirms that limited access to healthcare and economic hardship contribute to reduced longevity. The presence of **low urbanization and low CO2 emissions** further supports the idea that these countries are less industrialized, with weaker infrastructure. Additionally, the rule:  \n",
    "\n",
    "- **`{Few Physicians, Low Urbanization, Low CO2 Emissions, Low Caloric Ingestion} → {Low GDP per Capita, Low Life Expectancy}`**  \n",
    "  - *Confidence: 0.95 | Lift: 3.66*  \n",
    "\n",
    "emphasizes that economic underdevelopment and malnutrition are closely tied to life expectancy outcomes.  \n",
    "\n",
    "**Medium Life Expectancy Category**  \n",
    "Countries in this category show **moderate improvements in GDP per capita and caloric ingestion** but still face challenges such as **out-of-pocket healthcare expenses**. The rule:  \n",
    "\n",
    "- **`{Medium GDP per Capita, Medium Out-of-Pocket Healthcare Spending} → {Medium Life Expectancy}`**  \n",
    "  - *Confidence: 0.81 | Lift: 2.08*  \n",
    "\n",
    "suggests that while economic conditions are better than in low-life-expectancy countries, the financial burden of healthcare may limit access to medical services. Similarly, the rule:  \n",
    "\n",
    "- **`{Moderate Caloric Ingestion, Medium GDP per Capita, Low CO2 Emissions} → {Medium Life Expectancy}`**  \n",
    "  - *Confidence: 0.76 | Lift: 1.96*  \n",
    "\n",
    "indicates that although food security is improving, these countries have not yet reached full industrialization.  \n",
    "\n",
    "**High Life Expectancy Category**  \n",
    "The strongest rules in this category highlight the role of **high GDP per capita**, **many physicians per capita**, and **low out-of-pocket healthcare costs** in promoting longevity. The rule:  \n",
    "\n",
    "- **`{High Caloric Ingestion, High GDP per Capita, Low Out-of-Pocket Healthcare Spending} → {Many Physicians, High Life Expectancy}`**  \n",
    "  - *Confidence: 0.83 | Lift: 4.23*  \n",
    "\n",
    "supports the idea that **strong healthcare infrastructure and financial accessibility** contribute to longer lifespans. Additionally, the rule:  \n",
    "\n",
    "- **`{High Caloric Ingestion, High GDP per Capita, Low Out-of-Pocket Healthcare Spending} → {High Urbanization, High Life Expectancy}`**  \n",
    "  - *Confidence: 0.79 | Lift: 4.02*  \n",
    "\n",
    "indicates that urbanized, economically developed nations tend to provide better healthcare access, further reinforcing high life expectancy."
   ]
  },
  {
   "cell_type": "markdown",
   "metadata": {},
   "source": [
    "#### Conclusion\n",
    "\n",
    "The association rules confirm well-established relationships between economic development, healthcare accessibility, and longevity. **Low life expectancy** is linked to **poor healthcare infrastructure, economic hardship, and undernutrition**, whereas **high life expectancy** is driven by **wealth, strong healthcare systems, and urbanization**. **Medium-life-expectancy countries** show transitional characteristics, improving in some aspects but still facing barriers to healthcare access. These findings emphasize the importance of **economic growth, healthcare investment, and nutrition** in improving global life expectancy.  "
   ]
  },
  {
   "cell_type": "markdown",
   "metadata": {},
   "source": [
    "### Q2\n",
    "\n",
    "> We can try to make a clustering of countries (if clustering doesn't give us much information, we should consider one of the other questions we had planned and adapt them to apply an advanced technique)."
   ]
  }
 ],
 "metadata": {
  "kernelspec": {
   "display_name": ".venv",
   "language": "python",
   "name": "python3"
  },
  "language_info": {
   "codemirror_mode": {
    "name": "ipython",
    "version": 3
   },
   "file_extension": ".py",
   "mimetype": "text/x-python",
   "name": "python",
   "nbconvert_exporter": "python",
   "pygments_lexer": "ipython3",
   "version": "3.11.8"
  }
 },
 "nbformat": 4,
 "nbformat_minor": 2
}
