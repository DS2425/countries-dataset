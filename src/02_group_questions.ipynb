{
 "cells": [
  {
   "cell_type": "markdown",
   "metadata": {},
   "source": [
    "# Group Questions\n",
    "\n",
    "> **Things to remember**:\n",
    "> - The questions must be stated, justified, and an additional question is proposed above the minimum of 2 or at least outlined with a study afterward (sometimes these extra questions are not made explicit but are still studied).\n",
    "> - We should make an exploratory data analysis (EDA) for each question.\n",
    "> - We must apply more than one advanced technique (statistical test or data mining algorithm). For example, one advanced technique per question.\n",
    "> - Conclusions must be consistent with the results and understandable, answering the questions of interest raised. Also, we have to interpret the conclusions within the context of the dataset’s domain (e.g., therefore, treatment X is better than Y for treating fever, and the drug guides should be modified to improve the treatment of this type of symptom).\n",
    "> - We should include more than one correct and coherent visualization for the type of information being presented, making proper use of visual elements. For a higher grade, we should make use of advanced visualizations features of the libraries we use."
   ]
  },
  {
   "cell_type": "markdown",
   "metadata": {},
   "source": [
    "### What factors influence a country's life expectancy?\n",
    "\n",
    "> - We can add external data to this analysis, such as climate.\n",
    "> - We can explore correlations between the variables and apply association rules to find patterns."
   ]
  },
  {
   "cell_type": "markdown",
   "metadata": {},
   "source": [
    "### Question 2\n",
    "\n",
    "> We can try to make a clustering of countries (if clustering doesn't give us much information, we should consider one of the other questions we had planned and adapt them to apply an advanced technique)."
   ]
  }
 ],
 "metadata": {
  "language_info": {
   "name": "python"
  }
 },
 "nbformat": 4,
 "nbformat_minor": 2
}
