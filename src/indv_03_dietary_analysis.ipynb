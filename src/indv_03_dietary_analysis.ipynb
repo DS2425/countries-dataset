{
 "cells": [
  {
   "cell_type": "markdown",
   "metadata": {},
   "source": [
    "# Dietary Analysis and Quality of Diets\n",
    "\n",
    "In this notebook we explore the relationship between life quality, economic factors, and diet quality across countries."
   ]
  },
  {
   "cell_type": "markdown",
   "metadata": {},
   "source": [
    "## Research Questions\n",
    "\n",
    "- $RQ_1$ How does diet impact life expectancy?\n",
    "- $RQ_2$ How do economic factors impact the quality of diets in different countries?\n",
    "- $RQ_3$ What are the main dietary patterns across regions and economic levels?\n",
    "    \n",
    "### Motivations\n",
    "\n",
    "- $M_1$ Understand if higher economic prosperity and superior living conditions lead to better diet standards.\n",
    "- $M_2$ Inform policy and health strategies by linking socio-economic development with nutrition.\n",
    "\n",
    "### Hypotheses\n",
    "\n",
    "- $H_1$ Diet has a measurable impact on life expectancy.\n",
    "- $H_{2\\_1}$ Countries with lower GDP and life expectancy will exhibit diets with higher ammounts of cereals and vegetables.\n",
    "- $H_{2\\_1}$ Countries with higher GDP and life expectancy will exhibit diets with higher ammounts of meats and sugars.\n",
    "- $H_3$ There are regional dietary patterns that are consistent across countries with similar economic levels."
   ]
  },
  {
   "cell_type": "markdown",
   "metadata": {},
   "source": [
    "## Import Required Libraries\n",
    "Import the necessary libraries, including pandas, numpy, and any libraries required for regression analysis."
   ]
  },
  {
   "cell_type": "code",
   "execution_count": null,
   "metadata": {},
   "outputs": [],
   "source": [
    "import polars as pl\n",
    "from sklearn.model_selection import train_test_split\n",
    "from sklearn.metrics import mean_squared_error, r2_score\n",
    "import matplotlib.pyplot as plt\n",
    "import seaborn as sns\n",
    "import plotly.express as px\n",
    "import ipywidgets as widgets\n",
    "from ipywidgets import interact\n",
    "from sklearn.preprocessing import PolynomialFeatures\n",
    "from sklearn.model_selection import GridSearchCV\n",
    "from sklearn.pipeline import make_pipeline\n",
    "\n",
    "# Set the style for seaborn\n",
    "sns.set_theme(style=\"whitegrid\")"
   ]
  },
  {
   "cell_type": "markdown",
   "metadata": {},
   "source": [
    "## Data Overview and Preprocessing\n",
    "\n",
    "Load the cleaned dataset (which includes socio-economic and dietary data) and review its overall structure. In previous notebooks, similar steps were taken to process the data.\n",
    "\n",
    "We are going to normalize some data and stratify the countries by GDP per capita."
   ]
  },
  {
   "cell_type": "code",
   "execution_count": null,
   "metadata": {},
   "outputs": [],
   "source": [
    "# Load the processed dataset\n",
    "data: pl.DataFrame = pl.read_csv(\"../data/cleaned/data.csv\", separator=\",\")\n",
    "data = data.with_columns((pl.col(\"GDP\") / pl.col(\"Population\")).alias(\"GDP per capita\"))\n",
    "data.head()"
   ]
  },
  {
   "cell_type": "code",
   "execution_count": null,
   "metadata": {},
   "outputs": [],
   "source": [
    "food_categories = [\n",
    "    \"Daily calorie supply per person from other commodities\",\n",
    "    \"Daily calorie supply per person from sugar\",\n",
    "    \"Daily calorie supply per person from oils and fats\",\n",
    "    \"Daily calorie supply per person from meat\",\n",
    "    \"Daily calorie supply per person from fruits and vegetables\",\n",
    "    \"Daily calorie supply per person from starchy roots\",\n",
    "    \"Daily calorie supply per person from pulses\",\n",
    "    \"Daily calorie supply per person from cereals and grains\",\n",
    "    \"Daily calorie supply per person from alcoholic beverages\",\n",
    "]"
   ]
  },
  {
   "cell_type": "markdown",
   "metadata": {},
   "source": [
    "---"
   ]
  },
  {
   "cell_type": "markdown",
   "metadata": {},
   "source": [
    "# $RQ_1$ How does diet impact life expectancy?"
   ]
  },
  {
   "cell_type": "markdown",
   "metadata": {},
   "source": [
    "## Plan\n",
    "\n",
    "1. **Stratify the Countries by GDP per Capita Based on Quantiles**:\n",
    "   - We will divide the countries into different groups based on their GDP per capita using quantiles. This will help us isolate the effect of economic status on life expectancy and food quality.\n",
    "\n",
    "2. **Analyze the Impact of Food Categories on Life Expectancy Using Regression Techniques**:\n",
    "   - For each group of countries, we will analyze the impact of different food categories on life expectancy. We will use regression techniques to determine the relationship between diet and life expectancy."
   ]
  },
  {
   "cell_type": "code",
   "execution_count": null,
   "metadata": {},
   "outputs": [],
   "source": [
    "# Visualize the distribution of GDP per capita\n",
    "plt.figure(figsize=(10, 6))\n",
    "sns.histplot(data[\"GDP per capita\"], bins=30, kde=True)\n",
    "plt.title(\"Distribution of GDP per Capita\")\n",
    "plt.xlabel(\"GDP per Capita\")\n",
    "plt.ylabel(\"Frequency\")\n",
    "plt.show()\n",
    "\n",
    "# Visualize the distribution of life expectancy\n",
    "plt.figure(figsize=(10, 6))\n",
    "sns.histplot(data[\"Life expectancy\"], bins=30, kde=True)\n",
    "plt.title(\"Distribution of Life expectancy\")\n",
    "plt.xlabel(\"Life expectancy\")\n",
    "plt.ylabel(\"Frequency\")\n",
    "plt.show()"
   ]
  },
  {
   "cell_type": "markdown",
   "metadata": {},
   "source": [
    "From these visualzations, we can see that GDP per capita is not normally distributed. We will use quantiles to stratify the countries into different groups based on this."
   ]
  },
  {
   "cell_type": "code",
   "execution_count": null,
   "metadata": {},
   "outputs": [],
   "source": [
    "num_quantiles = 4\n",
    "\n",
    "quantile_low = data.select(pl.quantile(\"GDP per capita\", 0.25)).item()\n",
    "quantile_mid = data.select(pl.quantile(\"GDP per capita\", 0.5)).item()\n",
    "quantile_high = data.select(pl.quantile(\"GDP per capita\", 0.75)).item()\n",
    "\n",
    "print(f\"Low quantile: {quantile_low}\")\n",
    "print(f\"Mid quantile: {quantile_mid}\")\n",
    "print(f\"High quantile: {quantile_high}\")\n",
    "\n",
    "data = data.with_columns(\n",
    "    pl.when(pl.col(\"GDP per capita\") < quantile_low)\n",
    "    .then(pl.lit(\"Very Low\"))\n",
    "    .when(pl.col(\"GDP per capita\") < quantile_mid)\n",
    "    .then(pl.lit(\"Low\"))\n",
    "    .when(pl.col(\"GDP per capita\") < quantile_high)\n",
    "    .then(pl.lit(\"Mid\"))\n",
    "    .otherwise(pl.lit(\"High\"))\n",
    "    .alias(\"GDP per capita quantile\")\n",
    ")\n",
    "\n",
    "data.head()"
   ]
  },
  {
   "cell_type": "code",
   "execution_count": null,
   "metadata": {},
   "outputs": [],
   "source": [
    "def update_choropleth(col):\n",
    "    fig = px.choropleth(\n",
    "        data.to_pandas(),\n",
    "        locations=\"Country\",\n",
    "        locationmode=\"country names\",\n",
    "        color=col,\n",
    "        hover_name=\"Country\",\n",
    "        color_continuous_scale=\"Viridis\",\n",
    "        projection=\"natural earth\",\n",
    "        title=f\"{col} per country\",\n",
    "    )\n",
    "    fig.update_geos(showcoastlines=True, coastlinecolor=\"Black\")\n",
    "    fig.update_layout(margin={\"r\": 0, \"t\": 50, \"l\": 0, \"b\": 0})\n",
    "    fig.show()\n",
    "\n",
    "\n",
    "# Define the columns you want to allow for selection.\n",
    "columns_options = data.columns\n",
    "\n",
    "interact(\n",
    "    update_choropleth,\n",
    "    col=widgets.Dropdown(options=columns_options, description=\"Select Column:\"),\n",
    ")"
   ]
  },
  {
   "cell_type": "markdown",
   "metadata": {},
   "source": [
    "### Check relationship between GDP per capita, life expectancy, and diet quality"
   ]
  },
  {
   "cell_type": "code",
   "execution_count": null,
   "metadata": {},
   "outputs": [],
   "source": [
    "correlation_df = data.select(\n",
    "    [\n",
    "        \"GDP per capita\",\n",
    "        \"Life expectancy\",\n",
    "        \"Daily total caloric ingestion\",\n",
    "        *food_categories,\n",
    "    ]\n",
    ")\n",
    "\n",
    "correlation_matrix = correlation_df.to_pandas().corr()\n",
    "\n",
    "plt.figure(figsize=(30, 25))\n",
    "\n",
    "sns.heatmap(\n",
    "    data=correlation_matrix, annot=True, fmt=\".2f\", cmap=\"coolwarm\", linewidths=0.5\n",
    ")\n",
    "\n",
    "# Set the title\n",
    "plt.title(label=\"Correlation Matrix of the Dataset\")\n",
    "\n",
    "# Show the plot\n",
    "plt.show()"
   ]
  },
  {
   "cell_type": "markdown",
   "metadata": {},
   "source": [
    "We start to see some indicators in the data that may suggest that diet is not directly related to life expectancy as we had expected, but rather it being influenced by the economic status of the country. We are going to analyze this further by doing the following:\n",
    "- First, we are going to see the difference in correlation in the different stratified groups.\n",
    "- Second, we will try, as there migth be some intricacies in how these variables correlate, to use regression analysis to see if we can predict both life expectancy and GDP per capita based on the diet, we will explain how further in the notebook."
   ]
  },
  {
   "cell_type": "code",
   "execution_count": null,
   "metadata": {},
   "outputs": [],
   "source": [
    "very_low_gdp = data.filter(pl.col(\"GDP per capita quantile\") == \"Very Low\")\n",
    "low_gdp = data.filter(pl.col(\"GDP per capita quantile\") == \"Low\")\n",
    "mid_gdp = data.filter(pl.col(\"GDP per capita quantile\") == \"Mid\")\n",
    "high_gdp = data.filter(pl.col(\"GDP per capita quantile\") == \"High\")\n",
    "\n",
    "# Need 4 subplots\n",
    "fig, axs = plt.subplots(2, 2, figsize=(30, 25))\n",
    "\n",
    "for axes, quantile in zip(\n",
    "    [[0, 0], [0, 1], [1, 0], [1, 1]], [very_low_gdp, low_gdp, mid_gdp, high_gdp]\n",
    "):\n",
    "    correlation_df = quantile.select(\n",
    "        [\n",
    "            \"Life expectancy\",\n",
    "            \"GDP per capita\",\n",
    "            \"Daily total caloric ingestion\",\n",
    "            *food_categories,\n",
    "        ]\n",
    "    )\n",
    "\n",
    "    correlation_matrix = correlation_df.to_pandas().corr(method=\"spearman\")\n",
    "\n",
    "    sns.heatmap(\n",
    "        data=correlation_matrix,\n",
    "        annot=True,\n",
    "        fmt=\".2f\",\n",
    "        cmap=\"coolwarm\",\n",
    "        linewidths=0.5,\n",
    "        ax=axs[*axes],\n",
    "    )\n",
    "    plt.title(f\"{quantile.select('GDP per capita quantile').unique().item()}\")\n",
    "\n",
    "\n",
    "plt.show()"
   ]
  },
  {
   "cell_type": "markdown",
   "metadata": {},
   "source": [
    "So it does indeed seem that for similar GDP the diet does not have a significant impact on anything, as the prior 0.74 correlation between calory intake and life expectancy is now way lower. We can try to figure out visually whether we are in the right or not by plotting the data.\n",
    "\n",
    "First we need to check whether we have enough variation in the data within same groups."
   ]
  },
  {
   "cell_type": "code",
   "execution_count": null,
   "metadata": {},
   "outputs": [],
   "source": [
    "def plot_violin(food_category):\n",
    "    plt.figure(figsize=(12, 8))\n",
    "    sns.boxplot(x=\"GDP per capita quantile\", y=food_category, data=data.to_pandas())\n",
    "    plt.title(f\"Violin Plot of {food_category} by GDP per Capita Quantile\")\n",
    "    plt.xlabel(\"GDP per Capita Quantile\")\n",
    "    plt.ylabel(food_category)\n",
    "    plt.show()\n",
    "\n",
    "\n",
    "# Create an interactive widget to select the food category\n",
    "interact(\n",
    "    plot_violin,\n",
    "    food_category=widgets.Dropdown(\n",
    "        options=[*food_categories, \"Life expectancy\"], description=\"Food Category:\"\n",
    "    ),\n",
    ")"
   ]
  },
  {
   "cell_type": "markdown",
   "metadata": {},
   "source": [
    "It does seem that we have enough variation indeed for all groups, so maybe the correlation is not the best way to analyze this data as there might be some intricacies in how these variables correlate. We will try to use regression analysis to see if we can predict life expectancy within the same group based on the diet, to see if there is a significant impact."
   ]
  },
  {
   "cell_type": "code",
   "execution_count": null,
   "metadata": {},
   "outputs": [],
   "source": [
    "import warnings\n",
    "\n",
    "param_grid = {\n",
    "    \"polynomialfeatures__degree\": [2, 3],\n",
    "    \"ridge__alpha\": [0.1, 1, 10],\n",
    "    \"ridge__solver\": [\"auto\", \"svd\", \"cholesky\", \"lsqr\", \"sparse_cg\", \"sag\", \"saga\"],\n",
    "}\n",
    "poly_regression_results = {}\n",
    "\n",
    "for quantile in [\"Very Low\", \"Low\", \"Mid\", \"High\"]:\n",
    "    warnings.filterwarnings(\"ignore\")\n",
    "\n",
    "    quantile_data = data.filter(pl.col(\"GDP per capita quantile\") == pl.lit(quantile))\n",
    "    X = quantile_data[food_categories].to_pandas()\n",
    "    y = quantile_data[\"Life expectancy\"].to_pandas()\n",
    "\n",
    "    pipeline = make_pipeline(PolynomialFeatures(), Ridge())\n",
    "\n",
    "    grid_search = GridSearchCV(pipeline, param_grid, cv=5, scoring=\"r2\")\n",
    "    X_train, X_test, y_train, y_test = train_test_split(\n",
    "        X, y, test_size=0.3, random_state=42\n",
    "    )\n",
    "    grid_search.fit(X_train, y_train)\n",
    "    best_model = grid_search.best_estimator_\n",
    "    y_pred = best_model.predict(X_test)\n",
    "    mse = mean_squared_error(y_test, y_pred)\n",
    "    r2 = r2_score(y_test, y_pred)\n",
    "\n",
    "    poly_regression_results[f\"Quantile {quantile}\"] = {\n",
    "        \"MSE\": mse,\n",
    "        \"R2\": r2,\n",
    "        \"Best Degree\": grid_search.best_params_[\"polynomialfeatures__degree\"],\n",
    "        \"y_test\": y_test,\n",
    "        \"y_pred\": y_pred,\n",
    "    }\n",
    "\n",
    "for quantile, metrics in poly_regression_results.items():\n",
    "    print(\n",
    "        f\"\\nResults for {quantile}: MSE = {metrics['MSE']:.2f}, R2 = {metrics['R2']:.2f}, Best Degree = {metrics['Best Degree']}\"\n",
    "    )\n",
    "\n",
    "plt.figure(figsize=(12, 8))\n",
    "\n",
    "colors = {\"Very Low\": \"blue\", \"Low\": \"green\", \"Mid\": \"orange\", \"High\": \"red\"}\n",
    "\n",
    "for quantile in [\"Very Low\", \"Low\", \"Mid\", \"High\"]:\n",
    "    y_test = poly_regression_results[f\"Quantile {quantile}\"][\"y_test\"]\n",
    "    y_pred = poly_regression_results[f\"Quantile {quantile}\"][\"y_pred\"]\n",
    "    plt.scatter(\n",
    "        y_test,\n",
    "        y_pred,\n",
    "        color=colors[quantile],\n",
    "        label=f\"{quantile} GDP per Capita Quantile\",\n",
    "    )\n",
    "\n",
    "plt.title(\"Polynomial Regression for GDP per Capita Quantiles\")\n",
    "plt.xlabel(\"Actual Life Expectancy\")\n",
    "plt.ylabel(\"Predicted Life Expectancy\")\n",
    "plt.xlim(40, 100)\n",
    "plt.ylim(40, 100)\n",
    "plt.legend()\n",
    "plt.show()"
   ]
  },
  {
   "cell_type": "markdown",
   "metadata": {},
   "source": [
    "## Conclusion\n",
    "\n",
    "As we can see we could not obtain a significant model for any of the groups (negative r² values mean that a straight line fits the data best than the model) even with advanced regression techniques and a thorough grid search for hyperparameters, so it seems that overall factors of the diet does not have a significant impact on the life expectancy of a population. Now this is not to say that diet does not have an impact on life expectancy, but rather that the overall factors of a society or cultural diets, such as mediterranean, assian, etc. don't seem to directly correlate with life expectancy. So what can we extract from this then?\n",
    "- We are not able to prove or disprove that there are superior diets that lead to longer life expectancy based solely on per country data.\n",
    "- We can see that there is a significant correlation between GDP per capita and life expectancy, which was a side effect of the data we had, but it is not the main focus of this notebook.\n",
    "- We see an overall increment of calory intake with GDP per capita, which is expected as richer countries tend to have more access to food, but further details on this relationship are to be explored in the next $RQ$\n",
    "\n",
    "Unfortunately, as we could not find any particular relationship between diet and life expectancy, we are not able to provide further insights on which balance of food is the best for a longer life expectancy."
   ]
  },
  {
   "cell_type": "markdown",
   "metadata": {},
   "source": [
    "---"
   ]
  },
  {
   "cell_type": "markdown",
   "metadata": {},
   "source": [
    "# $RQ_2$ How do economic factors impact the quality of diets in different countries?"
   ]
  },
  {
   "cell_type": "markdown",
   "metadata": {},
   "source": [
    "---"
   ]
  },
  {
   "cell_type": "markdown",
   "metadata": {},
   "source": [
    "# $RQ_3$ What are the main dietary patterns across regions and economic levels?"
   ]
  },
  {
   "cell_type": "markdown",
   "metadata": {},
   "source": []
  }
 ],
 "metadata": {
  "kernelspec": {
   "display_name": ".venv",
   "language": "python",
   "name": "python3"
  },
  "language_info": {
   "codemirror_mode": {
    "name": "ipython",
    "version": 3
   },
   "file_extension": ".py",
   "mimetype": "text/x-python",
   "name": "python",
   "nbconvert_exporter": "python",
   "pygments_lexer": "ipython3",
   "version": "3.11.11"
  }
 },
 "nbformat": 4,
 "nbformat_minor": 2
}
