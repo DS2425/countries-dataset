{
 "cells": [
  {
   "cell_type": "markdown",
   "metadata": {},
   "source": [
    "# Data Processing\n",
    "\n",
    "In this notebook the following tasks will be done:\n",
    "- Exploratory analisis\n",
    "- Question statement\n",
    "- Data processing based on exploratory analisis and target questions "
   ]
  },
  {
   "cell_type": "code",
   "execution_count": 51,
   "metadata": {},
   "outputs": [],
   "source": [
    "import polars as pl\n",
    "import numpy as np"
   ]
  },
  {
   "cell_type": "code",
   "execution_count": 52,
   "metadata": {},
   "outputs": [
    {
     "data": {
      "text/html": [
       "<div><style>\n",
       ".dataframe > thead > tr,\n",
       ".dataframe > tbody > tr {\n",
       "  text-align: right;\n",
       "  white-space: pre-wrap;\n",
       "}\n",
       "</style>\n",
       "<small>shape: (10, 35)</small><table border=\"1\" class=\"dataframe\"><thead><tr><th>Country</th><th>Density\n",
       "(P/Km2)</th><th>Abbreviation</th><th>Agricultural Land( %)</th><th>Land Area(Km2)</th><th>Armed Forces size</th><th>Birth Rate</th><th>Calling Code</th><th>Capital/Major City</th><th>Co2-Emissions</th><th>CPI</th><th>CPI Change (%)</th><th>Currency-Code</th><th>Fertility Rate</th><th>Forested Area (%)</th><th>Gasoline Price</th><th>GDP</th><th>Gross primary education enrollment (%)</th><th>Gross tertiary education enrollment (%)</th><th>Infant mortality</th><th>Largest city</th><th>Life expectancy</th><th>Maternal mortality ratio</th><th>Minimum wage</th><th>Official language</th><th>Out of pocket health expenditure</th><th>Physicians per thousand</th><th>Population</th><th>Population: Labor force participation (%)</th><th>Tax revenue (%)</th><th>Total tax rate</th><th>Unemployment rate</th><th>Urban_population</th><th>Latitude</th><th>Longitude</th></tr><tr><td>str</td><td>str</td><td>str</td><td>str</td><td>str</td><td>str</td><td>f64</td><td>i64</td><td>str</td><td>str</td><td>f64</td><td>str</td><td>str</td><td>f64</td><td>str</td><td>str</td><td>str</td><td>str</td><td>str</td><td>f64</td><td>str</td><td>f64</td><td>i64</td><td>str</td><td>str</td><td>str</td><td>f64</td><td>str</td><td>str</td><td>str</td><td>str</td><td>str</td><td>str</td><td>f64</td><td>f64</td></tr></thead><tbody><tr><td>&quot;Afghanistan&quot;</td><td>&quot;60&quot;</td><td>&quot;AF&quot;</td><td>&quot;58.10%&quot;</td><td>&quot;652,230&quot;</td><td>&quot;323,000&quot;</td><td>32.49</td><td>93</td><td>&quot;Kabul&quot;</td><td>&quot;8,672&quot;</td><td>149.9</td><td>&quot;2.30%&quot;</td><td>&quot;AFN&quot;</td><td>4.47</td><td>&quot;2.10%&quot;</td><td>&quot;$0.70 &quot;</td><td>&quot;$19,101,353,833 &quot;</td><td>&quot;104.00%&quot;</td><td>&quot;9.70%&quot;</td><td>47.9</td><td>&quot;Kabul&quot;</td><td>64.5</td><td>638</td><td>&quot;$0.43 &quot;</td><td>&quot;Pashto&quot;</td><td>&quot;78.40%&quot;</td><td>0.28</td><td>&quot;38,041,754&quot;</td><td>&quot;48.90%&quot;</td><td>&quot;9.30%&quot;</td><td>&quot;71.40%&quot;</td><td>&quot;11.12%&quot;</td><td>&quot;9,797,273&quot;</td><td>33.93911</td><td>67.709953</td></tr><tr><td>&quot;Albania&quot;</td><td>&quot;105&quot;</td><td>&quot;AL&quot;</td><td>&quot;43.10%&quot;</td><td>&quot;28,748&quot;</td><td>&quot;9,000&quot;</td><td>11.78</td><td>355</td><td>&quot;Tirana&quot;</td><td>&quot;4,536&quot;</td><td>119.05</td><td>&quot;1.40%&quot;</td><td>&quot;ALL&quot;</td><td>1.62</td><td>&quot;28.10%&quot;</td><td>&quot;$1.36 &quot;</td><td>&quot;$15,278,077,447 &quot;</td><td>&quot;107.00%&quot;</td><td>&quot;55.00%&quot;</td><td>7.8</td><td>&quot;Tirana&quot;</td><td>78.5</td><td>15</td><td>&quot;$1.12 &quot;</td><td>&quot;Albanian&quot;</td><td>&quot;56.90%&quot;</td><td>1.2</td><td>&quot;2,854,191&quot;</td><td>&quot;55.70%&quot;</td><td>&quot;18.60%&quot;</td><td>&quot;36.60%&quot;</td><td>&quot;12.33%&quot;</td><td>&quot;1,747,593&quot;</td><td>41.153332</td><td>20.168331</td></tr><tr><td>&quot;Algeria&quot;</td><td>&quot;18&quot;</td><td>&quot;DZ&quot;</td><td>&quot;17.40%&quot;</td><td>&quot;2,381,741&quot;</td><td>&quot;317,000&quot;</td><td>24.28</td><td>213</td><td>&quot;Algiers&quot;</td><td>&quot;150,006&quot;</td><td>151.36</td><td>&quot;2.00%&quot;</td><td>&quot;DZD&quot;</td><td>3.02</td><td>&quot;0.80%&quot;</td><td>&quot;$0.28 &quot;</td><td>&quot;$169,988,236,398 &quot;</td><td>&quot;109.90%&quot;</td><td>&quot;51.40%&quot;</td><td>20.1</td><td>&quot;Algiers&quot;</td><td>76.7</td><td>112</td><td>&quot;$0.95 &quot;</td><td>&quot;Arabic&quot;</td><td>&quot;28.10%&quot;</td><td>1.72</td><td>&quot;43,053,054&quot;</td><td>&quot;41.20%&quot;</td><td>&quot;37.20%&quot;</td><td>&quot;66.10%&quot;</td><td>&quot;11.70%&quot;</td><td>&quot;31,510,100&quot;</td><td>28.033886</td><td>1.659626</td></tr><tr><td>&quot;Andorra&quot;</td><td>&quot;164&quot;</td><td>&quot;AD&quot;</td><td>&quot;40.00%&quot;</td><td>&quot;468&quot;</td><td>null</td><td>7.2</td><td>376</td><td>&quot;Andorra la Vella&quot;</td><td>&quot;469&quot;</td><td>null</td><td>null</td><td>&quot;EUR&quot;</td><td>1.27</td><td>&quot;34.00%&quot;</td><td>&quot;$1.51 &quot;</td><td>&quot;$3,154,057,987 &quot;</td><td>&quot;106.40%&quot;</td><td>null</td><td>2.7</td><td>&quot;Andorra la Vella&quot;</td><td>null</td><td>null</td><td>&quot;$6.63 &quot;</td><td>&quot;Catalan&quot;</td><td>&quot;36.40%&quot;</td><td>3.33</td><td>&quot;77,142&quot;</td><td>null</td><td>null</td><td>null</td><td>null</td><td>&quot;67,873&quot;</td><td>42.506285</td><td>1.521801</td></tr><tr><td>&quot;Angola&quot;</td><td>&quot;26&quot;</td><td>&quot;AO&quot;</td><td>&quot;47.50%&quot;</td><td>&quot;1,246,700&quot;</td><td>&quot;117,000&quot;</td><td>40.73</td><td>244</td><td>&quot;Luanda&quot;</td><td>&quot;34,693&quot;</td><td>261.73</td><td>&quot;17.10%&quot;</td><td>&quot;AOA&quot;</td><td>5.52</td><td>&quot;46.30%&quot;</td><td>&quot;$0.97 &quot;</td><td>&quot;$94,635,415,870 &quot;</td><td>&quot;113.50%&quot;</td><td>&quot;9.30%&quot;</td><td>51.6</td><td>&quot;Luanda&quot;</td><td>60.8</td><td>241</td><td>&quot;$0.71 &quot;</td><td>&quot;Portuguese&quot;</td><td>&quot;33.40%&quot;</td><td>0.21</td><td>&quot;31,825,295&quot;</td><td>&quot;77.50%&quot;</td><td>&quot;9.20%&quot;</td><td>&quot;49.10%&quot;</td><td>&quot;6.89%&quot;</td><td>&quot;21,061,025&quot;</td><td>-11.202692</td><td>17.873887</td></tr><tr><td>&quot;Antigua and Barbuda&quot;</td><td>&quot;223&quot;</td><td>&quot;AG&quot;</td><td>&quot;20.50%&quot;</td><td>&quot;443&quot;</td><td>&quot;0&quot;</td><td>15.33</td><td>1</td><td>&quot;St. John&#x27;s, Saint John&quot;</td><td>&quot;557&quot;</td><td>113.81</td><td>&quot;1.20%&quot;</td><td>&quot;XCD&quot;</td><td>1.99</td><td>&quot;22.30%&quot;</td><td>&quot;$0.99 &quot;</td><td>&quot;$1,727,759,259 &quot;</td><td>&quot;105.00%&quot;</td><td>&quot;24.80%&quot;</td><td>5.0</td><td>&quot;St. John&#x27;s, Saint John&quot;</td><td>76.9</td><td>42</td><td>&quot;$3.04 &quot;</td><td>&quot;English&quot;</td><td>&quot;24.30%&quot;</td><td>2.76</td><td>&quot;97,118&quot;</td><td>null</td><td>&quot;16.50%&quot;</td><td>&quot;43.00%&quot;</td><td>null</td><td>&quot;23,800&quot;</td><td>17.060816</td><td>-61.796428</td></tr><tr><td>&quot;Argentina&quot;</td><td>&quot;17&quot;</td><td>&quot;AR&quot;</td><td>&quot;54.30%&quot;</td><td>&quot;2,780,400&quot;</td><td>&quot;105,000&quot;</td><td>17.02</td><td>54</td><td>&quot;Buenos Aires&quot;</td><td>&quot;201,348&quot;</td><td>232.75</td><td>&quot;53.50%&quot;</td><td>&quot;ARS&quot;</td><td>2.26</td><td>&quot;9.80%&quot;</td><td>&quot;$1.10 &quot;</td><td>&quot;$449,663,446,954 &quot;</td><td>&quot;109.70%&quot;</td><td>&quot;90.00%&quot;</td><td>8.8</td><td>&quot;Buenos Aires&quot;</td><td>76.5</td><td>39</td><td>&quot;$3.35 &quot;</td><td>&quot;Spanish&quot;</td><td>&quot;17.60%&quot;</td><td>3.96</td><td>&quot;44,938,712&quot;</td><td>&quot;61.30%&quot;</td><td>&quot;10.10%&quot;</td><td>&quot;106.30%&quot;</td><td>&quot;9.79%&quot;</td><td>&quot;41,339,571&quot;</td><td>-38.416097</td><td>-63.616672</td></tr><tr><td>&quot;Armenia&quot;</td><td>&quot;104&quot;</td><td>&quot;AM&quot;</td><td>&quot;58.90%&quot;</td><td>&quot;29,743&quot;</td><td>&quot;49,000&quot;</td><td>13.99</td><td>374</td><td>&quot;Yerevan&quot;</td><td>&quot;5,156&quot;</td><td>129.18</td><td>&quot;1.40%&quot;</td><td>&quot;AMD&quot;</td><td>1.76</td><td>&quot;11.70%&quot;</td><td>&quot;$0.77 &quot;</td><td>&quot;$13,672,802,158 &quot;</td><td>&quot;92.70%&quot;</td><td>&quot;54.60%&quot;</td><td>11.0</td><td>&quot;Yerevan&quot;</td><td>74.9</td><td>26</td><td>&quot;$0.66 &quot;</td><td>&quot;Armenian&quot;</td><td>&quot;81.60%&quot;</td><td>4.4</td><td>&quot;2,957,731&quot;</td><td>&quot;55.60%&quot;</td><td>&quot;20.90%&quot;</td><td>&quot;22.60%&quot;</td><td>&quot;16.99%&quot;</td><td>&quot;1,869,848&quot;</td><td>40.069099</td><td>45.038189</td></tr><tr><td>&quot;Australia&quot;</td><td>&quot;3&quot;</td><td>&quot;AU&quot;</td><td>&quot;48.20%&quot;</td><td>&quot;7,741,220&quot;</td><td>&quot;58,000&quot;</td><td>12.6</td><td>61</td><td>&quot;Canberra&quot;</td><td>&quot;375,908&quot;</td><td>119.8</td><td>&quot;1.60%&quot;</td><td>&quot;AUD&quot;</td><td>1.74</td><td>&quot;16.30%&quot;</td><td>&quot;$0.93 &quot;</td><td>&quot;$1,392,680,589,329 &quot;</td><td>&quot;100.30%&quot;</td><td>&quot;113.10%&quot;</td><td>3.1</td><td>&quot;Sydney&quot;</td><td>82.7</td><td>6</td><td>&quot;$13.59 &quot;</td><td>&quot;None&quot;</td><td>&quot;19.60%&quot;</td><td>3.68</td><td>&quot;25,766,605&quot;</td><td>&quot;65.50%&quot;</td><td>&quot;23.00%&quot;</td><td>&quot;47.40%&quot;</td><td>&quot;5.27%&quot;</td><td>&quot;21,844,756&quot;</td><td>-25.274398</td><td>133.775136</td></tr><tr><td>&quot;Austria&quot;</td><td>&quot;109&quot;</td><td>&quot;AT&quot;</td><td>&quot;32.40%&quot;</td><td>&quot;83,871&quot;</td><td>&quot;21,000&quot;</td><td>9.7</td><td>43</td><td>&quot;Vienna&quot;</td><td>&quot;61,448&quot;</td><td>118.06</td><td>&quot;1.50%&quot;</td><td>&quot;EUR&quot;</td><td>1.47</td><td>&quot;46.90%&quot;</td><td>&quot;$1.20 &quot;</td><td>&quot;$446,314,739,528 &quot;</td><td>&quot;103.10%&quot;</td><td>&quot;85.10%&quot;</td><td>2.9</td><td>&quot;Vienna&quot;</td><td>81.6</td><td>5</td><td>null</td><td>&quot;German&quot;</td><td>&quot;17.90%&quot;</td><td>5.17</td><td>&quot;8,877,067&quot;</td><td>&quot;60.70%&quot;</td><td>&quot;25.40%&quot;</td><td>&quot;51.40%&quot;</td><td>&quot;4.67%&quot;</td><td>&quot;5,194,416&quot;</td><td>47.516231</td><td>14.550072</td></tr></tbody></table></div>"
      ],
      "text/plain": [
       "shape: (10, 35)\n",
       "┌────────────┬─────────┬───────────┬───────────┬───┬───────────┬───────────┬───────────┬───────────┐\n",
       "│ Country    ┆ Density ┆ Abbreviat ┆ Agricultu ┆ … ┆ Unemploym ┆ Urban_pop ┆ Latitude  ┆ Longitude │\n",
       "│ ---        ┆ (P/Km2) ┆ ion       ┆ ral Land( ┆   ┆ ent rate  ┆ ulation   ┆ ---       ┆ ---       │\n",
       "│ str        ┆ ---     ┆ ---       ┆ %)        ┆   ┆ ---       ┆ ---       ┆ f64       ┆ f64       │\n",
       "│            ┆ str     ┆ str       ┆ ---       ┆   ┆ str       ┆ str       ┆           ┆           │\n",
       "│            ┆         ┆           ┆ str       ┆   ┆           ┆           ┆           ┆           │\n",
       "╞════════════╪═════════╪═══════════╪═══════════╪═══╪═══════════╪═══════════╪═══════════╪═══════════╡\n",
       "│ Afghanista ┆ 60      ┆ AF        ┆ 58.10%    ┆ … ┆ 11.12%    ┆ 9,797,273 ┆ 33.93911  ┆ 67.709953 │\n",
       "│ n          ┆         ┆           ┆           ┆   ┆           ┆           ┆           ┆           │\n",
       "│ Albania    ┆ 105     ┆ AL        ┆ 43.10%    ┆ … ┆ 12.33%    ┆ 1,747,593 ┆ 41.153332 ┆ 20.168331 │\n",
       "│ Algeria    ┆ 18      ┆ DZ        ┆ 17.40%    ┆ … ┆ 11.70%    ┆ 31,510,10 ┆ 28.033886 ┆ 1.659626  │\n",
       "│            ┆         ┆           ┆           ┆   ┆           ┆ 0         ┆           ┆           │\n",
       "│ Andorra    ┆ 164     ┆ AD        ┆ 40.00%    ┆ … ┆ null      ┆ 67,873    ┆ 42.506285 ┆ 1.521801  │\n",
       "│ Angola     ┆ 26      ┆ AO        ┆ 47.50%    ┆ … ┆ 6.89%     ┆ 21,061,02 ┆ -11.20269 ┆ 17.873887 │\n",
       "│            ┆         ┆           ┆           ┆   ┆           ┆ 5         ┆ 2         ┆           │\n",
       "│ Antigua    ┆ 223     ┆ AG        ┆ 20.50%    ┆ … ┆ null      ┆ 23,800    ┆ 17.060816 ┆ -61.79642 │\n",
       "│ and        ┆         ┆           ┆           ┆   ┆           ┆           ┆           ┆ 8         │\n",
       "│ Barbuda    ┆         ┆           ┆           ┆   ┆           ┆           ┆           ┆           │\n",
       "│ Argentina  ┆ 17      ┆ AR        ┆ 54.30%    ┆ … ┆ 9.79%     ┆ 41,339,57 ┆ -38.41609 ┆ -63.61667 │\n",
       "│            ┆         ┆           ┆           ┆   ┆           ┆ 1         ┆ 7         ┆ 2         │\n",
       "│ Armenia    ┆ 104     ┆ AM        ┆ 58.90%    ┆ … ┆ 16.99%    ┆ 1,869,848 ┆ 40.069099 ┆ 45.038189 │\n",
       "│ Australia  ┆ 3       ┆ AU        ┆ 48.20%    ┆ … ┆ 5.27%     ┆ 21,844,75 ┆ -25.27439 ┆ 133.77513 │\n",
       "│            ┆         ┆           ┆           ┆   ┆           ┆ 6         ┆ 8         ┆ 6         │\n",
       "│ Austria    ┆ 109     ┆ AT        ┆ 32.40%    ┆ … ┆ 4.67%     ┆ 5,194,416 ┆ 47.516231 ┆ 14.550072 │\n",
       "└────────────┴─────────┴───────────┴───────────┴───┴───────────┴───────────┴───────────┴───────────┘"
      ]
     },
     "execution_count": 52,
     "metadata": {},
     "output_type": "execute_result"
    }
   ],
   "source": [
    "raw_df: pl.DataFrame = pl.read_csv(\n",
    "    \"../data/raw/world-data-2023.csv\", ignore_errors=True\n",
    ")\n",
    "raw_df.head(10)"
   ]
  },
  {
   "cell_type": "code",
   "execution_count": 91,
   "metadata": {},
   "outputs": [
    {
     "data": {
      "text/html": [
       "<div><style>\n",
       ".dataframe > thead > tr,\n",
       ".dataframe > tbody > tr {\n",
       "  text-align: right;\n",
       "  white-space: pre-wrap;\n",
       "}\n",
       "</style>\n",
       "<small>shape: (1, 35)</small><table border=\"1\" class=\"dataframe\"><thead><tr><th>Country</th><th>Density\n",
       "(P/Km2)</th><th>Abbreviation</th><th>Agricultural Land( %)</th><th>Land Area(Km2)</th><th>Armed Forces size</th><th>Birth Rate</th><th>Calling Code</th><th>Capital/Major City</th><th>Co2-Emissions</th><th>CPI</th><th>CPI Change (%)</th><th>Currency-Code</th><th>Fertility Rate</th><th>Forested Area (%)</th><th>Gasoline Price</th><th>GDP</th><th>Gross primary education enrollment (%)</th><th>Gross tertiary education enrollment (%)</th><th>Infant mortality</th><th>Largest city</th><th>Life expectancy</th><th>Maternal mortality ratio</th><th>Minimum wage</th><th>Official language</th><th>Out of pocket health expenditure</th><th>Physicians per thousand</th><th>Population</th><th>Population: Labor force participation (%)</th><th>Tax revenue (%)</th><th>Total tax rate</th><th>Unemployment rate</th><th>Urban_population</th><th>Latitude</th><th>Longitude</th></tr><tr><td>object</td><td>object</td><td>object</td><td>object</td><td>object</td><td>object</td><td>object</td><td>object</td><td>object</td><td>object</td><td>object</td><td>object</td><td>object</td><td>object</td><td>object</td><td>object</td><td>object</td><td>object</td><td>object</td><td>object</td><td>object</td><td>object</td><td>object</td><td>object</td><td>object</td><td>object</td><td>object</td><td>object</td><td>object</td><td>object</td><td>object</td><td>object</td><td>object</td><td>object</td><td>object</td></tr></thead><tbody><tr><td>String</td><td>String</td><td>String</td><td>String</td><td>String</td><td>String</td><td>Float64</td><td>Int64</td><td>String</td><td>String</td><td>Float64</td><td>String</td><td>String</td><td>Float64</td><td>String</td><td>String</td><td>String</td><td>String</td><td>String</td><td>Float64</td><td>String</td><td>Float64</td><td>Int64</td><td>String</td><td>String</td><td>String</td><td>Float64</td><td>String</td><td>String</td><td>String</td><td>String</td><td>String</td><td>String</td><td>Float64</td><td>Float64</td></tr></tbody></table></div>"
      ],
      "text/plain": [
       "shape: (1, 35)\n",
       "┌─────────┬─────────┬────────────┬────────────┬───┬────────────┬────────────┬──────────┬───────────┐\n",
       "│ Country ┆ Density ┆ Abbreviati ┆ Agricultur ┆ … ┆ Unemployme ┆ Urban_popu ┆ Latitude ┆ Longitude │\n",
       "│ ---     ┆ (P/Km2) ┆ on         ┆ al Land(   ┆   ┆ nt rate    ┆ lation     ┆ ---      ┆ ---       │\n",
       "│ object  ┆ ---     ┆ ---        ┆ %)         ┆   ┆ ---        ┆ ---        ┆ object   ┆ object    │\n",
       "│         ┆ object  ┆ object     ┆ ---        ┆   ┆ object     ┆ object     ┆          ┆           │\n",
       "│         ┆         ┆            ┆ object     ┆   ┆            ┆            ┆          ┆           │\n",
       "╞═════════╪═════════╪════════════╪════════════╪═══╪════════════╪════════════╪══════════╪═══════════╡\n",
       "│ String  ┆ String  ┆ String     ┆ String     ┆ … ┆ String     ┆ String     ┆ Float64  ┆ Float64   │\n",
       "└─────────┴─────────┴────────────┴────────────┴───┴────────────┴────────────┴──────────┴───────────┘"
      ]
     },
     "execution_count": 91,
     "metadata": {},
     "output_type": "execute_result"
    }
   ],
   "source": [
    "pl.DataFrame(dict(zip(raw_df.columns, raw_df.dtypes)))"
   ]
  },
  {
   "cell_type": "code",
   "execution_count": null,
   "metadata": {},
   "outputs": [],
   "source": []
  }
 ],
 "metadata": {
  "kernelspec": {
   "display_name": ".venv",
   "language": "python",
   "name": "python3"
  },
  "language_info": {
   "codemirror_mode": {
    "name": "ipython",
    "version": 3
   },
   "file_extension": ".py",
   "mimetype": "text/x-python",
   "name": "python",
   "nbconvert_exporter": "python",
   "pygments_lexer": "ipython3",
   "version": "3.11.11"
  }
 },
 "nbformat": 4,
 "nbformat_minor": 2
}
