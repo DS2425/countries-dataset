{
 "cells": [
  {
   "cell_type": "markdown",
   "metadata": {},
   "source": [
    "# Data Processing\n",
    "\n",
    "In this notebook the following tasks will be done:\n",
    "- Exploratory analisis\n",
    "- Question statement\n",
    "- Data processing based on exploratory analisis and target questions "
   ]
  },
  {
   "cell_type": "code",
   "execution_count": 1,
   "metadata": {},
   "outputs": [],
   "source": [
    "import polars as pl\n",
    "import numpy as np\n",
    "from PyPDF2 import PdfReader"
   ]
  },
  {
   "cell_type": "code",
   "execution_count": 2,
   "metadata": {},
   "outputs": [
    {
     "data": {
      "text/html": [
       "<div><style>\n",
       ".dataframe > thead > tr,\n",
       ".dataframe > tbody > tr {\n",
       "  text-align: right;\n",
       "  white-space: pre-wrap;\n",
       "}\n",
       "</style>\n",
       "<small>shape: (1, 35)</small><table border=\"1\" class=\"dataframe\"><thead><tr><th>Country</th><th>Density(P/Km2)</th><th>Abbreviation</th><th>Agricultural Land(%)</th><th>Land Area(Km2)</th><th>Armed Forces size</th><th>Birth Rate</th><th>Calling Code</th><th>Capital/Major City</th><th>Co2-Emissions</th><th>CPI</th><th>CPI Change (%)</th><th>Currency-Code</th><th>Fertility Rate</th><th>Forested Area (%)</th><th>Gasoline Price</th><th>GDP</th><th>Gross primary education enrollment (%)</th><th>Gross tertiary education enrollment (%)</th><th>Infant mortality</th><th>Largest city</th><th>Life expectancy</th><th>Maternal mortality ratio</th><th>Minimum wage</th><th>Official language</th><th>Out of pocket health expenditure</th><th>Physicians per thousand</th><th>Population</th><th>Population: Labor force participation (%)</th><th>Tax revenue (%)</th><th>Total tax rate</th><th>Unemployment rate</th><th>Urban population</th><th>Latitude</th><th>Longitude</th></tr><tr><td>object</td><td>object</td><td>object</td><td>object</td><td>object</td><td>object</td><td>object</td><td>object</td><td>object</td><td>object</td><td>object</td><td>object</td><td>object</td><td>object</td><td>object</td><td>object</td><td>object</td><td>object</td><td>object</td><td>object</td><td>object</td><td>object</td><td>object</td><td>object</td><td>object</td><td>object</td><td>object</td><td>object</td><td>object</td><td>object</td><td>object</td><td>object</td><td>object</td><td>object</td><td>object</td></tr></thead><tbody><tr><td>String</td><td>String</td><td>String</td><td>String</td><td>String</td><td>String</td><td>Float64</td><td>Int64</td><td>String</td><td>String</td><td>Float64</td><td>String</td><td>String</td><td>Float64</td><td>String</td><td>String</td><td>String</td><td>String</td><td>String</td><td>Float64</td><td>String</td><td>Float64</td><td>Int64</td><td>String</td><td>String</td><td>String</td><td>Float64</td><td>String</td><td>String</td><td>String</td><td>String</td><td>String</td><td>String</td><td>Float64</td><td>Float64</td></tr></tbody></table></div>"
      ],
      "text/plain": [
       "shape: (1, 35)\n",
       "┌─────────┬────────────┬────────────┬───────────┬───┬───────────┬───────────┬──────────┬───────────┐\n",
       "│ Country ┆ Density(P/ ┆ Abbreviati ┆ Agricultu ┆ … ┆ Unemploym ┆ Urban pop ┆ Latitude ┆ Longitude │\n",
       "│ ---     ┆ Km2)       ┆ on         ┆ ral       ┆   ┆ ent rate  ┆ ulation   ┆ ---      ┆ ---       │\n",
       "│ object  ┆ ---        ┆ ---        ┆ Land(%)   ┆   ┆ ---       ┆ ---       ┆ object   ┆ object    │\n",
       "│         ┆ object     ┆ object     ┆ ---       ┆   ┆ object    ┆ object    ┆          ┆           │\n",
       "│         ┆            ┆            ┆ object    ┆   ┆           ┆           ┆          ┆           │\n",
       "╞═════════╪════════════╪════════════╪═══════════╪═══╪═══════════╪═══════════╪══════════╪═══════════╡\n",
       "│ String  ┆ String     ┆ String     ┆ String    ┆ … ┆ String    ┆ String    ┆ Float64  ┆ Float64   │\n",
       "└─────────┴────────────┴────────────┴───────────┴───┴───────────┴───────────┴──────────┴───────────┘"
      ]
     },
     "execution_count": 2,
     "metadata": {},
     "output_type": "execute_result"
    }
   ],
   "source": [
    "raw_df: pl.DataFrame = pl.read_csv(\n",
    "    \"../data/raw/world-data-2023.csv\", ignore_errors=True\n",
    ")\n",
    "\n",
    "# Fix some column names\n",
    "raw_df = raw_df.rename({\"Density\\r\\n(P/Km2)\": \"Density(P/Km2)\"})\n",
    "raw_df = raw_df.rename({\"Agricultural Land( %)\": \"Agricultural Land(%)\"})\n",
    "raw_df = raw_df.rename({\"Urban_population\": \"Urban population\"})\n",
    "\n",
    "# Remove rows that are completely empty\n",
    "raw_df = raw_df.filter(\n",
    "    ~pl.col(\"Country\").is_in([\"Palestinian National Authority\", \"Vatican City\"])\n",
    ")\n",
    "\n",
    "\n",
    "pl.DataFrame(dict(zip(raw_df.columns, raw_df.dtypes)))"
   ]
  },
  {
   "cell_type": "markdown",
   "metadata": {},
   "source": [
    "Visualize the original dataset"
   ]
  },
  {
   "cell_type": "code",
   "execution_count": 3,
   "metadata": {},
   "outputs": [
    {
     "data": {
      "text/html": [
       "<div><style>\n",
       ".dataframe > thead > tr,\n",
       ".dataframe > tbody > tr {\n",
       "  text-align: right;\n",
       "  white-space: pre-wrap;\n",
       "}\n",
       "</style>\n",
       "<small>shape: (5, 35)</small><table border=\"1\" class=\"dataframe\"><thead><tr><th>Country</th><th>Density(P/Km2)</th><th>Abbreviation</th><th>Agricultural Land(%)</th><th>Land Area(Km2)</th><th>Armed Forces size</th><th>Birth Rate</th><th>Calling Code</th><th>Capital/Major City</th><th>Co2-Emissions</th><th>CPI</th><th>CPI Change (%)</th><th>Currency-Code</th><th>Fertility Rate</th><th>Forested Area (%)</th><th>Gasoline Price</th><th>GDP</th><th>Gross primary education enrollment (%)</th><th>Gross tertiary education enrollment (%)</th><th>Infant mortality</th><th>Largest city</th><th>Life expectancy</th><th>Maternal mortality ratio</th><th>Minimum wage</th><th>Official language</th><th>Out of pocket health expenditure</th><th>Physicians per thousand</th><th>Population</th><th>Population: Labor force participation (%)</th><th>Tax revenue (%)</th><th>Total tax rate</th><th>Unemployment rate</th><th>Urban population</th><th>Latitude</th><th>Longitude</th></tr><tr><td>str</td><td>str</td><td>str</td><td>str</td><td>str</td><td>str</td><td>f64</td><td>i64</td><td>str</td><td>str</td><td>f64</td><td>str</td><td>str</td><td>f64</td><td>str</td><td>str</td><td>str</td><td>str</td><td>str</td><td>f64</td><td>str</td><td>f64</td><td>i64</td><td>str</td><td>str</td><td>str</td><td>f64</td><td>str</td><td>str</td><td>str</td><td>str</td><td>str</td><td>str</td><td>f64</td><td>f64</td></tr></thead><tbody><tr><td>&quot;Senegal&quot;</td><td>&quot;87&quot;</td><td>&quot;SN&quot;</td><td>&quot;46.10%&quot;</td><td>&quot;196,722&quot;</td><td>&quot;19,000&quot;</td><td>34.52</td><td>221</td><td>&quot;Dakar&quot;</td><td>&quot;10,902&quot;</td><td>109.25</td><td>&quot;1.80%&quot;</td><td>&quot;XOF&quot;</td><td>4.63</td><td>&quot;42.80%&quot;</td><td>&quot;$1.14 &quot;</td><td>&quot;$23,578,084,052 &quot;</td><td>&quot;81.00%&quot;</td><td>&quot;12.80%&quot;</td><td>31.8</td><td>&quot;Pikine&quot;</td><td>67.7</td><td>315</td><td>&quot;$0.31 &quot;</td><td>&quot;French&quot;</td><td>&quot;44.20%&quot;</td><td>0.07</td><td>&quot;16,296,364&quot;</td><td>&quot;45.70%&quot;</td><td>&quot;16.30%&quot;</td><td>&quot;44.80%&quot;</td><td>&quot;6.60%&quot;</td><td>&quot;7,765,706&quot;</td><td>14.497401</td><td>-14.452362</td></tr><tr><td>&quot;Serbia&quot;</td><td>&quot;100&quot;</td><td>&quot;RS&quot;</td><td>&quot;39.30%&quot;</td><td>&quot;77,474&quot;</td><td>&quot;32,000&quot;</td><td>9.2</td><td>381</td><td>&quot;Belgrade&quot;</td><td>&quot;45,221&quot;</td><td>144.0</td><td>&quot;1.80%&quot;</td><td>&quot;RSD&quot;</td><td>1.49</td><td>&quot;31.10%&quot;</td><td>&quot;$1.16 &quot;</td><td>&quot;$51,409,167,351 &quot;</td><td>&quot;100.30%&quot;</td><td>&quot;67.20%&quot;</td><td>4.8</td><td>&quot;Belgrade&quot;</td><td>75.5</td><td>12</td><td>&quot;$1.57 &quot;</td><td>&quot;Serbian&quot;</td><td>&quot;40.60%&quot;</td><td>3.11</td><td>&quot;6,944,975&quot;</td><td>&quot;54.90%&quot;</td><td>&quot;18.60%&quot;</td><td>&quot;36.60%&quot;</td><td>&quot;12.69%&quot;</td><td>&quot;3,907,243&quot;</td><td>44.016521</td><td>21.005859</td></tr><tr><td>&quot;Seychelles&quot;</td><td>&quot;214&quot;</td><td>&quot;SC&quot;</td><td>&quot;3.40%&quot;</td><td>&quot;455&quot;</td><td>&quot;0&quot;</td><td>17.1</td><td>248</td><td>&quot;Victoria, Seychelles&quot;</td><td>&quot;605&quot;</td><td>129.96</td><td>&quot;1.80%&quot;</td><td>&quot;SCR&quot;</td><td>2.41</td><td>&quot;88.40%&quot;</td><td>null</td><td>&quot;$1,698,843,063 &quot;</td><td>&quot;100.40%&quot;</td><td>&quot;17.10%&quot;</td><td>12.4</td><td>&quot;Victoria, Seychelles&quot;</td><td>72.8</td><td>53</td><td>&quot;$2.00 &quot;</td><td>&quot;French&quot;</td><td>&quot;2.50%&quot;</td><td>0.95</td><td>&quot;97,625&quot;</td><td>null</td><td>&quot;34.10%&quot;</td><td>&quot;30.10%&quot;</td><td>null</td><td>&quot;55,762&quot;</td><td>-4.679574</td><td>55.491977</td></tr><tr><td>&quot;Sierra Leone&quot;</td><td>&quot;111&quot;</td><td>&quot;SL&quot;</td><td>&quot;54.70%&quot;</td><td>&quot;71,740&quot;</td><td>&quot;9,000&quot;</td><td>33.41</td><td>232</td><td>&quot;Freetown&quot;</td><td>&quot;1,093&quot;</td><td>234.16</td><td>&quot;14.80%&quot;</td><td>&quot;SLL&quot;</td><td>4.26</td><td>&quot;43.10%&quot;</td><td>&quot;$1.08 &quot;</td><td>&quot;$3,941,474,311 &quot;</td><td>&quot;112.80%&quot;</td><td>&quot;2.00%&quot;</td><td>78.5</td><td>&quot;Freetown&quot;</td><td>54.3</td><td>1120</td><td>&quot;$0.57 &quot;</td><td>&quot;English&quot;</td><td>&quot;38.20%&quot;</td><td>0.03</td><td>&quot;7,813,215&quot;</td><td>&quot;57.90%&quot;</td><td>&quot;8.60%&quot;</td><td>&quot;30.70%&quot;</td><td>&quot;4.43%&quot;</td><td>&quot;3,319,366&quot;</td><td>8.460555</td><td>-11.779889</td></tr><tr><td>&quot;Singapore&quot;</td><td>&quot;8,358&quot;</td><td>&quot;SG&quot;</td><td>&quot;0.90%&quot;</td><td>&quot;716&quot;</td><td>&quot;81,000&quot;</td><td>8.8</td><td>65</td><td>null</td><td>&quot;37,535&quot;</td><td>114.41</td><td>&quot;0.60%&quot;</td><td>&quot;SGD&quot;</td><td>1.14</td><td>&quot;23.10%&quot;</td><td>&quot;$1.25 &quot;</td><td>&quot;$372,062,527,489 &quot;</td><td>&quot;100.60%&quot;</td><td>&quot;84.80%&quot;</td><td>2.3</td><td>null</td><td>83.1</td><td>8</td><td>null</td><td>&quot;Malay&quot;</td><td>&quot;36.70%&quot;</td><td>2.29</td><td>&quot;5,703,569&quot;</td><td>&quot;70.50%&quot;</td><td>&quot;13.10%&quot;</td><td>&quot;21.00%&quot;</td><td>&quot;4.11%&quot;</td><td>&quot;5,703,569&quot;</td><td>1.352083</td><td>103.819836</td></tr></tbody></table></div>"
      ],
      "text/plain": [
       "shape: (5, 35)\n",
       "┌───────────┬───────────┬───────────┬───────────┬───┬───────────┬───────────┬───────────┬──────────┐\n",
       "│ Country   ┆ Density(P ┆ Abbreviat ┆ Agricultu ┆ … ┆ Unemploym ┆ Urban pop ┆ Latitude  ┆ Longitud │\n",
       "│ ---       ┆ /Km2)     ┆ ion       ┆ ral       ┆   ┆ ent rate  ┆ ulation   ┆ ---       ┆ e        │\n",
       "│ str       ┆ ---       ┆ ---       ┆ Land(%)   ┆   ┆ ---       ┆ ---       ┆ f64       ┆ ---      │\n",
       "│           ┆ str       ┆ str       ┆ ---       ┆   ┆ str       ┆ str       ┆           ┆ f64      │\n",
       "│           ┆           ┆           ┆ str       ┆   ┆           ┆           ┆           ┆          │\n",
       "╞═══════════╪═══════════╪═══════════╪═══════════╪═══╪═══════════╪═══════════╪═══════════╪══════════╡\n",
       "│ Senegal   ┆ 87        ┆ SN        ┆ 46.10%    ┆ … ┆ 6.60%     ┆ 7,765,706 ┆ 14.497401 ┆ -14.4523 │\n",
       "│           ┆           ┆           ┆           ┆   ┆           ┆           ┆           ┆ 62       │\n",
       "│ Serbia    ┆ 100       ┆ RS        ┆ 39.30%    ┆ … ┆ 12.69%    ┆ 3,907,243 ┆ 44.016521 ┆ 21.00585 │\n",
       "│           ┆           ┆           ┆           ┆   ┆           ┆           ┆           ┆ 9        │\n",
       "│ Seychelle ┆ 214       ┆ SC        ┆ 3.40%     ┆ … ┆ null      ┆ 55,762    ┆ -4.679574 ┆ 55.49197 │\n",
       "│ s         ┆           ┆           ┆           ┆   ┆           ┆           ┆           ┆ 7        │\n",
       "│ Sierra    ┆ 111       ┆ SL        ┆ 54.70%    ┆ … ┆ 4.43%     ┆ 3,319,366 ┆ 8.460555  ┆ -11.7798 │\n",
       "│ Leone     ┆           ┆           ┆           ┆   ┆           ┆           ┆           ┆ 89       │\n",
       "│ Singapore ┆ 8,358     ┆ SG        ┆ 0.90%     ┆ … ┆ 4.11%     ┆ 5,703,569 ┆ 1.352083  ┆ 103.8198 │\n",
       "│           ┆           ┆           ┆           ┆   ┆           ┆           ┆           ┆ 36       │\n",
       "└───────────┴───────────┴───────────┴───────────┴───┴───────────┴───────────┴───────────┴──────────┘"
      ]
     },
     "execution_count": 3,
     "metadata": {},
     "output_type": "execute_result"
    }
   ],
   "source": [
    "subset_df = raw_df.slice(150, 5)\n",
    "subset_df"
   ]
  },
  {
   "cell_type": "code",
   "execution_count": 4,
   "metadata": {},
   "outputs": [
    {
     "data": {
      "text/html": [
       "<div><style>\n",
       ".dataframe > thead > tr,\n",
       ".dataframe > tbody > tr {\n",
       "  text-align: right;\n",
       "  white-space: pre-wrap;\n",
       "}\n",
       "</style>\n",
       "<small>shape: (5, 35)</small><table border=\"1\" class=\"dataframe\"><thead><tr><th>Country</th><th>Density(P/Km2)</th><th>Abbreviation</th><th>Agricultural Land(%)</th><th>Land Area(Km2)</th><th>Armed Forces size</th><th>Birth Rate</th><th>Calling Code</th><th>Capital/Major City</th><th>Co2-Emissions</th><th>CPI</th><th>CPI Change (%)</th><th>Currency-Code</th><th>Fertility Rate</th><th>Forested Area (%)</th><th>Gasoline Price</th><th>GDP</th><th>Gross primary education enrollment (%)</th><th>Gross tertiary education enrollment (%)</th><th>Infant mortality</th><th>Largest city</th><th>Life expectancy</th><th>Maternal mortality ratio</th><th>Minimum wage</th><th>Official language</th><th>Out of pocket health expenditure</th><th>Physicians per thousand</th><th>Population</th><th>Population: Labor force participation (%)</th><th>Tax revenue (%)</th><th>Total tax rate</th><th>Unemployment rate</th><th>Urban population</th><th>Latitude</th><th>Longitude</th></tr><tr><td>str</td><td>str</td><td>str</td><td>str</td><td>str</td><td>str</td><td>f64</td><td>i64</td><td>str</td><td>str</td><td>f64</td><td>str</td><td>str</td><td>f64</td><td>str</td><td>str</td><td>str</td><td>str</td><td>str</td><td>f64</td><td>str</td><td>f64</td><td>i64</td><td>str</td><td>str</td><td>str</td><td>f64</td><td>str</td><td>str</td><td>str</td><td>str</td><td>str</td><td>str</td><td>f64</td><td>f64</td></tr></thead><tbody><tr><td>&quot;Israel&quot;</td><td>&quot;400&quot;</td><td>&quot;IL&quot;</td><td>&quot;24.60%&quot;</td><td>&quot;20,770&quot;</td><td>&quot;178,000&quot;</td><td>20.8</td><td>972</td><td>&quot;Jerusalem&quot;</td><td>&quot;65,166&quot;</td><td>108.15</td><td>&quot;0.80%&quot;</td><td>&quot;ILS&quot;</td><td>3.09</td><td>&quot;7.70%&quot;</td><td>&quot;$1.57 &quot;</td><td>&quot;$395,098,666,122 &quot;</td><td>&quot;104.90%&quot;</td><td>&quot;63.40%&quot;</td><td>3.0</td><td>&quot;Jerusalem&quot;</td><td>82.8</td><td>3</td><td>&quot;$7.58 &quot;</td><td>&quot;Hebrew&quot;</td><td>&quot;24.40%&quot;</td><td>4.62</td><td>&quot;9,053,300&quot;</td><td>&quot;64.00%&quot;</td><td>&quot;23.10%&quot;</td><td>&quot;25.30%&quot;</td><td>&quot;3.86%&quot;</td><td>&quot;8,374,393&quot;</td><td>31.046051</td><td>34.851612</td></tr><tr><td>&quot;Italy&quot;</td><td>&quot;206&quot;</td><td>&quot;IT&quot;</td><td>&quot;43.20%&quot;</td><td>&quot;301,340&quot;</td><td>&quot;347,000&quot;</td><td>7.3</td><td>39</td><td>&quot;Rome&quot;</td><td>&quot;320,411&quot;</td><td>110.62</td><td>&quot;0.60%&quot;</td><td>&quot;EUR&quot;</td><td>1.29</td><td>&quot;31.80%&quot;</td><td>&quot;$1.61 &quot;</td><td>&quot;$2,001,244,392,042 &quot;</td><td>&quot;101.90%&quot;</td><td>&quot;61.90%&quot;</td><td>2.6</td><td>&quot;Rome&quot;</td><td>82.9</td><td>2</td><td>null</td><td>&quot;Italian&quot;</td><td>&quot;22.80%&quot;</td><td>3.98</td><td>&quot;60,297,396&quot;</td><td>&quot;49.60%&quot;</td><td>&quot;24.30%&quot;</td><td>&quot;59.10%&quot;</td><td>&quot;9.89%&quot;</td><td>&quot;42,651,966&quot;</td><td>41.87194</td><td>12.56738</td></tr><tr><td>&quot;Jamaica&quot;</td><td>&quot;273&quot;</td><td>&quot;JM&quot;</td><td>&quot;41.00%&quot;</td><td>&quot;10,991&quot;</td><td>&quot;4,000&quot;</td><td>16.1</td><td>1876</td><td>&quot;Kingston, Jamaica&quot;</td><td>&quot;8,225&quot;</td><td>162.47</td><td>&quot;3.90%&quot;</td><td>&quot;JMD&quot;</td><td>1.98</td><td>&quot;30.90%&quot;</td><td>&quot;$1.11 &quot;</td><td>&quot;$16,458,071,068 &quot;</td><td>&quot;91.00%&quot;</td><td>&quot;27.10%&quot;</td><td>12.4</td><td>&quot;Kingston, Jamaica&quot;</td><td>74.4</td><td>80</td><td>&quot;$1.33 &quot;</td><td>&quot;Jamaican English&quot;</td><td>&quot;23.70%&quot;</td><td>1.31</td><td>&quot;2,948,279&quot;</td><td>&quot;66.00%&quot;</td><td>&quot;26.80%&quot;</td><td>&quot;35.10%&quot;</td><td>&quot;8.00%&quot;</td><td>&quot;1,650,594&quot;</td><td>18.109581</td><td>-77.297508</td></tr><tr><td>&quot;Japan&quot;</td><td>&quot;347&quot;</td><td>&quot;JP&quot;</td><td>&quot;12.30%&quot;</td><td>&quot;377,944&quot;</td><td>&quot;261,000&quot;</td><td>7.4</td><td>81</td><td>&quot;Tokyo&quot;</td><td>&quot;1,135,886&quot;</td><td>105.48</td><td>&quot;0.50%&quot;</td><td>null</td><td>1.42</td><td>&quot;68.50%&quot;</td><td>&quot;$1.06 &quot;</td><td>&quot;$5,081,769,542,380 &quot;</td><td>&quot;98.80%&quot;</td><td>&quot;63.20%&quot;</td><td>1.8</td><td>&quot;Tokyo&quot;</td><td>84.2</td><td>5</td><td>&quot;$6.77 &quot;</td><td>&quot;None&quot;</td><td>&quot;13.10%&quot;</td><td>2.41</td><td>&quot;126,226,568&quot;</td><td>&quot;61.70%&quot;</td><td>&quot;11.90%&quot;</td><td>&quot;46.70%&quot;</td><td>&quot;2.29%&quot;</td><td>&quot;115,782,416&quot;</td><td>36.204824</td><td>138.252924</td></tr><tr><td>&quot;Jordan&quot;</td><td>&quot;115&quot;</td><td>&quot;JO&quot;</td><td>&quot;12.00%&quot;</td><td>&quot;89,342&quot;</td><td>&quot;116,000&quot;</td><td>21.98</td><td>962</td><td>&quot;Amman&quot;</td><td>&quot;25,108&quot;</td><td>125.6</td><td>&quot;0.80%&quot;</td><td>&quot;JOD&quot;</td><td>2.76</td><td>&quot;1.10%&quot;</td><td>&quot;$1.10 &quot;</td><td>&quot;$43,743,661,972 &quot;</td><td>&quot;81.50%&quot;</td><td>&quot;34.40%&quot;</td><td>13.9</td><td>&quot;Amman&quot;</td><td>74.4</td><td>46</td><td>&quot;$1.49 &quot;</td><td>&quot;Arabic&quot;</td><td>&quot;25.10%&quot;</td><td>2.32</td><td>&quot;10,101,694&quot;</td><td>&quot;39.30%&quot;</td><td>&quot;15.10%&quot;</td><td>&quot;28.60%&quot;</td><td>&quot;14.72%&quot;</td><td>&quot;9,213,048&quot;</td><td>30.585164</td><td>36.238414</td></tr></tbody></table></div>"
      ],
      "text/plain": [
       "shape: (5, 35)\n",
       "┌─────────┬────────────┬───────────┬───────────┬───┬───────────┬───────────┬───────────┬───────────┐\n",
       "│ Country ┆ Density(P/ ┆ Abbreviat ┆ Agricultu ┆ … ┆ Unemploym ┆ Urban pop ┆ Latitude  ┆ Longitude │\n",
       "│ ---     ┆ Km2)       ┆ ion       ┆ ral       ┆   ┆ ent rate  ┆ ulation   ┆ ---       ┆ ---       │\n",
       "│ str     ┆ ---        ┆ ---       ┆ Land(%)   ┆   ┆ ---       ┆ ---       ┆ f64       ┆ f64       │\n",
       "│         ┆ str        ┆ str       ┆ ---       ┆   ┆ str       ┆ str       ┆           ┆           │\n",
       "│         ┆            ┆           ┆ str       ┆   ┆           ┆           ┆           ┆           │\n",
       "╞═════════╪════════════╪═══════════╪═══════════╪═══╪═══════════╪═══════════╪═══════════╪═══════════╡\n",
       "│ Israel  ┆ 400        ┆ IL        ┆ 24.60%    ┆ … ┆ 3.86%     ┆ 8,374,393 ┆ 31.046051 ┆ 34.851612 │\n",
       "│ Italy   ┆ 206        ┆ IT        ┆ 43.20%    ┆ … ┆ 9.89%     ┆ 42,651,96 ┆ 41.87194  ┆ 12.56738  │\n",
       "│         ┆            ┆           ┆           ┆   ┆           ┆ 6         ┆           ┆           │\n",
       "│ Jamaica ┆ 273        ┆ JM        ┆ 41.00%    ┆ … ┆ 8.00%     ┆ 1,650,594 ┆ 18.109581 ┆ -77.29750 │\n",
       "│         ┆            ┆           ┆           ┆   ┆           ┆           ┆           ┆ 8         │\n",
       "│ Japan   ┆ 347        ┆ JP        ┆ 12.30%    ┆ … ┆ 2.29%     ┆ 115,782,4 ┆ 36.204824 ┆ 138.25292 │\n",
       "│         ┆            ┆           ┆           ┆   ┆           ┆ 16        ┆           ┆ 4         │\n",
       "│ Jordan  ┆ 115        ┆ JO        ┆ 12.00%    ┆ … ┆ 14.72%    ┆ 9,213,048 ┆ 30.585164 ┆ 36.238414 │\n",
       "└─────────┴────────────┴───────────┴───────────┴───┴───────────┴───────────┴───────────┴───────────┘"
      ]
     },
     "execution_count": 4,
     "metadata": {},
     "output_type": "execute_result"
    }
   ],
   "source": [
    "subset_df2 = raw_df.slice(81, 5)\n",
    "subset_df2"
   ]
  },
  {
   "cell_type": "markdown",
   "metadata": {},
   "source": [
    "Firstly, we are going to eliminate the columns that we consider unnecessary, given the notebook exploratory_analysis.ipynb"
   ]
  },
  {
   "cell_type": "code",
   "execution_count": 5,
   "metadata": {},
   "outputs": [],
   "source": [
    "columns_to_drop = [\n",
    "    \"Calling Code\",\n",
    "    \"Capital/Major City\",\n",
    "    \"Largest City\",\n",
    "    \"Official language\",\n",
    "    \"Minimum wage currency\",\n",
    "    \"CPI change\",\n",
    "]\n",
    "columns_to_keep = [col for col in raw_df.columns if col not in columns_to_drop]\n",
    "cleaned_df = raw_df.select(columns_to_keep)"
   ]
  },
  {
   "cell_type": "markdown",
   "metadata": {},
   "source": [
    "Additionally, we must convert the columns to their corresponding type"
   ]
  },
  {
   "cell_type": "code",
   "execution_count": 6,
   "metadata": {},
   "outputs": [
    {
     "data": {
      "text/html": [
       "<div><style>\n",
       ".dataframe > thead > tr,\n",
       ".dataframe > tbody > tr {\n",
       "  text-align: right;\n",
       "  white-space: pre-wrap;\n",
       "}\n",
       "</style>\n",
       "<small>shape: (10, 32)</small><table border=\"1\" class=\"dataframe\"><thead><tr><th>Country</th><th>Density(P/Km2)</th><th>Abbreviation</th><th>Agricultural Land(%)</th><th>Land Area(Km2)</th><th>Armed Forces size</th><th>Birth Rate</th><th>Co2-Emissions</th><th>CPI</th><th>CPI Change (%)</th><th>Currency-Code</th><th>Fertility Rate</th><th>Forested Area (%)</th><th>Gasoline Price</th><th>GDP</th><th>Gross primary education enrollment (%)</th><th>Gross tertiary education enrollment (%)</th><th>Infant mortality</th><th>Largest city</th><th>Life expectancy</th><th>Maternal mortality ratio</th><th>Minimum wage</th><th>Out of pocket health expenditure</th><th>Physicians per thousand</th><th>Population</th><th>Population: Labor force participation (%)</th><th>Tax revenue (%)</th><th>Total tax rate</th><th>Unemployment rate</th><th>Urban population</th><th>Latitude</th><th>Longitude</th></tr><tr><td>str</td><td>i64</td><td>str</td><td>f64</td><td>i64</td><td>i64</td><td>f64</td><td>i64</td><td>f64</td><td>f64</td><td>str</td><td>f64</td><td>f64</td><td>f64</td><td>f64</td><td>f64</td><td>f64</td><td>f64</td><td>str</td><td>f64</td><td>i64</td><td>f64</td><td>f64</td><td>f64</td><td>i64</td><td>f64</td><td>f64</td><td>f64</td><td>f64</td><td>i64</td><td>f64</td><td>f64</td></tr></thead><tbody><tr><td>&quot;Afghanistan&quot;</td><td>60</td><td>&quot;AF&quot;</td><td>58.1</td><td>652230</td><td>323000</td><td>32.49</td><td>8672</td><td>149.9</td><td>2.3</td><td>&quot;AFN&quot;</td><td>4.47</td><td>2.1</td><td>0.7</td><td>1.9101e10</td><td>104.0</td><td>9.7</td><td>47.9</td><td>&quot;Kabul&quot;</td><td>64.5</td><td>638</td><td>0.43</td><td>78.4</td><td>0.28</td><td>38041754</td><td>48.9</td><td>9.3</td><td>71.4</td><td>11.12</td><td>9797273</td><td>33.93911</td><td>67.709953</td></tr><tr><td>&quot;Albania&quot;</td><td>105</td><td>&quot;AL&quot;</td><td>43.1</td><td>28748</td><td>9000</td><td>11.78</td><td>4536</td><td>119.05</td><td>1.4</td><td>&quot;ALL&quot;</td><td>1.62</td><td>28.1</td><td>1.36</td><td>1.5278e10</td><td>107.0</td><td>55.0</td><td>7.8</td><td>&quot;Tirana&quot;</td><td>78.5</td><td>15</td><td>1.12</td><td>56.9</td><td>1.2</td><td>2854191</td><td>55.7</td><td>18.6</td><td>36.6</td><td>12.33</td><td>1747593</td><td>41.153332</td><td>20.168331</td></tr><tr><td>&quot;Algeria&quot;</td><td>18</td><td>&quot;DZ&quot;</td><td>17.4</td><td>2381741</td><td>317000</td><td>24.28</td><td>150006</td><td>151.36</td><td>2.0</td><td>&quot;DZD&quot;</td><td>3.02</td><td>0.8</td><td>0.28</td><td>1.6999e11</td><td>109.9</td><td>51.4</td><td>20.1</td><td>&quot;Algiers&quot;</td><td>76.7</td><td>112</td><td>0.95</td><td>28.1</td><td>1.72</td><td>43053054</td><td>41.2</td><td>37.2</td><td>66.1</td><td>11.7</td><td>31510100</td><td>28.033886</td><td>1.659626</td></tr><tr><td>&quot;Andorra&quot;</td><td>164</td><td>&quot;AD&quot;</td><td>40.0</td><td>468</td><td>null</td><td>7.2</td><td>469</td><td>null</td><td>null</td><td>&quot;EUR&quot;</td><td>1.27</td><td>34.0</td><td>1.51</td><td>3.1541e9</td><td>106.4</td><td>null</td><td>2.7</td><td>&quot;Andorra la Vella&quot;</td><td>null</td><td>null</td><td>6.63</td><td>36.4</td><td>3.33</td><td>77142</td><td>null</td><td>null</td><td>null</td><td>null</td><td>67873</td><td>42.506285</td><td>1.521801</td></tr><tr><td>&quot;Angola&quot;</td><td>26</td><td>&quot;AO&quot;</td><td>47.5</td><td>1246700</td><td>117000</td><td>40.73</td><td>34693</td><td>261.73</td><td>17.1</td><td>&quot;AOA&quot;</td><td>5.52</td><td>46.3</td><td>0.97</td><td>9.4635e10</td><td>113.5</td><td>9.3</td><td>51.6</td><td>&quot;Luanda&quot;</td><td>60.8</td><td>241</td><td>0.71</td><td>33.4</td><td>0.21</td><td>31825295</td><td>77.5</td><td>9.2</td><td>49.1</td><td>6.89</td><td>21061025</td><td>-11.202692</td><td>17.873887</td></tr><tr><td>&quot;Antigua and Barbuda&quot;</td><td>223</td><td>&quot;AG&quot;</td><td>20.5</td><td>443</td><td>0</td><td>15.33</td><td>557</td><td>113.81</td><td>1.2</td><td>&quot;XCD&quot;</td><td>1.99</td><td>22.3</td><td>0.99</td><td>1.7278e9</td><td>105.0</td><td>24.8</td><td>5.0</td><td>&quot;St. John&#x27;s, Saint John&quot;</td><td>76.9</td><td>42</td><td>3.04</td><td>24.3</td><td>2.76</td><td>97118</td><td>null</td><td>16.5</td><td>43.0</td><td>null</td><td>23800</td><td>17.060816</td><td>-61.796428</td></tr><tr><td>&quot;Argentina&quot;</td><td>17</td><td>&quot;AR&quot;</td><td>54.3</td><td>2780400</td><td>105000</td><td>17.02</td><td>201348</td><td>232.75</td><td>53.5</td><td>&quot;ARS&quot;</td><td>2.26</td><td>9.8</td><td>1.1</td><td>4.4966e11</td><td>109.7</td><td>90.0</td><td>8.8</td><td>&quot;Buenos Aires&quot;</td><td>76.5</td><td>39</td><td>3.35</td><td>17.6</td><td>3.96</td><td>44938712</td><td>61.3</td><td>10.1</td><td>106.3</td><td>9.79</td><td>41339571</td><td>-38.416097</td><td>-63.616672</td></tr><tr><td>&quot;Armenia&quot;</td><td>104</td><td>&quot;AM&quot;</td><td>58.9</td><td>29743</td><td>49000</td><td>13.99</td><td>5156</td><td>129.18</td><td>1.4</td><td>&quot;AMD&quot;</td><td>1.76</td><td>11.7</td><td>0.77</td><td>1.3673e10</td><td>92.7</td><td>54.6</td><td>11.0</td><td>&quot;Yerevan&quot;</td><td>74.9</td><td>26</td><td>0.66</td><td>81.6</td><td>4.4</td><td>2957731</td><td>55.6</td><td>20.9</td><td>22.6</td><td>16.99</td><td>1869848</td><td>40.069099</td><td>45.038189</td></tr><tr><td>&quot;Australia&quot;</td><td>3</td><td>&quot;AU&quot;</td><td>48.2</td><td>7741220</td><td>58000</td><td>12.6</td><td>375908</td><td>119.8</td><td>1.6</td><td>&quot;AUD&quot;</td><td>1.74</td><td>16.3</td><td>0.93</td><td>1.3927e12</td><td>100.3</td><td>113.1</td><td>3.1</td><td>&quot;Sydney&quot;</td><td>82.7</td><td>6</td><td>13.59</td><td>19.6</td><td>3.68</td><td>25766605</td><td>65.5</td><td>23.0</td><td>47.4</td><td>5.27</td><td>21844756</td><td>-25.274398</td><td>133.775136</td></tr><tr><td>&quot;Austria&quot;</td><td>109</td><td>&quot;AT&quot;</td><td>32.4</td><td>83871</td><td>21000</td><td>9.7</td><td>61448</td><td>118.06</td><td>1.5</td><td>&quot;EUR&quot;</td><td>1.47</td><td>46.9</td><td>1.2</td><td>4.4631e11</td><td>103.1</td><td>85.1</td><td>2.9</td><td>&quot;Vienna&quot;</td><td>81.6</td><td>5</td><td>null</td><td>17.9</td><td>5.17</td><td>8877067</td><td>60.7</td><td>25.4</td><td>51.4</td><td>4.67</td><td>5194416</td><td>47.516231</td><td>14.550072</td></tr></tbody></table></div>"
      ],
      "text/plain": [
       "shape: (10, 32)\n",
       "┌───────────┬───────────┬───────────┬───────────┬───┬───────────┬───────────┬───────────┬──────────┐\n",
       "│ Country   ┆ Density(P ┆ Abbreviat ┆ Agricultu ┆ … ┆ Unemploym ┆ Urban pop ┆ Latitude  ┆ Longitud │\n",
       "│ ---       ┆ /Km2)     ┆ ion       ┆ ral       ┆   ┆ ent rate  ┆ ulation   ┆ ---       ┆ e        │\n",
       "│ str       ┆ ---       ┆ ---       ┆ Land(%)   ┆   ┆ ---       ┆ ---       ┆ f64       ┆ ---      │\n",
       "│           ┆ i64       ┆ str       ┆ ---       ┆   ┆ f64       ┆ i64       ┆           ┆ f64      │\n",
       "│           ┆           ┆           ┆ f64       ┆   ┆           ┆           ┆           ┆          │\n",
       "╞═══════════╪═══════════╪═══════════╪═══════════╪═══╪═══════════╪═══════════╪═══════════╪══════════╡\n",
       "│ Afghanist ┆ 60        ┆ AF        ┆ 58.1      ┆ … ┆ 11.12     ┆ 9797273   ┆ 33.93911  ┆ 67.70995 │\n",
       "│ an        ┆           ┆           ┆           ┆   ┆           ┆           ┆           ┆ 3        │\n",
       "│ Albania   ┆ 105       ┆ AL        ┆ 43.1      ┆ … ┆ 12.33     ┆ 1747593   ┆ 41.153332 ┆ 20.16833 │\n",
       "│           ┆           ┆           ┆           ┆   ┆           ┆           ┆           ┆ 1        │\n",
       "│ Algeria   ┆ 18        ┆ DZ        ┆ 17.4      ┆ … ┆ 11.7      ┆ 31510100  ┆ 28.033886 ┆ 1.659626 │\n",
       "│ Andorra   ┆ 164       ┆ AD        ┆ 40.0      ┆ … ┆ null      ┆ 67873     ┆ 42.506285 ┆ 1.521801 │\n",
       "│ Angola    ┆ 26        ┆ AO        ┆ 47.5      ┆ … ┆ 6.89      ┆ 21061025  ┆ -11.20269 ┆ 17.87388 │\n",
       "│           ┆           ┆           ┆           ┆   ┆           ┆           ┆ 2         ┆ 7        │\n",
       "│ Antigua   ┆ 223       ┆ AG        ┆ 20.5      ┆ … ┆ null      ┆ 23800     ┆ 17.060816 ┆ -61.7964 │\n",
       "│ and       ┆           ┆           ┆           ┆   ┆           ┆           ┆           ┆ 28       │\n",
       "│ Barbuda   ┆           ┆           ┆           ┆   ┆           ┆           ┆           ┆          │\n",
       "│ Argentina ┆ 17        ┆ AR        ┆ 54.3      ┆ … ┆ 9.79      ┆ 41339571  ┆ -38.41609 ┆ -63.6166 │\n",
       "│           ┆           ┆           ┆           ┆   ┆           ┆           ┆ 7         ┆ 72       │\n",
       "│ Armenia   ┆ 104       ┆ AM        ┆ 58.9      ┆ … ┆ 16.99     ┆ 1869848   ┆ 40.069099 ┆ 45.03818 │\n",
       "│           ┆           ┆           ┆           ┆   ┆           ┆           ┆           ┆ 9        │\n",
       "│ Australia ┆ 3         ┆ AU        ┆ 48.2      ┆ … ┆ 5.27      ┆ 21844756  ┆ -25.27439 ┆ 133.7751 │\n",
       "│           ┆           ┆           ┆           ┆   ┆           ┆           ┆ 8         ┆ 36       │\n",
       "│ Austria   ┆ 109       ┆ AT        ┆ 32.4      ┆ … ┆ 4.67      ┆ 5194416   ┆ 47.516231 ┆ 14.55007 │\n",
       "│           ┆           ┆           ┆           ┆   ┆           ┆           ┆           ┆ 2        │\n",
       "└───────────┴───────────┴───────────┴───────────┴───┴───────────┴───────────┴───────────┴──────────┘"
      ]
     },
     "execution_count": 6,
     "metadata": {},
     "output_type": "execute_result"
    }
   ],
   "source": [
    "# Columns that should be integers\n",
    "int_columns = [\n",
    "    \"Density(P/Km2)\",\n",
    "    \"Land Area(Km2)\",\n",
    "    \"Armed Forces size\",\n",
    "    \"Co2-Emissions\",\n",
    "    \"Population\",\n",
    "    \"Urban population\",\n",
    "]\n",
    "cleaned_df = cleaned_df.with_columns(\n",
    "    [\n",
    "        pl.col(col).str.strip_chars().str.replace_all(\",\", \"\").cast(pl.Int64)\n",
    "        for col in int_columns\n",
    "    ]\n",
    ")\n",
    "\n",
    "# Currency columns that should be floats\n",
    "float_columns_currency = [\"Gasoline Price\", \"GDP\", \"Minimum wage\"]\n",
    "cleaned_df = cleaned_df.with_columns(\n",
    "    [\n",
    "        pl.col(col).str.strip_chars().str.replace_all(r\"[\\$,]\", \"\").cast(pl.Float64)\n",
    "        for col in float_columns_currency\n",
    "    ]\n",
    ")\n",
    "\n",
    "# Percentage columns that should be floats\n",
    "float_columns_percentage = [\n",
    "    \"Agricultural Land(%)\",\n",
    "    \"CPI Change (%)\",\n",
    "    \"Forested Area (%)\",\n",
    "    \"Gross primary education enrollment (%)\",\n",
    "    \"Gross tertiary education enrollment (%)\",\n",
    "    \"Out of pocket health expenditure\",\n",
    "    \"Population: Labor force participation (%)\",\n",
    "    \"Tax revenue (%)\",\n",
    "    \"Total tax rate\",\n",
    "    \"Unemployment rate\",\n",
    "]\n",
    "cleaned_df = cleaned_df.with_columns(\n",
    "    [\n",
    "        pl.col(col).str.strip_chars().str.replace_all(\"%\", \"\").cast(pl.Float64)\n",
    "        for col in float_columns_percentage\n",
    "    ]\n",
    ")\n",
    "\n",
    "cleaned_df.head(10)"
   ]
  },
  {
   "cell_type": "markdown",
   "metadata": {},
   "source": [
    "From this point, we begin to correct and fill the cells of the dataset"
   ]
  },
  {
   "cell_type": "code",
   "execution_count": 7,
   "metadata": {},
   "outputs": [],
   "source": [
    "# Replace the cell with the symbol with its corresponding country\n",
    "cleaned_df = cleaned_df.with_columns(\n",
    "    pl.when(pl.col(\"Country\").str.contains(\"�\"))\n",
    "    .then(pl.lit(\"Sao Tome and Principe\"))\n",
    "    .otherwise(pl.col(\"Country\"))\n",
    "    .alias(\"Country\")\n",
    ")\n",
    "\n",
    "# Get the correct ISO code abbreviations for each country\n",
    "isoCodes = PdfReader(\"../data/raw/CountryCodesISO2.pdf\")\n",
    "text = []\n",
    "for page in isoCodes.pages:\n",
    "    page_text = page.extract_text()\n",
    "    lines = page_text.splitlines()\n",
    "    # Skip any empty lines and the 'Country Codes ISO2' title\n",
    "    filtered_lines = [\n",
    "        line for line in lines if line.strip() and \"Country Codes ISO2\" not in line\n",
    "    ]\n",
    "    text.extend(filtered_lines)\n",
    "\n",
    "country_code = {}\n",
    "for line in text:\n",
    "    parts = line.strip().split(maxsplit=1)\n",
    "    if len(parts) == 2 and len(parts[0]) == 2 and parts[0].isalpha():\n",
    "        code, country = parts\n",
    "        country_code[country.split(\" (\")[0]] = code.upper()\n",
    "\n",
    "\n",
    "def get_country_code(country):\n",
    "    return country_code.get(country)\n",
    "\n",
    "\n",
    "# Create a new corrected column\n",
    "cleaned_df = cleaned_df.with_columns(\n",
    "    pl.when((pl.col(\"Abbreviation\").is_null()) | (pl.col(\"Abbreviation\") == \"\"))\n",
    "    .then(pl.col(\"Country\").map_elements(get_country_code, return_dtype=pl.Utf8))\n",
    "    .otherwise(pl.col(\"Abbreviation\"))\n",
    "    .alias(\"Abbreviation\")\n",
    ")"
   ]
  },
  {
   "cell_type": "markdown",
   "metadata": {},
   "source": [
    "Verify that the changes have been made correctly"
   ]
  },
  {
   "cell_type": "code",
   "execution_count": 8,
   "metadata": {},
   "outputs": [
    {
     "data": {
      "text/plain": [
       "'ST'"
      ]
     },
     "execution_count": 8,
     "metadata": {},
     "output_type": "execute_result"
    }
   ],
   "source": [
    "symbol_country = (\n",
    "    cleaned_df.filter(pl.col(\"Country\") == \"Sao Tome and Principe\")\n",
    "    .select(\"Abbreviation\")\n",
    "    .item()\n",
    ")\n",
    "symbol_country"
   ]
  },
  {
   "cell_type": "code",
   "execution_count": 9,
   "metadata": {},
   "outputs": [
    {
     "data": {
      "text/html": [
       "<div><style>\n",
       ".dataframe > thead > tr,\n",
       ".dataframe > tbody > tr {\n",
       "  text-align: right;\n",
       "  white-space: pre-wrap;\n",
       "}\n",
       "</style>\n",
       "<small>shape: (1, 32)</small><table border=\"1\" class=\"dataframe\"><thead><tr><th>Country</th><th>Density(P/Km2)</th><th>Abbreviation</th><th>Agricultural Land(%)</th><th>Land Area(Km2)</th><th>Armed Forces size</th><th>Birth Rate</th><th>Co2-Emissions</th><th>CPI</th><th>CPI Change (%)</th><th>Currency-Code</th><th>Fertility Rate</th><th>Forested Area (%)</th><th>Gasoline Price</th><th>GDP</th><th>Gross primary education enrollment (%)</th><th>Gross tertiary education enrollment (%)</th><th>Infant mortality</th><th>Largest city</th><th>Life expectancy</th><th>Maternal mortality ratio</th><th>Minimum wage</th><th>Out of pocket health expenditure</th><th>Physicians per thousand</th><th>Population</th><th>Population: Labor force participation (%)</th><th>Tax revenue (%)</th><th>Total tax rate</th><th>Unemployment rate</th><th>Urban population</th><th>Latitude</th><th>Longitude</th></tr><tr><td>str</td><td>i64</td><td>str</td><td>f64</td><td>i64</td><td>i64</td><td>f64</td><td>i64</td><td>f64</td><td>f64</td><td>str</td><td>f64</td><td>f64</td><td>f64</td><td>f64</td><td>f64</td><td>f64</td><td>f64</td><td>str</td><td>f64</td><td>i64</td><td>f64</td><td>f64</td><td>f64</td><td>i64</td><td>f64</td><td>f64</td><td>f64</td><td>f64</td><td>i64</td><td>f64</td><td>f64</td></tr></thead><tbody><tr><td>&quot;Republic of Ireland&quot;</td><td>72</td><td>&quot;IE&quot;</td><td>64.5</td><td>70273</td><td>9000</td><td>12.5</td><td>37711</td><td>106.58</td><td>0.9</td><td>&quot;EUR&quot;</td><td>1.75</td><td>11.0</td><td>1.37</td><td>3.8870e11</td><td>100.9</td><td>77.8</td><td>3.1</td><td>&quot;Connacht&quot;</td><td>82.3</td><td>5</td><td>10.79</td><td>15.2</td><td>3.31</td><td>5007069</td><td>62.1</td><td>18.3</td><td>26.1</td><td>4.93</td><td>3133123</td><td>53.41291</td><td>-8.24389</td></tr></tbody></table></div>"
      ],
      "text/plain": [
       "shape: (1, 32)\n",
       "┌───────────┬───────────┬───────────┬───────────┬───┬───────────┬───────────┬──────────┬───────────┐\n",
       "│ Country   ┆ Density(P ┆ Abbreviat ┆ Agricultu ┆ … ┆ Unemploym ┆ Urban pop ┆ Latitude ┆ Longitude │\n",
       "│ ---       ┆ /Km2)     ┆ ion       ┆ ral       ┆   ┆ ent rate  ┆ ulation   ┆ ---      ┆ ---       │\n",
       "│ str       ┆ ---       ┆ ---       ┆ Land(%)   ┆   ┆ ---       ┆ ---       ┆ f64      ┆ f64       │\n",
       "│           ┆ i64       ┆ str       ┆ ---       ┆   ┆ f64       ┆ i64       ┆          ┆           │\n",
       "│           ┆           ┆           ┆ f64       ┆   ┆           ┆           ┆          ┆           │\n",
       "╞═══════════╪═══════════╪═══════════╪═══════════╪═══╪═══════════╪═══════════╪══════════╪═══════════╡\n",
       "│ Republic  ┆ 72        ┆ IE        ┆ 64.5      ┆ … ┆ 4.93      ┆ 3133123   ┆ 53.41291 ┆ -8.24389  │\n",
       "│ of        ┆           ┆           ┆           ┆   ┆           ┆           ┆          ┆           │\n",
       "│ Ireland   ┆           ┆           ┆           ┆   ┆           ┆           ┆          ┆           │\n",
       "└───────────┴───────────┴───────────┴───────────┴───┴───────────┴───────────┴──────────┴───────────┘"
      ]
     },
     "execution_count": 9,
     "metadata": {},
     "output_type": "execute_result"
    }
   ],
   "source": [
    "country_row = cleaned_df.filter(pl.col(\"Country\") == \"Republic of Ireland\")\n",
    "country_row"
   ]
  },
  {
   "cell_type": "markdown",
   "metadata": {},
   "source": [
    "We're going to update Forest Area (%) by using the information of forest_area_analysis.ipynb:"
   ]
  },
  {
   "cell_type": "code",
   "execution_count": 10,
   "metadata": {},
   "outputs": [
    {
     "data": {
      "text/html": [
       "<div><style>\n",
       ".dataframe > thead > tr,\n",
       ".dataframe > tbody > tr {\n",
       "  text-align: right;\n",
       "  white-space: pre-wrap;\n",
       "}\n",
       "</style>\n",
       "<small>shape: (2, 2)</small><table border=\"1\" class=\"dataframe\"><thead><tr><th>Country</th><th>Forested Area (%)</th></tr><tr><td>str</td><td>f64</td></tr></thead><tbody><tr><td>&quot;South Sudan&quot;</td><td>11.3</td></tr><tr><td>&quot;Spain&quot;</td><td>36.9</td></tr></tbody></table></div>"
      ],
      "text/plain": [
       "shape: (2, 2)\n",
       "┌─────────────┬───────────────────┐\n",
       "│ Country     ┆ Forested Area (%) │\n",
       "│ ---         ┆ ---               │\n",
       "│ str         ┆ f64               │\n",
       "╞═════════════╪═══════════════════╡\n",
       "│ South Sudan ┆ 11.3              │\n",
       "│ Spain       ┆ 36.9              │\n",
       "└─────────────┴───────────────────┘"
      ]
     },
     "execution_count": 10,
     "metadata": {},
     "output_type": "execute_result"
    }
   ],
   "source": [
    "ls_countries = [\n",
    "    \"Eswatini\",\n",
    "    \"North Macedonia\",\n",
    "    \"South Sudan\",\n",
    "    \"Vatican City\",\n",
    "    \"Monaco\",\n",
    "    \"Nauru\",\n",
    "    \"Palestinian National Authority\",\n",
    "]\n",
    "ls_values = [29.1, 39.7, 11.3, 0.0, 0.0, 0.0, 1.7]\n",
    "\n",
    "for i in range(0, len(ls_countries)):\n",
    "    cleaned_df = cleaned_df.with_columns(\n",
    "        pl.when(pl.col(\"Country\") == ls_countries[i])\n",
    "        .then(ls_values[i])\n",
    "        .otherwise(pl.col(\"Forested Area (%)\"))\n",
    "        .alias(\"Forested Area (%)\")\n",
    "    )\n",
    "\n",
    "cleaned_df[161:163].select([\"Country\", \"Forested Area (%)\"])"
   ]
  },
  {
   "cell_type": "markdown",
   "metadata": {},
   "source": [
    "Now, we're going to update Life expectancy column by using Kaggle's Global Life Expectancy dataset: (https://www.kaggle.com/datasets/nafayunnoor/global-life-expectancy-data-1950-2023?select=Preprocessed_Life_Expectancy.csv)"
   ]
  },
  {
   "cell_type": "code",
   "execution_count": 11,
   "metadata": {},
   "outputs": [
    {
     "data": {
      "text/html": [
       "<div><style>\n",
       ".dataframe > thead > tr,\n",
       ".dataframe > tbody > tr {\n",
       "  text-align: right;\n",
       "  white-space: pre-wrap;\n",
       "}\n",
       "</style>\n",
       "<small>shape: (6, 2)</small><table border=\"1\" class=\"dataframe\"><thead><tr><th>Country</th><th>Life expectancy</th></tr><tr><td>str</td><td>f64</td></tr></thead><tbody><tr><td>&quot;Andorra&quot;</td><td>null</td></tr><tr><td>&quot;Eswatini&quot;</td><td>null</td></tr><tr><td>&quot;Monaco&quot;</td><td>null</td></tr><tr><td>&quot;Nauru&quot;</td><td>null</td></tr><tr><td>&quot;North Macedonia&quot;</td><td>null</td></tr><tr><td>&quot;Tuvalu&quot;</td><td>null</td></tr></tbody></table></div>"
      ],
      "text/plain": [
       "shape: (6, 2)\n",
       "┌─────────────────┬─────────────────┐\n",
       "│ Country         ┆ Life expectancy │\n",
       "│ ---             ┆ ---             │\n",
       "│ str             ┆ f64             │\n",
       "╞═════════════════╪═════════════════╡\n",
       "│ Andorra         ┆ null            │\n",
       "│ Eswatini        ┆ null            │\n",
       "│ Monaco          ┆ null            │\n",
       "│ Nauru           ┆ null            │\n",
       "│ North Macedonia ┆ null            │\n",
       "│ Tuvalu          ┆ null            │\n",
       "└─────────────────┴─────────────────┘"
      ]
     },
     "execution_count": 11,
     "metadata": {},
     "output_type": "execute_result"
    }
   ],
   "source": [
    "null_values = cleaned_df.filter(\n",
    "    cleaned_df[\"Life expectancy\"].is_null() | cleaned_df[\"Life expectancy\"].is_nan()\n",
    ")\n",
    "\n",
    "null_values.select([\"Country\", \"Life expectancy\"])"
   ]
  },
  {
   "cell_type": "code",
   "execution_count": 12,
   "metadata": {},
   "outputs": [],
   "source": [
    "ls_countries = [\"Andorra\", \"Eswatini\", \"Monaco\", \"Nauru\", \"North Macedonia\", \"Tuvalu\"]\n",
    "ls_values = [84.04, 64.12, 86.37, 63.10, 77.39, 67.10]\n",
    "\n",
    "for i in range(0, len(ls_countries)):\n",
    "    cleaned_df = cleaned_df.with_columns(\n",
    "        pl.when(pl.col(\"Country\") == ls_countries[i])\n",
    "        .then(ls_values[i])\n",
    "        .otherwise(pl.col(\"Life expectancy\"))\n",
    "        .alias(\"Life expectancy\")\n",
    "    )"
   ]
  },
  {
   "cell_type": "markdown",
   "metadata": {},
   "source": [
    "Filter countries where latitude or longitude is null or empty"
   ]
  },
  {
   "cell_type": "code",
   "execution_count": 13,
   "metadata": {},
   "outputs": [
    {
     "data": {
      "text/html": [
       "<div><style>\n",
       ".dataframe > thead > tr,\n",
       ".dataframe > tbody > tr {\n",
       "  text-align: right;\n",
       "  white-space: pre-wrap;\n",
       "}\n",
       "</style>\n",
       "<small>shape: (1, 3)</small><table border=\"1\" class=\"dataframe\"><thead><tr><th>Country</th><th>Latitude</th><th>Longitude</th></tr><tr><td>str</td><td>f64</td><td>f64</td></tr></thead><tbody><tr><td>&quot;Sao Tome and Principe&quot;</td><td>null</td><td>null</td></tr></tbody></table></div>"
      ],
      "text/plain": [
       "shape: (1, 3)\n",
       "┌───────────────────────┬──────────┬───────────┐\n",
       "│ Country               ┆ Latitude ┆ Longitude │\n",
       "│ ---                   ┆ ---      ┆ ---       │\n",
       "│ str                   ┆ f64      ┆ f64       │\n",
       "╞═══════════════════════╪══════════╪═══════════╡\n",
       "│ Sao Tome and Principe ┆ null     ┆ null      │\n",
       "└───────────────────────┴──────────┴───────────┘"
      ]
     },
     "execution_count": 13,
     "metadata": {},
     "output_type": "execute_result"
    }
   ],
   "source": [
    "null_values = cleaned_df.filter(\n",
    "    cleaned_df[\"Latitude\"].is_null()\n",
    "    | cleaned_df[\"Latitude\"].is_nan()\n",
    "    | cleaned_df[\"Longitude\"].is_null()\n",
    "    | cleaned_df[\"Longitude\"].is_nan()\n",
    ")\n",
    "\n",
    "null_values.select([\"Country\", \"Latitude\", \"Longitude\"])"
   ]
  },
  {
   "cell_type": "markdown",
   "metadata": {},
   "source": [
    "To update this column, we're going to check the values using the following website: https://www.latlong.net/place/s-o-tom-and-pr-ncipe-island-25177.html"
   ]
  },
  {
   "cell_type": "code",
   "execution_count": 14,
   "metadata": {},
   "outputs": [],
   "source": [
    "cleaned_df = cleaned_df.with_columns(\n",
    "    pl.when(pl.col(\"Country\") == \"Sao Tome and Principe\")\n",
    "    .then(0.255436)\n",
    "    .otherwise(pl.col(\"Latitude\"))\n",
    "    .alias(\"Latitude\")\n",
    ")\n",
    "\n",
    "cleaned_df = cleaned_df.with_columns(\n",
    "    pl.when(pl.col(\"Country\") == \"Sao Tome and Principe\")\n",
    "    .then(6.602781)\n",
    "    .otherwise(pl.col(\"Longitude\"))\n",
    "    .alias(\"Longitude\")\n",
    ")"
   ]
  },
  {
   "cell_type": "markdown",
   "metadata": {},
   "source": [
    "Let's fill Co2-Emissions column:"
   ]
  },
  {
   "cell_type": "code",
   "execution_count": 15,
   "metadata": {},
   "outputs": [
    {
     "data": {
      "text/html": [
       "<div><style>\n",
       ".dataframe > thead > tr,\n",
       ".dataframe > tbody > tr {\n",
       "  text-align: right;\n",
       "  white-space: pre-wrap;\n",
       "}\n",
       "</style>\n",
       "<small>shape: (5, 2)</small><table border=\"1\" class=\"dataframe\"><thead><tr><th>Country</th><th>Co2-Emissions</th></tr><tr><td>str</td><td>i64</td></tr></thead><tbody><tr><td>&quot;Eswatini&quot;</td><td>null</td></tr><tr><td>&quot;Monaco&quot;</td><td>null</td></tr><tr><td>&quot;Nauru&quot;</td><td>null</td></tr><tr><td>&quot;North Macedonia&quot;</td><td>null</td></tr><tr><td>&quot;San Marino&quot;</td><td>null</td></tr></tbody></table></div>"
      ],
      "text/plain": [
       "shape: (5, 2)\n",
       "┌─────────────────┬───────────────┐\n",
       "│ Country         ┆ Co2-Emissions │\n",
       "│ ---             ┆ ---           │\n",
       "│ str             ┆ i64           │\n",
       "╞═════════════════╪═══════════════╡\n",
       "│ Eswatini        ┆ null          │\n",
       "│ Monaco          ┆ null          │\n",
       "│ Nauru           ┆ null          │\n",
       "│ North Macedonia ┆ null          │\n",
       "│ San Marino      ┆ null          │\n",
       "└─────────────────┴───────────────┘"
      ]
     },
     "execution_count": 15,
     "metadata": {},
     "output_type": "execute_result"
    }
   ],
   "source": [
    "null_values = cleaned_df.filter(\n",
    "    cleaned_df[\"Co2-Emissions\"].is_null() | cleaned_df[\"Co2-Emissions\"].is_nan()\n",
    ")\n",
    "\n",
    "null_values.select([\"Country\", \"Co2-Emissions\"])"
   ]
  },
  {
   "cell_type": "code",
   "execution_count": null,
   "metadata": {},
   "outputs": [],
   "source": []
  },
  {
   "cell_type": "markdown",
   "metadata": {},
   "source": [
    "Now, we are going to display the number of missing values in each column. "
   ]
  },
  {
   "cell_type": "code",
   "execution_count": 16,
   "metadata": {},
   "outputs": [
    {
     "data": {
      "text/html": [
       "<div><style>\n",
       ".dataframe > thead > tr,\n",
       ".dataframe > tbody > tr {\n",
       "  text-align: right;\n",
       "  white-space: pre-wrap;\n",
       "}\n",
       "</style>\n",
       "<small>shape: (1, 32)</small><table border=\"1\" class=\"dataframe\"><thead><tr><th>Country missing values</th><th>Density(P/Km2) missing values</th><th>Abbreviation missing values</th><th>Agricultural Land(%) missing values</th><th>Land Area(Km2) missing values</th><th>Armed Forces size missing values</th><th>Birth Rate missing values</th><th>Co2-Emissions missing values</th><th>CPI missing values</th><th>CPI Change (%) missing values</th><th>Currency-Code missing values</th><th>Fertility Rate missing values</th><th>Forested Area (%) missing values</th><th>Gasoline Price missing values</th><th>GDP missing values</th><th>Gross primary education enrollment (%) missing values</th><th>Gross tertiary education enrollment (%) missing values</th><th>Infant mortality missing values</th><th>Largest city missing values</th><th>Life expectancy missing values</th><th>Maternal mortality ratio missing values</th><th>Minimum wage missing values</th><th>Out of pocket health expenditure missing values</th><th>Physicians per thousand missing values</th><th>Population missing values</th><th>Population: Labor force participation (%) missing values</th><th>Tax revenue (%) missing values</th><th>Total tax rate missing values</th><th>Unemployment rate missing values</th><th>Urban population missing values</th><th>Latitude missing values</th><th>Longitude missing values</th></tr><tr><td>u32</td><td>u32</td><td>u32</td><td>u32</td><td>u32</td><td>u32</td><td>u32</td><td>u32</td><td>u32</td><td>u32</td><td>u32</td><td>u32</td><td>u32</td><td>u32</td><td>u32</td><td>u32</td><td>u32</td><td>u32</td><td>u32</td><td>u32</td><td>u32</td><td>u32</td><td>u32</td><td>u32</td><td>u32</td><td>u32</td><td>u32</td><td>u32</td><td>u32</td><td>u32</td><td>u32</td><td>u32</td></tr></thead><tbody><tr><td>0</td><td>0</td><td>0</td><td>5</td><td>0</td><td>22</td><td>4</td><td>5</td><td>18</td><td>14</td><td>14</td><td>5</td><td>0</td><td>18</td><td>0</td><td>5</td><td>10</td><td>4</td><td>4</td><td>0</td><td>12</td><td>43</td><td>5</td><td>5</td><td>0</td><td>17</td><td>24</td><td>10</td><td>17</td><td>3</td><td>0</td><td>0</td></tr></tbody></table></div>"
      ],
      "text/plain": [
       "shape: (1, 32)\n",
       "┌───────────┬───────────┬───────────┬───────────┬───┬───────────┬───────────┬───────────┬──────────┐\n",
       "│ Country   ┆ Density(P ┆ Abbreviat ┆ Agricultu ┆ … ┆ Unemploym ┆ Urban pop ┆ Latitude  ┆ Longitud │\n",
       "│ missing   ┆ /Km2)     ┆ ion       ┆ ral       ┆   ┆ ent rate  ┆ ulation   ┆ missing   ┆ e        │\n",
       "│ values    ┆ missing   ┆ missing   ┆ Land(%)   ┆   ┆ missing   ┆ missing   ┆ values    ┆ missing  │\n",
       "│ ---       ┆ values    ┆ values    ┆ missing   ┆   ┆ valu…     ┆ value…    ┆ ---       ┆ values   │\n",
       "│ u32       ┆ ---       ┆ ---       ┆ v…        ┆   ┆ ---       ┆ ---       ┆ u32       ┆ ---      │\n",
       "│           ┆ u32       ┆ u32       ┆ ---       ┆   ┆ u32       ┆ u32       ┆           ┆ u32      │\n",
       "│           ┆           ┆           ┆ u32       ┆   ┆           ┆           ┆           ┆          │\n",
       "╞═══════════╪═══════════╪═══════════╪═══════════╪═══╪═══════════╪═══════════╪═══════════╪══════════╡\n",
       "│ 0         ┆ 0         ┆ 0         ┆ 5         ┆ … ┆ 17        ┆ 3         ┆ 0         ┆ 0        │\n",
       "└───────────┴───────────┴───────────┴───────────┴───┴───────────┴───────────┴───────────┴──────────┘"
      ]
     },
     "execution_count": 16,
     "metadata": {},
     "output_type": "execute_result"
    }
   ],
   "source": [
    "missing_values = cleaned_df.select(\n",
    "    [\n",
    "        pl.col(col).is_null().sum().alias(f\"{col} missing values\")\n",
    "        for col in cleaned_df.columns\n",
    "    ]\n",
    ")\n",
    "missing_values"
   ]
  },
  {
   "cell_type": "markdown",
   "metadata": {},
   "source": [
    "Finally, we are going to save the processed dataset in a new file, in order to use it in the next notebooks."
   ]
  },
  {
   "cell_type": "code",
   "execution_count": 17,
   "metadata": {},
   "outputs": [],
   "source": [
    "cleaned_df.write_csv(\"../data/cleaned/data.csv\")"
   ]
  }
 ],
 "metadata": {
  "kernelspec": {
   "display_name": "Python 3",
   "language": "python",
   "name": "python3"
  },
  "language_info": {
   "codemirror_mode": {
    "name": "ipython",
    "version": 3
   },
   "file_extension": ".py",
   "mimetype": "text/x-python",
   "name": "python",
   "nbconvert_exporter": "python",
   "pygments_lexer": "ipython3",
   "version": "3.11.8"
  }
 },
 "nbformat": 4,
 "nbformat_minor": 2
}
