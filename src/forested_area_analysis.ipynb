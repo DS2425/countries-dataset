{
 "cells": [
  {
   "cell_type": "code",
   "execution_count": 1,
   "metadata": {},
   "outputs": [],
   "source": [
    "import polars as pl\n",
    "import matplotlib.pyplot as plt\n",
    "import seaborn as sns"
   ]
  },
  {
   "cell_type": "code",
   "execution_count": 2,
   "metadata": {},
   "outputs": [
    {
     "data": {
      "text/html": [
       "<div><style>\n",
       ".dataframe > thead > tr,\n",
       ".dataframe > tbody > tr {\n",
       "  text-align: right;\n",
       "  white-space: pre-wrap;\n",
       "}\n",
       "</style>\n",
       "<small>shape: (7, 2)</small><table border=\"1\" class=\"dataframe\"><thead><tr><th>Country</th><th>Forested Area (%)</th></tr><tr><td>str</td><td>f64</td></tr></thead><tbody><tr><td>&quot;Eswatini&quot;</td><td>null</td></tr><tr><td>&quot;Vatican City&quot;</td><td>null</td></tr><tr><td>&quot;Monaco&quot;</td><td>null</td></tr><tr><td>&quot;Nauru&quot;</td><td>null</td></tr><tr><td>&quot;North Macedonia&quot;</td><td>null</td></tr><tr><td>&quot;Palestinian National Authority&quot;</td><td>null</td></tr><tr><td>&quot;South Sudan&quot;</td><td>null</td></tr></tbody></table></div>"
      ],
      "text/plain": [
       "shape: (7, 2)\n",
       "┌────────────────────────────────┬───────────────────┐\n",
       "│ Country                        ┆ Forested Area (%) │\n",
       "│ ---                            ┆ ---               │\n",
       "│ str                            ┆ f64               │\n",
       "╞════════════════════════════════╪═══════════════════╡\n",
       "│ Eswatini                       ┆ null              │\n",
       "│ Vatican City                   ┆ null              │\n",
       "│ Monaco                         ┆ null              │\n",
       "│ Nauru                          ┆ null              │\n",
       "│ North Macedonia                ┆ null              │\n",
       "│ Palestinian National Authority ┆ null              │\n",
       "│ South Sudan                    ┆ null              │\n",
       "└────────────────────────────────┴───────────────────┘"
      ]
     },
     "execution_count": 2,
     "metadata": {},
     "output_type": "execute_result"
    }
   ],
   "source": [
    "world_df: pl.DataFrame = pl.read_csv(\n",
    "    \"../data/raw/world-data-2023.csv\", ignore_errors=True\n",
    ")\n",
    "\n",
    "# Now, we're going to convert this percentage column to float\n",
    "world_df = world_df.with_columns(\n",
    "    [\n",
    "        pl.col(\"Forested Area (%)\")\n",
    "        .str.strip_chars()\n",
    "        .str.replace_all(\"%\", \"\")\n",
    "        .cast(pl.Float64)\n",
    "    ]\n",
    ")\n",
    "\n",
    "# Filter countries where 'Forested Area (%)' is null or empty\n",
    "null_values = world_df.filter(\n",
    "    world_df[\"Forested Area (%)\"].is_null() | world_df[\"Forested Area (%)\"].is_nan()\n",
    ")\n",
    "\n",
    "null_values.select([\"Country\", \"Forested Area (%)\"])"
   ]
  },
  {
   "cell_type": "code",
   "execution_count": 3,
   "metadata": {},
   "outputs": [
    {
     "data": {
      "text/html": [
       "<div><style>\n",
       ".dataframe > thead > tr,\n",
       ".dataframe > tbody > tr {\n",
       "  text-align: right;\n",
       "  white-space: pre-wrap;\n",
       "}\n",
       "</style>\n",
       "<small>shape: (5, 34)</small><table border=\"1\" class=\"dataframe\"><thead><tr><th>Country Name</th><th>Country Code</th><th>1990</th><th>1991</th><th>1992</th><th>1993</th><th>1994</th><th>1995</th><th>1996</th><th>1997</th><th>1998</th><th>1999</th><th>2000</th><th>2001</th><th>2002</th><th>2003</th><th>2004</th><th>2005</th><th>2006</th><th>2007</th><th>2008</th><th>2009</th><th>2010</th><th>2011</th><th>2012</th><th>2013</th><th>2014</th><th>2015</th><th>2016</th><th>2017</th><th>2018</th><th>2019</th><th>2020</th><th>2021</th></tr><tr><td>str</td><td>str</td><td>f64</td><td>f64</td><td>f64</td><td>f64</td><td>f64</td><td>f64</td><td>f64</td><td>f64</td><td>f64</td><td>f64</td><td>f64</td><td>f64</td><td>f64</td><td>f64</td><td>f64</td><td>f64</td><td>f64</td><td>f64</td><td>f64</td><td>f64</td><td>f64</td><td>f64</td><td>f64</td><td>f64</td><td>f64</td><td>f64</td><td>f64</td><td>f64</td><td>f64</td><td>f64</td><td>f64</td><td>f64</td></tr></thead><tbody><tr><td>&quot;Afghanistan&quot;</td><td>&quot;AFG&quot;</td><td>1.852782</td><td>1.852782</td><td>1.852782</td><td>1.852782</td><td>1.852782</td><td>1.852782</td><td>1.852782</td><td>1.852782</td><td>1.852782</td><td>1.852782</td><td>1.852782</td><td>1.852782</td><td>1.852782</td><td>1.852782</td><td>1.852782</td><td>1.852782</td><td>1.852782</td><td>1.852782</td><td>1.852782</td><td>1.852782</td><td>1.852782</td><td>1.852782</td><td>1.852782</td><td>1.852782</td><td>1.852782</td><td>1.852782</td><td>1.852782</td><td>1.852782</td><td>1.852782</td><td>1.852782</td><td>1.852782</td><td>1.852782</td></tr><tr><td>&quot;Albania&quot;</td><td>&quot;ALB&quot;</td><td>28.788321</td><td>28.717153</td><td>28.645985</td><td>28.574818</td><td>28.50365</td><td>28.432482</td><td>28.361314</td><td>28.290146</td><td>28.218978</td><td>28.14781</td><td>28.076642</td><td>28.123248</td><td>28.169854</td><td>28.21646</td><td>28.263066</td><td>28.309672</td><td>28.356277</td><td>28.402883</td><td>28.449489</td><td>28.496095</td><td>28.542701</td><td>28.594653</td><td>28.646606</td><td>28.698558</td><td>28.750511</td><td>28.802464</td><td>28.80219</td><td>28.792062</td><td>28.791971</td><td>28.791971</td><td>28.791971</td><td>28.791971</td></tr><tr><td>&quot;Algeria&quot;</td><td>&quot;DZA&quot;</td><td>0.699908</td><td>0.696214</td><td>0.692519</td><td>0.688824</td><td>0.685129</td><td>0.681435</td><td>0.67774</td><td>0.674045</td><td>0.67035</td><td>0.666655</td><td>0.662961</td><td>0.677194</td><td>0.691427</td><td>0.705661</td><td>0.719894</td><td>0.734127</td><td>0.74836</td><td>0.762594</td><td>0.776827</td><td>0.79106</td><td>0.805294</td><td>0.808485</td><td>0.811675</td><td>0.814866</td><td>0.818057</td><td>0.821248</td><td>0.821248</td><td>0.81579</td><td>0.810332</td><td>0.81411</td><td>0.818309</td><td>0.822228</td></tr><tr><td>&quot;American Samoa&quot;</td><td>&quot;ASM&quot;</td><td>90.35</td><td>90.18</td><td>90.01</td><td>89.84</td><td>89.67</td><td>89.5</td><td>89.33</td><td>89.16</td><td>88.99</td><td>88.82</td><td>88.65</td><td>88.5</td><td>88.35</td><td>88.2</td><td>88.05</td><td>87.9</td><td>87.75</td><td>87.6</td><td>87.45</td><td>87.3</td><td>87.15</td><td>87.0</td><td>86.85</td><td>86.7</td><td>86.55</td><td>86.4</td><td>86.25</td><td>86.1</td><td>85.95</td><td>85.8</td><td>85.65</td><td>85.5</td></tr><tr><td>&quot;Andorra&quot;</td><td>&quot;AND&quot;</td><td>34.042553</td><td>34.042553</td><td>34.042553</td><td>34.042553</td><td>34.042553</td><td>34.042553</td><td>34.042553</td><td>34.042553</td><td>34.042553</td><td>34.042553</td><td>34.042553</td><td>34.042553</td><td>34.042553</td><td>34.042553</td><td>34.042553</td><td>34.042553</td><td>34.042553</td><td>34.042553</td><td>34.042553</td><td>34.042553</td><td>34.042553</td><td>34.042553</td><td>34.042553</td><td>34.042553</td><td>34.042553</td><td>34.042553</td><td>34.042553</td><td>34.042553</td><td>34.042553</td><td>34.042553</td><td>34.042553</td><td>34.042553</td></tr></tbody></table></div>"
      ],
      "text/plain": [
       "shape: (5, 34)\n",
       "┌───────────┬───────────┬───────────┬───────────┬───┬───────────┬───────────┬───────────┬──────────┐\n",
       "│ Country   ┆ Country   ┆ 1990      ┆ 1991      ┆ … ┆ 2018      ┆ 2019      ┆ 2020      ┆ 2021     │\n",
       "│ Name      ┆ Code      ┆ ---       ┆ ---       ┆   ┆ ---       ┆ ---       ┆ ---       ┆ ---      │\n",
       "│ ---       ┆ ---       ┆ f64       ┆ f64       ┆   ┆ f64       ┆ f64       ┆ f64       ┆ f64      │\n",
       "│ str       ┆ str       ┆           ┆           ┆   ┆           ┆           ┆           ┆          │\n",
       "╞═══════════╪═══════════╪═══════════╪═══════════╪═══╪═══════════╪═══════════╪═══════════╪══════════╡\n",
       "│ Afghanist ┆ AFG       ┆ 1.852782  ┆ 1.852782  ┆ … ┆ 1.852782  ┆ 1.852782  ┆ 1.852782  ┆ 1.852782 │\n",
       "│ an        ┆           ┆           ┆           ┆   ┆           ┆           ┆           ┆          │\n",
       "│ Albania   ┆ ALB       ┆ 28.788321 ┆ 28.717153 ┆ … ┆ 28.791971 ┆ 28.791971 ┆ 28.791971 ┆ 28.79197 │\n",
       "│           ┆           ┆           ┆           ┆   ┆           ┆           ┆           ┆ 1        │\n",
       "│ Algeria   ┆ DZA       ┆ 0.699908  ┆ 0.696214  ┆ … ┆ 0.810332  ┆ 0.81411   ┆ 0.818309  ┆ 0.822228 │\n",
       "│ American  ┆ ASM       ┆ 90.35     ┆ 90.18     ┆ … ┆ 85.95     ┆ 85.8      ┆ 85.65     ┆ 85.5     │\n",
       "│ Samoa     ┆           ┆           ┆           ┆   ┆           ┆           ┆           ┆          │\n",
       "│ Andorra   ┆ AND       ┆ 34.042553 ┆ 34.042553 ┆ … ┆ 34.042553 ┆ 34.042553 ┆ 34.042553 ┆ 34.04255 │\n",
       "│           ┆           ┆           ┆           ┆   ┆           ┆           ┆           ┆ 3        │\n",
       "└───────────┴───────────┴───────────┴───────────┴───┴───────────┴───────────┴───────────┴──────────┘"
      ]
     },
     "execution_count": 3,
     "metadata": {},
     "output_type": "execute_result"
    }
   ],
   "source": [
    "forest_df: pl.DataFrame = pl.read_csv(\n",
    "    \"../data/raw/forest_area_percent.csv\", ignore_errors=True\n",
    ")\n",
    "\n",
    "forest_df.head(5)"
   ]
  },
  {
   "cell_type": "code",
   "execution_count": 4,
   "metadata": {},
   "outputs": [
    {
     "data": {
      "image/png": "[encoded data removed]",
      "text/plain": [
       "<Figure size 1600x500 with 1 Axes>"
      ]
     },
     "metadata": {},
     "output_type": "display_data"
    }
   ],
   "source": [
    "pais = \"Eswatini\"\n",
    "years = [str(year) for year in range(1990, 2022)]\n",
    "forest_area = forest_df.filter(forest_df[\"Country Name\"] == pais).select(years).row(0)\n",
    "\n",
    "years_np = [int(a) for a in years]\n",
    "forest_area_np = list(forest_area)\n",
    "\n",
    "# Visualization using matplotlib library\n",
    "plt.figure(figsize=(16, 5))\n",
    "sns.lineplot(x=years_np, y=forest_area_np, marker=\"o\", label=pais)\n",
    "plt.title(f\"Evolución del Forest Area en {pais}\")\n",
    "plt.xlabel(\"Año\")\n",
    "plt.ylabel(\"Forest Area (%)\")\n",
    "plt.grid(True)\n",
    "plt.show()"
   ]
  },
  {
   "cell_type": "markdown",
   "metadata": {},
   "source": [
    "1. Eswatini sees an increase in its forest area consistently\n",
    "\n",
    "2. North Macedonia has kept its forest area linear since 2016\n",
    "\n",
    "3. South Sudan has maintained its forest area completely linearly\n",
    "\n",
    "4. Vatican City, Monaco, Nauru and Palestinian National Authority do not appear in the csv"
   ]
  },
  {
   "cell_type": "markdown",
   "metadata": {},
   "source": [
    "### Completing the Missing Data\n",
    "\n",
    "To complete the missing cells, we will proceed as follows:\n",
    "\n",
    "- For **Eswatini**, we can calculate the annual change rate and project it for 2023, applying the equation:\n",
    "\n",
    "  $$ \\text{Average change rate} = \\frac{FA_{2021} - FA_{1990}}{2021 - 1990} $$\n",
    "\n",
    "  $$ FA_{2023} = FA_{2021} \\times (1 + \\text{Average change rate})^2 $$\n",
    "\n",
    "- For **North Macedonia** and **South Sudan**, we can use the forest area values recorded in 2021.\n",
    "\n",
    "- Finally, for **Vatican City**, **Monaco**, and **Nauru**, we will manually fill in the cells by searching for these values for the year 2023.\n"
   ]
  },
  {
   "cell_type": "markdown",
   "metadata": {},
   "source": []
  },
  {
   "cell_type": "code",
   "execution_count": 5,
   "metadata": {},
   "outputs": [
    {
     "name": "stdout",
     "output_type": "stream",
     "text": [
      "Eswatini's Forest Area (2023):  29.13940359645161\n"
     ]
    },
    {
     "data": {
      "text/html": [
       "<div><style>\n",
       ".dataframe > thead > tr,\n",
       ".dataframe > tbody > tr {\n",
       "  text-align: right;\n",
       "  white-space: pre-wrap;\n",
       "}\n",
       "</style>\n",
       "<small>shape: (1, 34)</small><table border=\"1\" class=\"dataframe\"><thead><tr><th>Country Name</th><th>Country Code</th><th>1990</th><th>1991</th><th>1992</th><th>1993</th><th>1994</th><th>1995</th><th>1996</th><th>1997</th><th>1998</th><th>1999</th><th>2000</th><th>2001</th><th>2002</th><th>2003</th><th>2004</th><th>2005</th><th>2006</th><th>2007</th><th>2008</th><th>2009</th><th>2010</th><th>2011</th><th>2012</th><th>2013</th><th>2014</th><th>2015</th><th>2016</th><th>2017</th><th>2018</th><th>2019</th><th>2020</th><th>2021</th></tr><tr><td>str</td><td>str</td><td>f64</td><td>f64</td><td>f64</td><td>f64</td><td>f64</td><td>f64</td><td>f64</td><td>f64</td><td>f64</td><td>f64</td><td>f64</td><td>f64</td><td>f64</td><td>f64</td><td>f64</td><td>f64</td><td>f64</td><td>f64</td><td>f64</td><td>f64</td><td>f64</td><td>f64</td><td>f64</td><td>f64</td><td>f64</td><td>f64</td><td>f64</td><td>f64</td><td>f64</td><td>f64</td><td>f64</td><td>f64</td></tr></thead><tbody><tr><td>&quot;Eswatini&quot;</td><td>&quot;SWZ&quot;</td><td>26.810465</td><td>26.881047</td><td>26.951628</td><td>27.022209</td><td>27.092791</td><td>27.163372</td><td>27.233953</td><td>27.304535</td><td>27.375116</td><td>27.445698</td><td>27.516279</td><td>27.586919</td><td>27.657558</td><td>27.728198</td><td>27.798837</td><td>27.869477</td><td>27.940116</td><td>28.010756</td><td>28.081395</td><td>28.152035</td><td>28.222674</td><td>28.293256</td><td>28.363837</td><td>28.434419</td><td>28.505</td><td>28.575581</td><td>28.646512</td><td>28.71686</td><td>28.787209</td><td>28.857558</td><td>28.927907</td><td>28.998256</td></tr></tbody></table></div>"
      ],
      "text/plain": [
       "shape: (1, 34)\n",
       "┌───────────┬───────────┬───────────┬───────────┬───┬───────────┬───────────┬───────────┬──────────┐\n",
       "│ Country   ┆ Country   ┆ 1990      ┆ 1991      ┆ … ┆ 2018      ┆ 2019      ┆ 2020      ┆ 2021     │\n",
       "│ Name      ┆ Code      ┆ ---       ┆ ---       ┆   ┆ ---       ┆ ---       ┆ ---       ┆ ---      │\n",
       "│ ---       ┆ ---       ┆ f64       ┆ f64       ┆   ┆ f64       ┆ f64       ┆ f64       ┆ f64      │\n",
       "│ str       ┆ str       ┆           ┆           ┆   ┆           ┆           ┆           ┆          │\n",
       "╞═══════════╪═══════════╪═══════════╪═══════════╪═══╪═══════════╪═══════════╪═══════════╪══════════╡\n",
       "│ Eswatini  ┆ SWZ       ┆ 26.810465 ┆ 26.881047 ┆ … ┆ 28.787209 ┆ 28.857558 ┆ 28.927907 ┆ 28.99825 │\n",
       "│           ┆           ┆           ┆           ┆   ┆           ┆           ┆           ┆ 6        │\n",
       "└───────────┴───────────┴───────────┴───────────┴───┴───────────┴───────────┴───────────┴──────────┘"
      ]
     },
     "execution_count": 5,
     "metadata": {},
     "output_type": "execute_result"
    }
   ],
   "source": [
    "# Firstly, we filter the country Eswatini\n",
    "eswatini_df = forest_df.filter(pl.col(\"Country Name\") == \"Eswatini\")\n",
    "\n",
    "# Calculate the average change rate\n",
    "tasa_cambio = (eswatini_df[\"2021\"][0] - eswatini_df[\"1990\"][0]) / (2021 - 1990)\n",
    "\n",
    "# Extrapolate to 2023:\n",
    "fa_2023 = eswatini_df[\"2021\"][0] + 2 * tasa_cambio\n",
    "\n",
    "print(\"Eswatini's Forest Area (2023): \", fa_2023)\n",
    "eswatini_df"
   ]
  },
  {
   "cell_type": "code",
   "execution_count": 6,
   "metadata": {},
   "outputs": [
    {
     "data": {
      "text/html": [
       "<div><style>\n",
       ".dataframe > thead > tr,\n",
       ".dataframe > tbody > tr {\n",
       "  text-align: right;\n",
       "  white-space: pre-wrap;\n",
       "}\n",
       "</style>\n",
       "<small>shape: (4, 2)</small><table border=\"1\" class=\"dataframe\"><thead><tr><th>Country</th><th>Forested Area (%)</th></tr><tr><td>str</td><td>f64</td></tr></thead><tbody><tr><td>&quot;Eswatini&quot;</td><td>29.1</td></tr><tr><td>&quot;Ethiopia&quot;</td><td>12.5</td></tr><tr><td>&quot;Fiji&quot;</td><td>55.9</td></tr><tr><td>&quot;Finland&quot;</td><td>73.1</td></tr></tbody></table></div>"
      ],
      "text/plain": [
       "shape: (4, 2)\n",
       "┌──────────┬───────────────────┐\n",
       "│ Country  ┆ Forested Area (%) │\n",
       "│ ---      ┆ ---               │\n",
       "│ str      ┆ f64               │\n",
       "╞══════════╪═══════════════════╡\n",
       "│ Eswatini ┆ 29.1              │\n",
       "│ Ethiopia ┆ 12.5              │\n",
       "│ Fiji     ┆ 55.9              │\n",
       "│ Finland  ┆ 73.1              │\n",
       "└──────────┴───────────────────┘"
      ]
     },
     "execution_count": 6,
     "metadata": {},
     "output_type": "execute_result"
    }
   ],
   "source": [
    "# Now, we can update the value in the \"Forest Area (%)\" column of the world_df DataFrame\n",
    "forested_column = [col for col in world_df.columns if \"Forested\" in col]\n",
    "\n",
    "world_df = world_df.with_columns(\n",
    "    pl.when(pl.col(\"Country\") == \"Eswatini\")\n",
    "    .then(round(fa_2023, 1))\n",
    "    .otherwise(pl.col(forested_column))\n",
    "    .alias(\"Forested Area (%)\")\n",
    ")\n",
    "\n",
    "world_df[56:60].select([\"Country\", \"Forested Area (%)\"])"
   ]
  },
  {
   "cell_type": "markdown",
   "metadata": {},
   "source": [
    "As we have said before, for **North Macedonia** and **South Sudan**, we can use the forest area values recorded in 2021."
   ]
  },
  {
   "cell_type": "code",
   "execution_count": 7,
   "metadata": {},
   "outputs": [
    {
     "data": {
      "text/html": [
       "<div><style>\n",
       ".dataframe > thead > tr,\n",
       ".dataframe > tbody > tr {\n",
       "  text-align: right;\n",
       "  white-space: pre-wrap;\n",
       "}\n",
       "</style>\n",
       "<small>shape: (2, 2)</small><table border=\"1\" class=\"dataframe\"><thead><tr><th>Country</th><th>Forested Area (%)</th></tr><tr><td>str</td><td>f64</td></tr></thead><tbody><tr><td>&quot;North Macedonia&quot;</td><td>39.7</td></tr><tr><td>&quot;Norway&quot;</td><td>33.2</td></tr></tbody></table></div>"
      ],
      "text/plain": [
       "shape: (2, 2)\n",
       "┌─────────────────┬───────────────────┐\n",
       "│ Country         ┆ Forested Area (%) │\n",
       "│ ---             ┆ ---               │\n",
       "│ str             ┆ f64               │\n",
       "╞═════════════════╪═══════════════════╡\n",
       "│ North Macedonia ┆ 39.7              │\n",
       "│ Norway          ┆ 33.2              │\n",
       "└─────────────────┴───────────────────┘"
      ]
     },
     "execution_count": 7,
     "metadata": {},
     "output_type": "execute_result"
    }
   ],
   "source": [
    "ls_countries = [\"North Macedonia\", \"South Sudan\"]\n",
    "\n",
    "for country in ls_countries:\n",
    "    world_df = world_df.with_columns(\n",
    "        pl.when(pl.col(\"Country\") == country)\n",
    "        .then(round(forest_df.filter(pl.col(\"Country Name\") == country)[\"2021\"][0], 1))\n",
    "        .otherwise(pl.col(forested_column))\n",
    "        .alias(\"Forested Area (%)\")\n",
    "    )\n",
    "\n",
    "world_df[128:130].select([\"Country\", \"Forested Area (%)\"])"
   ]
  },
  {
   "cell_type": "code",
   "execution_count": 8,
   "metadata": {},
   "outputs": [
    {
     "data": {
      "text/html": [
       "<div><style>\n",
       ".dataframe > thead > tr,\n",
       ".dataframe > tbody > tr {\n",
       "  text-align: right;\n",
       "  white-space: pre-wrap;\n",
       "}\n",
       "</style>\n",
       "<small>shape: (2, 2)</small><table border=\"1\" class=\"dataframe\"><thead><tr><th>Country</th><th>Forested Area (%)</th></tr><tr><td>str</td><td>f64</td></tr></thead><tbody><tr><td>&quot;South Sudan&quot;</td><td>11.3</td></tr><tr><td>&quot;Spain&quot;</td><td>36.9</td></tr></tbody></table></div>"
      ],
      "text/plain": [
       "shape: (2, 2)\n",
       "┌─────────────┬───────────────────┐\n",
       "│ Country     ┆ Forested Area (%) │\n",
       "│ ---         ┆ ---               │\n",
       "│ str         ┆ f64               │\n",
       "╞═════════════╪═══════════════════╡\n",
       "│ South Sudan ┆ 11.3              │\n",
       "│ Spain       ┆ 36.9              │\n",
       "└─────────────┴───────────────────┘"
      ]
     },
     "execution_count": 8,
     "metadata": {},
     "output_type": "execute_result"
    }
   ],
   "source": [
    "world_df[163:165].select([\"Country\", \"Forested Area (%)\"])"
   ]
  },
  {
   "cell_type": "markdown",
   "metadata": {},
   "source": [
    "Finally, for **Vatican City**, **Monaco**, **Nauru** and **Palestinian National Authority**, we will manually fill in the cells by searching for these values for the year 2023.\n",
    "\n",
    "- **Vatican City:** Given its small size (0.17 km²) and high density of buildings, no specific data is available regarding forest coverage in Vatican City. It is likely that forested areas are minimal or nonexistent.\n",
    "\n",
    "- **Monaco:** Due to its limited land area (2 km²) and extremely high population density, Monaco lacks available space for forests. (infobae.com)\n",
    "\n",
    "- **Nauru:** This Pacific island, covering an area of 21 km², has undergone significant environmental degradation due to phosphate mining, resulting in the complete absence of forested land."
   ]
  },
  {
   "cell_type": "code",
   "execution_count": 9,
   "metadata": {},
   "outputs": [],
   "source": [
    "ls_countries = [\"Vatican City\", \"Monaco\", \"Nauru\", \"Palestinian National Authority\"]\n",
    "\n",
    "for i in range(0, len(ls_countries)):\n",
    "    world_df = world_df.with_columns(\n",
    "        pl.when(pl.col(\"Country\") == ls_countries[i])\n",
    "        .then(\n",
    "            round(1.68, 1)\n",
    "            if ls_countries[i] == \"Palestinian National Authority\"\n",
    "            else 0.0\n",
    "        )\n",
    "        .otherwise(pl.col(forested_column))\n",
    "        .alias(\"Forested Area (%)\")\n",
    "    )"
   ]
  },
  {
   "cell_type": "markdown",
   "metadata": {},
   "source": [
    "Now, we are going to display the number of missing values in each column."
   ]
  },
  {
   "cell_type": "code",
   "execution_count": 10,
   "metadata": {},
   "outputs": [
    {
     "data": {
      "text/html": [
       "<div><style>\n",
       ".dataframe > thead > tr,\n",
       ".dataframe > tbody > tr {\n",
       "  text-align: right;\n",
       "  white-space: pre-wrap;\n",
       "}\n",
       "</style>\n",
       "<small>shape: (1, 1)</small><table border=\"1\" class=\"dataframe\"><thead><tr><th>Forested Area (%) missing values</th></tr><tr><td>u32</td></tr></thead><tbody><tr><td>0</td></tr></tbody></table></div>"
      ],
      "text/plain": [
       "shape: (1, 1)\n",
       "┌─────────────────────────────────┐\n",
       "│ Forested Area (%) missing valu… │\n",
       "│ ---                             │\n",
       "│ u32                             │\n",
       "╞═════════════════════════════════╡\n",
       "│ 0                               │\n",
       "└─────────────────────────────────┘"
      ]
     },
     "execution_count": 10,
     "metadata": {},
     "output_type": "execute_result"
    }
   ],
   "source": [
    "missing_values = world_df.select(\n",
    "    pl.col(\"Forested Area (%)\")\n",
    "    .is_null()\n",
    "    .sum()\n",
    "    .alias(\"Forested Area (%) missing values\")\n",
    ")\n",
    "missing_values"
   ]
  }
 ],
 "metadata": {
  "kernelspec": {
   "display_name": "Python 3",
   "language": "python",
   "name": "python3"
  },
  "language_info": {
   "codemirror_mode": {
    "name": "ipython",
    "version": 3
   },
   "file_extension": ".py",
   "mimetype": "text/x-python",
   "name": "python",
   "nbconvert_exporter": "python",
   "pygments_lexer": "ipython3",
   "version": "3.11.8"
  }
 },
 "nbformat": 4,
 "nbformat_minor": 2
}
